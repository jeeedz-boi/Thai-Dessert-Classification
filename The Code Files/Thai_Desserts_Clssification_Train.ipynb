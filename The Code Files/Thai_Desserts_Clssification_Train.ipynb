{
  "nbformat": 4,
  "nbformat_minor": 0,
  "metadata": {
    "accelerator": "GPU",
    "colab": {
      "name": "Thai Desserts Clssification Train.ipynb",
      "provenance": [],
      "collapsed_sections": [
        "t5ubzvwWMuZp",
        "q1FvtN31_8xs",
        "QsDCwQ4QBxI1",
        "_r5_KuhjuRo8",
        "fvb_T06YjcR0"
      ]
    },
    "kernelspec": {
      "display_name": "Python 3",
      "name": "python3"
    }
  },
  "cells": [
    {
      "cell_type": "markdown",
      "metadata": {
        "id": "t5ubzvwWMuZp"
      },
      "source": [
        "# Import + Define Section"
      ]
    },
    {
      "cell_type": "code",
      "metadata": {
        "id": "u54cX7qvFLVh"
      },
      "source": [
        "import matplotlib.pyplot as plt\n",
        "import matplotlib\n",
        "import seaborn as sns\n",
        "import numpy as np\n",
        "import os\n",
        "import cv2\n",
        "import pandas as pd\n",
        "\n",
        "from sklearn.model_selection import train_test_split\n",
        "from sklearn import preprocessing\n",
        "from sklearn.metrics import f1_score\n",
        "from sklearn.metrics import confusion_matrix, plot_confusion_matrix, classification_report"
      ],
      "execution_count": null,
      "outputs": []
    },
    {
      "cell_type": "code",
      "metadata": {
        "id": "zcY1u5v-i-91"
      },
      "source": [
        "import tensorflow as tf\n",
        "import tensorflow_addons as tfa \n",
        "\n",
        "from tensorflow import keras \n",
        "from tensorflow.keras import layers\n",
        "from tensorflow.keras.models import Sequential\n",
        "from tensorflow.keras.layers import Dense, Dropout, Flatten\n",
        "from tensorflow.keras.layers import Conv2D, MaxPooling2D \n",
        "from tensorflow.keras.layers import GlobalAveragePooling2D\n",
        "from keras.callbacks import ModelCheckpoint\n",
        "from tensorflow.keras.layers.experimental import RandomFourierFeatures\n",
        "from tensorflow.keras.preprocessing.image import ImageDataGenerator\n",
        "\n",
        "from keras.metrics import Precision, Recall"
      ],
      "execution_count": null,
      "outputs": []
    },
    {
      "cell_type": "code",
      "metadata": {
        "colab": {
          "base_uri": "https://localhost:8080/"
        },
        "id": "cM3qa13AFve_",
        "outputId": "f07c92f6-d361-40d3-e7cf-3fadc23bf3c9"
      },
      "source": [
        "from google.colab import drive\n",
        "drive.mount('/content/drive', force_remount = True)"
      ],
      "execution_count": null,
      "outputs": [
        {
          "output_type": "stream",
          "text": [
            "Mounted at /content/drive\n"
          ],
          "name": "stdout"
        }
      ]
    },
    {
      "cell_type": "code",
      "metadata": {
        "id": "lEKfnN1VF1xj"
      },
      "source": [
        "dataset_path = \"/content/drive/My Drive/Colab Notebooks/Thai Dessert Dataset Augmented/Train\"\n",
        "dataset_test_path = \"/content/drive/My Drive/Colab Notebooks/Thai Dessert Dataset Augmented/Test\"\n",
        "saved_path = \"/content/drive/My Drive/Colab Notebooks/Thai Dessert Saved Models/\""
      ],
      "execution_count": null,
      "outputs": []
    },
    {
      "cell_type": "markdown",
      "metadata": {
        "id": "q1FvtN31_8xs"
      },
      "source": [
        "## Function Define"
      ]
    },
    {
      "cell_type": "code",
      "metadata": {
        "id": "6fvZIXjJ_7U-"
      },
      "source": [
        "def make_confusion_matrix(cf,\n",
        "                          group_names=None,\n",
        "                          categories='auto',\n",
        "                          count=True,\n",
        "                          percent=True,\n",
        "                          cbar=True,\n",
        "                          xyticks=True,\n",
        "                          xyplotlabels=True,\n",
        "                          sum_stats=True,\n",
        "                          figsize=None,\n",
        "                          cmap='Blues',\n",
        "                          title=None):\n",
        "    '''\n",
        "    This function will make a pretty plot of an sklearn Confusion Matrix cm using a Seaborn heatmap visualization.\n",
        "    Arguments\n",
        "    ---------\n",
        "    cf:            confusion matrix to be passed in\n",
        "    group_names:   List of strings that represent the labels row by row to be shown in each square.\n",
        "    categories:    List of strings containing the categories to be displayed on the x,y axis. Default is 'auto'\n",
        "    count:         If True, show the raw number in the confusion matrix. Default is True.\n",
        "    normalize:     If True, show the proportions for each category. Default is True.\n",
        "    cbar:          If True, show the color bar. The cbar values are based off the values in the confusion matrix.\n",
        "                   Default is True.\n",
        "    xyticks:       If True, show x and y ticks. Default is True.\n",
        "    xyplotlabels:  If True, show 'True Label' and 'Predicted Label' on the figure. Default is True.\n",
        "    sum_stats:     If True, display summary statistics below the figure. Default is True.\n",
        "    figsize:       Tuple representing the figure size. Default will be the matplotlib rcParams value.\n",
        "    cmap:          Colormap of the values displayed from matplotlib.pyplot.cm. Default is 'Blues'\n",
        "                   See http://matplotlib.org/examples/color/colormaps_reference.html\n",
        "                   \n",
        "    title:         Title for the heatmap. Default is None.\n",
        "    '''\n",
        "\n",
        "\n",
        "    # CODE TO GENERATE TEXT INSIDE EACH SQUARE\n",
        "    blanks = ['' for i in range(cf.size)]\n",
        "\n",
        "    if group_names and len(group_names)==cf.size:\n",
        "        group_labels = [\"{}\\n\".format(value) for value in group_names]\n",
        "    else:\n",
        "        group_labels = blanks\n",
        "\n",
        "    if count:\n",
        "        group_counts = [\"{0:0.0f}\\n\".format(value) for value in cf.flatten()]\n",
        "    else:\n",
        "        group_counts = blanks\n",
        "\n",
        "    if percent:\n",
        "        group_percentages = [\"{0:.2%}\".format(value) for value in cf.flatten()/np.sum(cf)]\n",
        "    else:\n",
        "        group_percentages = blanks\n",
        "\n",
        "    box_labels = [f\"{v1}{v2}{v3}\".strip() for v1, v2, v3 in zip(group_labels,group_counts,group_percentages)]\n",
        "    box_labels = np.asarray(box_labels).reshape(cf.shape[0],cf.shape[1])\n",
        "\n",
        "\n",
        "    # CODE TO GENERATE SUMMARY STATISTICS & TEXT FOR SUMMARY STATS\n",
        "    if sum_stats:\n",
        "        #Accuracy is sum of diagonal divided by total observations\n",
        "        accuracy  = np.trace(cf) / float(np.sum(cf))\n",
        "\n",
        "        #if it is a binary confusion matrix, show some more stats\n",
        "        if len(cf)==2:\n",
        "            #Metrics for Binary Confusion Matrices\n",
        "            precision = cf[1,1] / sum(cf[:,1])\n",
        "            recall    = cf[1,1] / sum(cf[1,:])\n",
        "            f1_score  = 2*precision*recall / (precision + recall)\n",
        "            stats_text = \"\\n\\nAccuracy={:0.3f}\\nPrecision={:0.3f}\\nRecall={:0.3f}\\nF1 Score={:0.3f}\".format(\n",
        "                accuracy,precision,recall,f1_score)\n",
        "        else:\n",
        "            stats_text = \"\\n\\nAccuracy={:0.3f}\".format(accuracy)\n",
        "    else:\n",
        "        stats_text = \"\"\n",
        "\n",
        "\n",
        "    # SET FIGURE PARAMETERS ACCORDING TO OTHER ARGUMENTS\n",
        "    if figsize==None:\n",
        "        #Get default figure size if not set\n",
        "        figsize = plt.rcParams.get('figure.figsize')\n",
        "\n",
        "    if xyticks==False:\n",
        "        #Do not show categories if xyticks is False\n",
        "        categories=False\n",
        "\n",
        "\n",
        "    # MAKE THE HEATMAP VISUALIZATION\n",
        "    plt.figure(figsize=figsize)\n",
        "    sns.heatmap(cf,annot=box_labels,fmt=\"\",cmap=cmap,cbar=cbar,xticklabels=categories,yticklabels=categories)\n",
        "\n",
        "    if xyplotlabels:\n",
        "        plt.ylabel('True label')\n",
        "        plt.xlabel('Predicted label' + stats_text)\n",
        "    else:\n",
        "        plt.xlabel(stats_text)\n",
        "    \n",
        "    if title:\n",
        "        plt.title(title)"
      ],
      "execution_count": null,
      "outputs": []
    },
    {
      "cell_type": "code",
      "metadata": {
        "id": "Qocml3xCi7Gr"
      },
      "source": [
        "from keras import backend as K\n",
        "\n",
        "def recall_m(y_true, y_pred):\n",
        "    true_positives = K.sum(K.round(K.clip(y_true * y_pred, 0, 1)))\n",
        "    possible_positives = K.sum(K.round(K.clip(y_true, 0, 1)))\n",
        "    recall = true_positives / (possible_positives + K.epsilon())\n",
        "    return recall\n",
        "\n",
        "def precision_m(y_true, y_pred):\n",
        "    true_positives = K.sum(K.round(K.clip(y_true * y_pred, 0, 1)))\n",
        "    predicted_positives = K.sum(K.round(K.clip(y_pred, 0, 1)))\n",
        "    precision = true_positives / (predicted_positives + K.epsilon())\n",
        "    return precision\n",
        "\n",
        "def f1_m(y_true, y_pred):\n",
        "    precision = precision_m(y_true, y_pred)\n",
        "    recall = recall_m(y_true, y_pred)\n",
        "    return 2*((precision*recall)/(precision+recall+K.epsilon()))"
      ],
      "execution_count": null,
      "outputs": []
    },
    {
      "cell_type": "markdown",
      "metadata": {
        "id": "QsDCwQ4QBxI1"
      },
      "source": [
        "# Transfer InceptionV3"
      ]
    },
    {
      "cell_type": "code",
      "metadata": {
        "colab": {
          "base_uri": "https://localhost:8080/"
        },
        "id": "K3glfx4bB0Ki",
        "outputId": "0425c5c2-34ec-461b-8aac-05cbe9d7a3b6"
      },
      "source": [
        "BATCH_SIZE = 32\n",
        "SHUFFLE_BUFFER_SIZE = 1000\n",
        "img_height = 160\n",
        "img_width = 160\n",
        "\n",
        "train_batches = tf.keras.preprocessing.image_dataset_from_directory(\n",
        "  dataset_path,\n",
        "  validation_split=0.2,\n",
        "  subset=\"training\",\n",
        "  seed=123,\n",
        "  shuffle = True,\n",
        "  image_size=(img_height, img_width),\n",
        "  batch_size=BATCH_SIZE,\n",
        "  label_mode='categorical')"
      ],
      "execution_count": null,
      "outputs": [
        {
          "output_type": "stream",
          "text": [
            "Found 8256 files belonging to 10 classes.\n",
            "Using 6605 files for training.\n"
          ],
          "name": "stdout"
        }
      ]
    },
    {
      "cell_type": "code",
      "metadata": {
        "colab": {
          "base_uri": "https://localhost:8080/"
        },
        "id": "mV6RRWvqB70g",
        "outputId": "b0b8a7fa-d881-45d2-8d37-8b6e2bee4ade"
      },
      "source": [
        "validation_batches = tf.keras.preprocessing.image_dataset_from_directory(\n",
        "  dataset_path,\n",
        "  validation_split=0.2,\n",
        "  subset=\"validation\",\n",
        "  seed=123,\n",
        "  shuffle = True,\n",
        "  image_size=(img_height, img_width),\n",
        "  batch_size=BATCH_SIZE,\n",
        "  label_mode='categorical')"
      ],
      "execution_count": null,
      "outputs": [
        {
          "output_type": "stream",
          "text": [
            "Found 8256 files belonging to 10 classes.\n",
            "Using 1651 files for validation.\n"
          ],
          "name": "stdout"
        }
      ]
    },
    {
      "cell_type": "code",
      "metadata": {
        "colab": {
          "base_uri": "https://localhost:8080/"
        },
        "id": "g6BT-mnBCAsE",
        "outputId": "d71d51a0-32d9-484d-ecff-c523c38e53f2"
      },
      "source": [
        "class_names = train_batches.class_names\n",
        "print(class_names)\n",
        "print(train_batches)\n",
        "print(validation_batches)"
      ],
      "execution_count": null,
      "outputs": [
        {
          "output_type": "stream",
          "text": [
            "['kanom_bua_loi', 'kanom_chan', 'kanom_dok_jok', 'kanom_kai_tao', 'kanom_krok', 'kanom_phoi_tong', 'kanom_salim', 'kanom_sangkhaya_faktong', 'kanom_tong_yib', 'kanom_tong_yod']\n",
            "<BatchDataset shapes: ((None, 160, 160, 3), (None, 10)), types: (tf.float32, tf.float32)>\n",
            "<BatchDataset shapes: ((None, 160, 160, 3), (None, 10)), types: (tf.float32, tf.float32)>\n"
          ],
          "name": "stdout"
        }
      ]
    },
    {
      "cell_type": "code",
      "metadata": {
        "colab": {
          "base_uri": "https://localhost:8080/"
        },
        "id": "60nkC6xzCGBU",
        "outputId": "13e16f3d-06f9-4dcd-b5dc-b4ad421e46ea"
      },
      "source": [
        "IMG_SHAPE = (160, 160, 3)\n",
        "\n",
        "# Create the base model from the pre-trained model MobileNet V2\n",
        "base_model = tf.keras.applications.InceptionV3(input_shape=IMG_SHAPE,\n",
        "                                               include_top=False,\n",
        "                                               weights='imagenet',\n",
        "                                               classifier_activation=\"softmax\")\n",
        "base_model.trainable = False\n",
        "\n",
        "# Let's take a look at the base model architecture\n",
        "base_model.summary()"
      ],
      "execution_count": null,
      "outputs": [
        {
          "output_type": "stream",
          "text": [
            "Downloading data from https://storage.googleapis.com/tensorflow/keras-applications/inception_v3/inception_v3_weights_tf_dim_ordering_tf_kernels_notop.h5\n",
            "87916544/87910968 [==============================] - 1s 0us/step\n",
            "Model: \"inception_v3\"\n",
            "__________________________________________________________________________________________________\n",
            "Layer (type)                    Output Shape         Param #     Connected to                     \n",
            "==================================================================================================\n",
            "input_2 (InputLayer)            [(None, 160, 160, 3) 0                                            \n",
            "__________________________________________________________________________________________________\n",
            "conv2d (Conv2D)                 (None, 79, 79, 32)   864         input_2[0][0]                    \n",
            "__________________________________________________________________________________________________\n",
            "batch_normalization (BatchNorma (None, 79, 79, 32)   96          conv2d[0][0]                     \n",
            "__________________________________________________________________________________________________\n",
            "activation (Activation)         (None, 79, 79, 32)   0           batch_normalization[0][0]        \n",
            "__________________________________________________________________________________________________\n",
            "conv2d_1 (Conv2D)               (None, 77, 77, 32)   9216        activation[0][0]                 \n",
            "__________________________________________________________________________________________________\n",
            "batch_normalization_1 (BatchNor (None, 77, 77, 32)   96          conv2d_1[0][0]                   \n",
            "__________________________________________________________________________________________________\n",
            "activation_1 (Activation)       (None, 77, 77, 32)   0           batch_normalization_1[0][0]      \n",
            "__________________________________________________________________________________________________\n",
            "conv2d_2 (Conv2D)               (None, 77, 77, 64)   18432       activation_1[0][0]               \n",
            "__________________________________________________________________________________________________\n",
            "batch_normalization_2 (BatchNor (None, 77, 77, 64)   192         conv2d_2[0][0]                   \n",
            "__________________________________________________________________________________________________\n",
            "activation_2 (Activation)       (None, 77, 77, 64)   0           batch_normalization_2[0][0]      \n",
            "__________________________________________________________________________________________________\n",
            "max_pooling2d (MaxPooling2D)    (None, 38, 38, 64)   0           activation_2[0][0]               \n",
            "__________________________________________________________________________________________________\n",
            "conv2d_3 (Conv2D)               (None, 38, 38, 80)   5120        max_pooling2d[0][0]              \n",
            "__________________________________________________________________________________________________\n",
            "batch_normalization_3 (BatchNor (None, 38, 38, 80)   240         conv2d_3[0][0]                   \n",
            "__________________________________________________________________________________________________\n",
            "activation_3 (Activation)       (None, 38, 38, 80)   0           batch_normalization_3[0][0]      \n",
            "__________________________________________________________________________________________________\n",
            "conv2d_4 (Conv2D)               (None, 36, 36, 192)  138240      activation_3[0][0]               \n",
            "__________________________________________________________________________________________________\n",
            "batch_normalization_4 (BatchNor (None, 36, 36, 192)  576         conv2d_4[0][0]                   \n",
            "__________________________________________________________________________________________________\n",
            "activation_4 (Activation)       (None, 36, 36, 192)  0           batch_normalization_4[0][0]      \n",
            "__________________________________________________________________________________________________\n",
            "max_pooling2d_1 (MaxPooling2D)  (None, 17, 17, 192)  0           activation_4[0][0]               \n",
            "__________________________________________________________________________________________________\n",
            "conv2d_8 (Conv2D)               (None, 17, 17, 64)   12288       max_pooling2d_1[0][0]            \n",
            "__________________________________________________________________________________________________\n",
            "batch_normalization_8 (BatchNor (None, 17, 17, 64)   192         conv2d_8[0][0]                   \n",
            "__________________________________________________________________________________________________\n",
            "activation_8 (Activation)       (None, 17, 17, 64)   0           batch_normalization_8[0][0]      \n",
            "__________________________________________________________________________________________________\n",
            "conv2d_6 (Conv2D)               (None, 17, 17, 48)   9216        max_pooling2d_1[0][0]            \n",
            "__________________________________________________________________________________________________\n",
            "conv2d_9 (Conv2D)               (None, 17, 17, 96)   55296       activation_8[0][0]               \n",
            "__________________________________________________________________________________________________\n",
            "batch_normalization_6 (BatchNor (None, 17, 17, 48)   144         conv2d_6[0][0]                   \n",
            "__________________________________________________________________________________________________\n",
            "batch_normalization_9 (BatchNor (None, 17, 17, 96)   288         conv2d_9[0][0]                   \n",
            "__________________________________________________________________________________________________\n",
            "activation_6 (Activation)       (None, 17, 17, 48)   0           batch_normalization_6[0][0]      \n",
            "__________________________________________________________________________________________________\n",
            "activation_9 (Activation)       (None, 17, 17, 96)   0           batch_normalization_9[0][0]      \n",
            "__________________________________________________________________________________________________\n",
            "average_pooling2d (AveragePooli (None, 17, 17, 192)  0           max_pooling2d_1[0][0]            \n",
            "__________________________________________________________________________________________________\n",
            "conv2d_5 (Conv2D)               (None, 17, 17, 64)   12288       max_pooling2d_1[0][0]            \n",
            "__________________________________________________________________________________________________\n",
            "conv2d_7 (Conv2D)               (None, 17, 17, 64)   76800       activation_6[0][0]               \n",
            "__________________________________________________________________________________________________\n",
            "conv2d_10 (Conv2D)              (None, 17, 17, 96)   82944       activation_9[0][0]               \n",
            "__________________________________________________________________________________________________\n",
            "conv2d_11 (Conv2D)              (None, 17, 17, 32)   6144        average_pooling2d[0][0]          \n",
            "__________________________________________________________________________________________________\n",
            "batch_normalization_5 (BatchNor (None, 17, 17, 64)   192         conv2d_5[0][0]                   \n",
            "__________________________________________________________________________________________________\n",
            "batch_normalization_7 (BatchNor (None, 17, 17, 64)   192         conv2d_7[0][0]                   \n",
            "__________________________________________________________________________________________________\n",
            "batch_normalization_10 (BatchNo (None, 17, 17, 96)   288         conv2d_10[0][0]                  \n",
            "__________________________________________________________________________________________________\n",
            "batch_normalization_11 (BatchNo (None, 17, 17, 32)   96          conv2d_11[0][0]                  \n",
            "__________________________________________________________________________________________________\n",
            "activation_5 (Activation)       (None, 17, 17, 64)   0           batch_normalization_5[0][0]      \n",
            "__________________________________________________________________________________________________\n",
            "activation_7 (Activation)       (None, 17, 17, 64)   0           batch_normalization_7[0][0]      \n",
            "__________________________________________________________________________________________________\n",
            "activation_10 (Activation)      (None, 17, 17, 96)   0           batch_normalization_10[0][0]     \n",
            "__________________________________________________________________________________________________\n",
            "activation_11 (Activation)      (None, 17, 17, 32)   0           batch_normalization_11[0][0]     \n",
            "__________________________________________________________________________________________________\n",
            "mixed0 (Concatenate)            (None, 17, 17, 256)  0           activation_5[0][0]               \n",
            "                                                                 activation_7[0][0]               \n",
            "                                                                 activation_10[0][0]              \n",
            "                                                                 activation_11[0][0]              \n",
            "__________________________________________________________________________________________________\n",
            "conv2d_15 (Conv2D)              (None, 17, 17, 64)   16384       mixed0[0][0]                     \n",
            "__________________________________________________________________________________________________\n",
            "batch_normalization_15 (BatchNo (None, 17, 17, 64)   192         conv2d_15[0][0]                  \n",
            "__________________________________________________________________________________________________\n",
            "activation_15 (Activation)      (None, 17, 17, 64)   0           batch_normalization_15[0][0]     \n",
            "__________________________________________________________________________________________________\n",
            "conv2d_13 (Conv2D)              (None, 17, 17, 48)   12288       mixed0[0][0]                     \n",
            "__________________________________________________________________________________________________\n",
            "conv2d_16 (Conv2D)              (None, 17, 17, 96)   55296       activation_15[0][0]              \n",
            "__________________________________________________________________________________________________\n",
            "batch_normalization_13 (BatchNo (None, 17, 17, 48)   144         conv2d_13[0][0]                  \n",
            "__________________________________________________________________________________________________\n",
            "batch_normalization_16 (BatchNo (None, 17, 17, 96)   288         conv2d_16[0][0]                  \n",
            "__________________________________________________________________________________________________\n",
            "activation_13 (Activation)      (None, 17, 17, 48)   0           batch_normalization_13[0][0]     \n",
            "__________________________________________________________________________________________________\n",
            "activation_16 (Activation)      (None, 17, 17, 96)   0           batch_normalization_16[0][0]     \n",
            "__________________________________________________________________________________________________\n",
            "average_pooling2d_1 (AveragePoo (None, 17, 17, 256)  0           mixed0[0][0]                     \n",
            "__________________________________________________________________________________________________\n",
            "conv2d_12 (Conv2D)              (None, 17, 17, 64)   16384       mixed0[0][0]                     \n",
            "__________________________________________________________________________________________________\n",
            "conv2d_14 (Conv2D)              (None, 17, 17, 64)   76800       activation_13[0][0]              \n",
            "__________________________________________________________________________________________________\n",
            "conv2d_17 (Conv2D)              (None, 17, 17, 96)   82944       activation_16[0][0]              \n",
            "__________________________________________________________________________________________________\n",
            "conv2d_18 (Conv2D)              (None, 17, 17, 64)   16384       average_pooling2d_1[0][0]        \n",
            "__________________________________________________________________________________________________\n",
            "batch_normalization_12 (BatchNo (None, 17, 17, 64)   192         conv2d_12[0][0]                  \n",
            "__________________________________________________________________________________________________\n",
            "batch_normalization_14 (BatchNo (None, 17, 17, 64)   192         conv2d_14[0][0]                  \n",
            "__________________________________________________________________________________________________\n",
            "batch_normalization_17 (BatchNo (None, 17, 17, 96)   288         conv2d_17[0][0]                  \n",
            "__________________________________________________________________________________________________\n",
            "batch_normalization_18 (BatchNo (None, 17, 17, 64)   192         conv2d_18[0][0]                  \n",
            "__________________________________________________________________________________________________\n",
            "activation_12 (Activation)      (None, 17, 17, 64)   0           batch_normalization_12[0][0]     \n",
            "__________________________________________________________________________________________________\n",
            "activation_14 (Activation)      (None, 17, 17, 64)   0           batch_normalization_14[0][0]     \n",
            "__________________________________________________________________________________________________\n",
            "activation_17 (Activation)      (None, 17, 17, 96)   0           batch_normalization_17[0][0]     \n",
            "__________________________________________________________________________________________________\n",
            "activation_18 (Activation)      (None, 17, 17, 64)   0           batch_normalization_18[0][0]     \n",
            "__________________________________________________________________________________________________\n",
            "mixed1 (Concatenate)            (None, 17, 17, 288)  0           activation_12[0][0]              \n",
            "                                                                 activation_14[0][0]              \n",
            "                                                                 activation_17[0][0]              \n",
            "                                                                 activation_18[0][0]              \n",
            "__________________________________________________________________________________________________\n",
            "conv2d_22 (Conv2D)              (None, 17, 17, 64)   18432       mixed1[0][0]                     \n",
            "__________________________________________________________________________________________________\n",
            "batch_normalization_22 (BatchNo (None, 17, 17, 64)   192         conv2d_22[0][0]                  \n",
            "__________________________________________________________________________________________________\n",
            "activation_22 (Activation)      (None, 17, 17, 64)   0           batch_normalization_22[0][0]     \n",
            "__________________________________________________________________________________________________\n",
            "conv2d_20 (Conv2D)              (None, 17, 17, 48)   13824       mixed1[0][0]                     \n",
            "__________________________________________________________________________________________________\n",
            "conv2d_23 (Conv2D)              (None, 17, 17, 96)   55296       activation_22[0][0]              \n",
            "__________________________________________________________________________________________________\n",
            "batch_normalization_20 (BatchNo (None, 17, 17, 48)   144         conv2d_20[0][0]                  \n",
            "__________________________________________________________________________________________________\n",
            "batch_normalization_23 (BatchNo (None, 17, 17, 96)   288         conv2d_23[0][0]                  \n",
            "__________________________________________________________________________________________________\n",
            "activation_20 (Activation)      (None, 17, 17, 48)   0           batch_normalization_20[0][0]     \n",
            "__________________________________________________________________________________________________\n",
            "activation_23 (Activation)      (None, 17, 17, 96)   0           batch_normalization_23[0][0]     \n",
            "__________________________________________________________________________________________________\n",
            "average_pooling2d_2 (AveragePoo (None, 17, 17, 288)  0           mixed1[0][0]                     \n",
            "__________________________________________________________________________________________________\n",
            "conv2d_19 (Conv2D)              (None, 17, 17, 64)   18432       mixed1[0][0]                     \n",
            "__________________________________________________________________________________________________\n",
            "conv2d_21 (Conv2D)              (None, 17, 17, 64)   76800       activation_20[0][0]              \n",
            "__________________________________________________________________________________________________\n",
            "conv2d_24 (Conv2D)              (None, 17, 17, 96)   82944       activation_23[0][0]              \n",
            "__________________________________________________________________________________________________\n",
            "conv2d_25 (Conv2D)              (None, 17, 17, 64)   18432       average_pooling2d_2[0][0]        \n",
            "__________________________________________________________________________________________________\n",
            "batch_normalization_19 (BatchNo (None, 17, 17, 64)   192         conv2d_19[0][0]                  \n",
            "__________________________________________________________________________________________________\n",
            "batch_normalization_21 (BatchNo (None, 17, 17, 64)   192         conv2d_21[0][0]                  \n",
            "__________________________________________________________________________________________________\n",
            "batch_normalization_24 (BatchNo (None, 17, 17, 96)   288         conv2d_24[0][0]                  \n",
            "__________________________________________________________________________________________________\n",
            "batch_normalization_25 (BatchNo (None, 17, 17, 64)   192         conv2d_25[0][0]                  \n",
            "__________________________________________________________________________________________________\n",
            "activation_19 (Activation)      (None, 17, 17, 64)   0           batch_normalization_19[0][0]     \n",
            "__________________________________________________________________________________________________\n",
            "activation_21 (Activation)      (None, 17, 17, 64)   0           batch_normalization_21[0][0]     \n",
            "__________________________________________________________________________________________________\n",
            "activation_24 (Activation)      (None, 17, 17, 96)   0           batch_normalization_24[0][0]     \n",
            "__________________________________________________________________________________________________\n",
            "activation_25 (Activation)      (None, 17, 17, 64)   0           batch_normalization_25[0][0]     \n",
            "__________________________________________________________________________________________________\n",
            "mixed2 (Concatenate)            (None, 17, 17, 288)  0           activation_19[0][0]              \n",
            "                                                                 activation_21[0][0]              \n",
            "                                                                 activation_24[0][0]              \n",
            "                                                                 activation_25[0][0]              \n",
            "__________________________________________________________________________________________________\n",
            "conv2d_27 (Conv2D)              (None, 17, 17, 64)   18432       mixed2[0][0]                     \n",
            "__________________________________________________________________________________________________\n",
            "batch_normalization_27 (BatchNo (None, 17, 17, 64)   192         conv2d_27[0][0]                  \n",
            "__________________________________________________________________________________________________\n",
            "activation_27 (Activation)      (None, 17, 17, 64)   0           batch_normalization_27[0][0]     \n",
            "__________________________________________________________________________________________________\n",
            "conv2d_28 (Conv2D)              (None, 17, 17, 96)   55296       activation_27[0][0]              \n",
            "__________________________________________________________________________________________________\n",
            "batch_normalization_28 (BatchNo (None, 17, 17, 96)   288         conv2d_28[0][0]                  \n",
            "__________________________________________________________________________________________________\n",
            "activation_28 (Activation)      (None, 17, 17, 96)   0           batch_normalization_28[0][0]     \n",
            "__________________________________________________________________________________________________\n",
            "conv2d_26 (Conv2D)              (None, 8, 8, 384)    995328      mixed2[0][0]                     \n",
            "__________________________________________________________________________________________________\n",
            "conv2d_29 (Conv2D)              (None, 8, 8, 96)     82944       activation_28[0][0]              \n",
            "__________________________________________________________________________________________________\n",
            "batch_normalization_26 (BatchNo (None, 8, 8, 384)    1152        conv2d_26[0][0]                  \n",
            "__________________________________________________________________________________________________\n",
            "batch_normalization_29 (BatchNo (None, 8, 8, 96)     288         conv2d_29[0][0]                  \n",
            "__________________________________________________________________________________________________\n",
            "activation_26 (Activation)      (None, 8, 8, 384)    0           batch_normalization_26[0][0]     \n",
            "__________________________________________________________________________________________________\n",
            "activation_29 (Activation)      (None, 8, 8, 96)     0           batch_normalization_29[0][0]     \n",
            "__________________________________________________________________________________________________\n",
            "max_pooling2d_2 (MaxPooling2D)  (None, 8, 8, 288)    0           mixed2[0][0]                     \n",
            "__________________________________________________________________________________________________\n",
            "mixed3 (Concatenate)            (None, 8, 8, 768)    0           activation_26[0][0]              \n",
            "                                                                 activation_29[0][0]              \n",
            "                                                                 max_pooling2d_2[0][0]            \n",
            "__________________________________________________________________________________________________\n",
            "conv2d_34 (Conv2D)              (None, 8, 8, 128)    98304       mixed3[0][0]                     \n",
            "__________________________________________________________________________________________________\n",
            "batch_normalization_34 (BatchNo (None, 8, 8, 128)    384         conv2d_34[0][0]                  \n",
            "__________________________________________________________________________________________________\n",
            "activation_34 (Activation)      (None, 8, 8, 128)    0           batch_normalization_34[0][0]     \n",
            "__________________________________________________________________________________________________\n",
            "conv2d_35 (Conv2D)              (None, 8, 8, 128)    114688      activation_34[0][0]              \n",
            "__________________________________________________________________________________________________\n",
            "batch_normalization_35 (BatchNo (None, 8, 8, 128)    384         conv2d_35[0][0]                  \n",
            "__________________________________________________________________________________________________\n",
            "activation_35 (Activation)      (None, 8, 8, 128)    0           batch_normalization_35[0][0]     \n",
            "__________________________________________________________________________________________________\n",
            "conv2d_31 (Conv2D)              (None, 8, 8, 128)    98304       mixed3[0][0]                     \n",
            "__________________________________________________________________________________________________\n",
            "conv2d_36 (Conv2D)              (None, 8, 8, 128)    114688      activation_35[0][0]              \n",
            "__________________________________________________________________________________________________\n",
            "batch_normalization_31 (BatchNo (None, 8, 8, 128)    384         conv2d_31[0][0]                  \n",
            "__________________________________________________________________________________________________\n",
            "batch_normalization_36 (BatchNo (None, 8, 8, 128)    384         conv2d_36[0][0]                  \n",
            "__________________________________________________________________________________________________\n",
            "activation_31 (Activation)      (None, 8, 8, 128)    0           batch_normalization_31[0][0]     \n",
            "__________________________________________________________________________________________________\n",
            "activation_36 (Activation)      (None, 8, 8, 128)    0           batch_normalization_36[0][0]     \n",
            "__________________________________________________________________________________________________\n",
            "conv2d_32 (Conv2D)              (None, 8, 8, 128)    114688      activation_31[0][0]              \n",
            "__________________________________________________________________________________________________\n",
            "conv2d_37 (Conv2D)              (None, 8, 8, 128)    114688      activation_36[0][0]              \n",
            "__________________________________________________________________________________________________\n",
            "batch_normalization_32 (BatchNo (None, 8, 8, 128)    384         conv2d_32[0][0]                  \n",
            "__________________________________________________________________________________________________\n",
            "batch_normalization_37 (BatchNo (None, 8, 8, 128)    384         conv2d_37[0][0]                  \n",
            "__________________________________________________________________________________________________\n",
            "activation_32 (Activation)      (None, 8, 8, 128)    0           batch_normalization_32[0][0]     \n",
            "__________________________________________________________________________________________________\n",
            "activation_37 (Activation)      (None, 8, 8, 128)    0           batch_normalization_37[0][0]     \n",
            "__________________________________________________________________________________________________\n",
            "average_pooling2d_3 (AveragePoo (None, 8, 8, 768)    0           mixed3[0][0]                     \n",
            "__________________________________________________________________________________________________\n",
            "conv2d_30 (Conv2D)              (None, 8, 8, 192)    147456      mixed3[0][0]                     \n",
            "__________________________________________________________________________________________________\n",
            "conv2d_33 (Conv2D)              (None, 8, 8, 192)    172032      activation_32[0][0]              \n",
            "__________________________________________________________________________________________________\n",
            "conv2d_38 (Conv2D)              (None, 8, 8, 192)    172032      activation_37[0][0]              \n",
            "__________________________________________________________________________________________________\n",
            "conv2d_39 (Conv2D)              (None, 8, 8, 192)    147456      average_pooling2d_3[0][0]        \n",
            "__________________________________________________________________________________________________\n",
            "batch_normalization_30 (BatchNo (None, 8, 8, 192)    576         conv2d_30[0][0]                  \n",
            "__________________________________________________________________________________________________\n",
            "batch_normalization_33 (BatchNo (None, 8, 8, 192)    576         conv2d_33[0][0]                  \n",
            "__________________________________________________________________________________________________\n",
            "batch_normalization_38 (BatchNo (None, 8, 8, 192)    576         conv2d_38[0][0]                  \n",
            "__________________________________________________________________________________________________\n",
            "batch_normalization_39 (BatchNo (None, 8, 8, 192)    576         conv2d_39[0][0]                  \n",
            "__________________________________________________________________________________________________\n",
            "activation_30 (Activation)      (None, 8, 8, 192)    0           batch_normalization_30[0][0]     \n",
            "__________________________________________________________________________________________________\n",
            "activation_33 (Activation)      (None, 8, 8, 192)    0           batch_normalization_33[0][0]     \n",
            "__________________________________________________________________________________________________\n",
            "activation_38 (Activation)      (None, 8, 8, 192)    0           batch_normalization_38[0][0]     \n",
            "__________________________________________________________________________________________________\n",
            "activation_39 (Activation)      (None, 8, 8, 192)    0           batch_normalization_39[0][0]     \n",
            "__________________________________________________________________________________________________\n",
            "mixed4 (Concatenate)            (None, 8, 8, 768)    0           activation_30[0][0]              \n",
            "                                                                 activation_33[0][0]              \n",
            "                                                                 activation_38[0][0]              \n",
            "                                                                 activation_39[0][0]              \n",
            "__________________________________________________________________________________________________\n",
            "conv2d_44 (Conv2D)              (None, 8, 8, 160)    122880      mixed4[0][0]                     \n",
            "__________________________________________________________________________________________________\n",
            "batch_normalization_44 (BatchNo (None, 8, 8, 160)    480         conv2d_44[0][0]                  \n",
            "__________________________________________________________________________________________________\n",
            "activation_44 (Activation)      (None, 8, 8, 160)    0           batch_normalization_44[0][0]     \n",
            "__________________________________________________________________________________________________\n",
            "conv2d_45 (Conv2D)              (None, 8, 8, 160)    179200      activation_44[0][0]              \n",
            "__________________________________________________________________________________________________\n",
            "batch_normalization_45 (BatchNo (None, 8, 8, 160)    480         conv2d_45[0][0]                  \n",
            "__________________________________________________________________________________________________\n",
            "activation_45 (Activation)      (None, 8, 8, 160)    0           batch_normalization_45[0][0]     \n",
            "__________________________________________________________________________________________________\n",
            "conv2d_41 (Conv2D)              (None, 8, 8, 160)    122880      mixed4[0][0]                     \n",
            "__________________________________________________________________________________________________\n",
            "conv2d_46 (Conv2D)              (None, 8, 8, 160)    179200      activation_45[0][0]              \n",
            "__________________________________________________________________________________________________\n",
            "batch_normalization_41 (BatchNo (None, 8, 8, 160)    480         conv2d_41[0][0]                  \n",
            "__________________________________________________________________________________________________\n",
            "batch_normalization_46 (BatchNo (None, 8, 8, 160)    480         conv2d_46[0][0]                  \n",
            "__________________________________________________________________________________________________\n",
            "activation_41 (Activation)      (None, 8, 8, 160)    0           batch_normalization_41[0][0]     \n",
            "__________________________________________________________________________________________________\n",
            "activation_46 (Activation)      (None, 8, 8, 160)    0           batch_normalization_46[0][0]     \n",
            "__________________________________________________________________________________________________\n",
            "conv2d_42 (Conv2D)              (None, 8, 8, 160)    179200      activation_41[0][0]              \n",
            "__________________________________________________________________________________________________\n",
            "conv2d_47 (Conv2D)              (None, 8, 8, 160)    179200      activation_46[0][0]              \n",
            "__________________________________________________________________________________________________\n",
            "batch_normalization_42 (BatchNo (None, 8, 8, 160)    480         conv2d_42[0][0]                  \n",
            "__________________________________________________________________________________________________\n",
            "batch_normalization_47 (BatchNo (None, 8, 8, 160)    480         conv2d_47[0][0]                  \n",
            "__________________________________________________________________________________________________\n",
            "activation_42 (Activation)      (None, 8, 8, 160)    0           batch_normalization_42[0][0]     \n",
            "__________________________________________________________________________________________________\n",
            "activation_47 (Activation)      (None, 8, 8, 160)    0           batch_normalization_47[0][0]     \n",
            "__________________________________________________________________________________________________\n",
            "average_pooling2d_4 (AveragePoo (None, 8, 8, 768)    0           mixed4[0][0]                     \n",
            "__________________________________________________________________________________________________\n",
            "conv2d_40 (Conv2D)              (None, 8, 8, 192)    147456      mixed4[0][0]                     \n",
            "__________________________________________________________________________________________________\n",
            "conv2d_43 (Conv2D)              (None, 8, 8, 192)    215040      activation_42[0][0]              \n",
            "__________________________________________________________________________________________________\n",
            "conv2d_48 (Conv2D)              (None, 8, 8, 192)    215040      activation_47[0][0]              \n",
            "__________________________________________________________________________________________________\n",
            "conv2d_49 (Conv2D)              (None, 8, 8, 192)    147456      average_pooling2d_4[0][0]        \n",
            "__________________________________________________________________________________________________\n",
            "batch_normalization_40 (BatchNo (None, 8, 8, 192)    576         conv2d_40[0][0]                  \n",
            "__________________________________________________________________________________________________\n",
            "batch_normalization_43 (BatchNo (None, 8, 8, 192)    576         conv2d_43[0][0]                  \n",
            "__________________________________________________________________________________________________\n",
            "batch_normalization_48 (BatchNo (None, 8, 8, 192)    576         conv2d_48[0][0]                  \n",
            "__________________________________________________________________________________________________\n",
            "batch_normalization_49 (BatchNo (None, 8, 8, 192)    576         conv2d_49[0][0]                  \n",
            "__________________________________________________________________________________________________\n",
            "activation_40 (Activation)      (None, 8, 8, 192)    0           batch_normalization_40[0][0]     \n",
            "__________________________________________________________________________________________________\n",
            "activation_43 (Activation)      (None, 8, 8, 192)    0           batch_normalization_43[0][0]     \n",
            "__________________________________________________________________________________________________\n",
            "activation_48 (Activation)      (None, 8, 8, 192)    0           batch_normalization_48[0][0]     \n",
            "__________________________________________________________________________________________________\n",
            "activation_49 (Activation)      (None, 8, 8, 192)    0           batch_normalization_49[0][0]     \n",
            "__________________________________________________________________________________________________\n",
            "mixed5 (Concatenate)            (None, 8, 8, 768)    0           activation_40[0][0]              \n",
            "                                                                 activation_43[0][0]              \n",
            "                                                                 activation_48[0][0]              \n",
            "                                                                 activation_49[0][0]              \n",
            "__________________________________________________________________________________________________\n",
            "conv2d_54 (Conv2D)              (None, 8, 8, 160)    122880      mixed5[0][0]                     \n",
            "__________________________________________________________________________________________________\n",
            "batch_normalization_54 (BatchNo (None, 8, 8, 160)    480         conv2d_54[0][0]                  \n",
            "__________________________________________________________________________________________________\n",
            "activation_54 (Activation)      (None, 8, 8, 160)    0           batch_normalization_54[0][0]     \n",
            "__________________________________________________________________________________________________\n",
            "conv2d_55 (Conv2D)              (None, 8, 8, 160)    179200      activation_54[0][0]              \n",
            "__________________________________________________________________________________________________\n",
            "batch_normalization_55 (BatchNo (None, 8, 8, 160)    480         conv2d_55[0][0]                  \n",
            "__________________________________________________________________________________________________\n",
            "activation_55 (Activation)      (None, 8, 8, 160)    0           batch_normalization_55[0][0]     \n",
            "__________________________________________________________________________________________________\n",
            "conv2d_51 (Conv2D)              (None, 8, 8, 160)    122880      mixed5[0][0]                     \n",
            "__________________________________________________________________________________________________\n",
            "conv2d_56 (Conv2D)              (None, 8, 8, 160)    179200      activation_55[0][0]              \n",
            "__________________________________________________________________________________________________\n",
            "batch_normalization_51 (BatchNo (None, 8, 8, 160)    480         conv2d_51[0][0]                  \n",
            "__________________________________________________________________________________________________\n",
            "batch_normalization_56 (BatchNo (None, 8, 8, 160)    480         conv2d_56[0][0]                  \n",
            "__________________________________________________________________________________________________\n",
            "activation_51 (Activation)      (None, 8, 8, 160)    0           batch_normalization_51[0][0]     \n",
            "__________________________________________________________________________________________________\n",
            "activation_56 (Activation)      (None, 8, 8, 160)    0           batch_normalization_56[0][0]     \n",
            "__________________________________________________________________________________________________\n",
            "conv2d_52 (Conv2D)              (None, 8, 8, 160)    179200      activation_51[0][0]              \n",
            "__________________________________________________________________________________________________\n",
            "conv2d_57 (Conv2D)              (None, 8, 8, 160)    179200      activation_56[0][0]              \n",
            "__________________________________________________________________________________________________\n",
            "batch_normalization_52 (BatchNo (None, 8, 8, 160)    480         conv2d_52[0][0]                  \n",
            "__________________________________________________________________________________________________\n",
            "batch_normalization_57 (BatchNo (None, 8, 8, 160)    480         conv2d_57[0][0]                  \n",
            "__________________________________________________________________________________________________\n",
            "activation_52 (Activation)      (None, 8, 8, 160)    0           batch_normalization_52[0][0]     \n",
            "__________________________________________________________________________________________________\n",
            "activation_57 (Activation)      (None, 8, 8, 160)    0           batch_normalization_57[0][0]     \n",
            "__________________________________________________________________________________________________\n",
            "average_pooling2d_5 (AveragePoo (None, 8, 8, 768)    0           mixed5[0][0]                     \n",
            "__________________________________________________________________________________________________\n",
            "conv2d_50 (Conv2D)              (None, 8, 8, 192)    147456      mixed5[0][0]                     \n",
            "__________________________________________________________________________________________________\n",
            "conv2d_53 (Conv2D)              (None, 8, 8, 192)    215040      activation_52[0][0]              \n",
            "__________________________________________________________________________________________________\n",
            "conv2d_58 (Conv2D)              (None, 8, 8, 192)    215040      activation_57[0][0]              \n",
            "__________________________________________________________________________________________________\n",
            "conv2d_59 (Conv2D)              (None, 8, 8, 192)    147456      average_pooling2d_5[0][0]        \n",
            "__________________________________________________________________________________________________\n",
            "batch_normalization_50 (BatchNo (None, 8, 8, 192)    576         conv2d_50[0][0]                  \n",
            "__________________________________________________________________________________________________\n",
            "batch_normalization_53 (BatchNo (None, 8, 8, 192)    576         conv2d_53[0][0]                  \n",
            "__________________________________________________________________________________________________\n",
            "batch_normalization_58 (BatchNo (None, 8, 8, 192)    576         conv2d_58[0][0]                  \n",
            "__________________________________________________________________________________________________\n",
            "batch_normalization_59 (BatchNo (None, 8, 8, 192)    576         conv2d_59[0][0]                  \n",
            "__________________________________________________________________________________________________\n",
            "activation_50 (Activation)      (None, 8, 8, 192)    0           batch_normalization_50[0][0]     \n",
            "__________________________________________________________________________________________________\n",
            "activation_53 (Activation)      (None, 8, 8, 192)    0           batch_normalization_53[0][0]     \n",
            "__________________________________________________________________________________________________\n",
            "activation_58 (Activation)      (None, 8, 8, 192)    0           batch_normalization_58[0][0]     \n",
            "__________________________________________________________________________________________________\n",
            "activation_59 (Activation)      (None, 8, 8, 192)    0           batch_normalization_59[0][0]     \n",
            "__________________________________________________________________________________________________\n",
            "mixed6 (Concatenate)            (None, 8, 8, 768)    0           activation_50[0][0]              \n",
            "                                                                 activation_53[0][0]              \n",
            "                                                                 activation_58[0][0]              \n",
            "                                                                 activation_59[0][0]              \n",
            "__________________________________________________________________________________________________\n",
            "conv2d_64 (Conv2D)              (None, 8, 8, 192)    147456      mixed6[0][0]                     \n",
            "__________________________________________________________________________________________________\n",
            "batch_normalization_64 (BatchNo (None, 8, 8, 192)    576         conv2d_64[0][0]                  \n",
            "__________________________________________________________________________________________________\n",
            "activation_64 (Activation)      (None, 8, 8, 192)    0           batch_normalization_64[0][0]     \n",
            "__________________________________________________________________________________________________\n",
            "conv2d_65 (Conv2D)              (None, 8, 8, 192)    258048      activation_64[0][0]              \n",
            "__________________________________________________________________________________________________\n",
            "batch_normalization_65 (BatchNo (None, 8, 8, 192)    576         conv2d_65[0][0]                  \n",
            "__________________________________________________________________________________________________\n",
            "activation_65 (Activation)      (None, 8, 8, 192)    0           batch_normalization_65[0][0]     \n",
            "__________________________________________________________________________________________________\n",
            "conv2d_61 (Conv2D)              (None, 8, 8, 192)    147456      mixed6[0][0]                     \n",
            "__________________________________________________________________________________________________\n",
            "conv2d_66 (Conv2D)              (None, 8, 8, 192)    258048      activation_65[0][0]              \n",
            "__________________________________________________________________________________________________\n",
            "batch_normalization_61 (BatchNo (None, 8, 8, 192)    576         conv2d_61[0][0]                  \n",
            "__________________________________________________________________________________________________\n",
            "batch_normalization_66 (BatchNo (None, 8, 8, 192)    576         conv2d_66[0][0]                  \n",
            "__________________________________________________________________________________________________\n",
            "activation_61 (Activation)      (None, 8, 8, 192)    0           batch_normalization_61[0][0]     \n",
            "__________________________________________________________________________________________________\n",
            "activation_66 (Activation)      (None, 8, 8, 192)    0           batch_normalization_66[0][0]     \n",
            "__________________________________________________________________________________________________\n",
            "conv2d_62 (Conv2D)              (None, 8, 8, 192)    258048      activation_61[0][0]              \n",
            "__________________________________________________________________________________________________\n",
            "conv2d_67 (Conv2D)              (None, 8, 8, 192)    258048      activation_66[0][0]              \n",
            "__________________________________________________________________________________________________\n",
            "batch_normalization_62 (BatchNo (None, 8, 8, 192)    576         conv2d_62[0][0]                  \n",
            "__________________________________________________________________________________________________\n",
            "batch_normalization_67 (BatchNo (None, 8, 8, 192)    576         conv2d_67[0][0]                  \n",
            "__________________________________________________________________________________________________\n",
            "activation_62 (Activation)      (None, 8, 8, 192)    0           batch_normalization_62[0][0]     \n",
            "__________________________________________________________________________________________________\n",
            "activation_67 (Activation)      (None, 8, 8, 192)    0           batch_normalization_67[0][0]     \n",
            "__________________________________________________________________________________________________\n",
            "average_pooling2d_6 (AveragePoo (None, 8, 8, 768)    0           mixed6[0][0]                     \n",
            "__________________________________________________________________________________________________\n",
            "conv2d_60 (Conv2D)              (None, 8, 8, 192)    147456      mixed6[0][0]                     \n",
            "__________________________________________________________________________________________________\n",
            "conv2d_63 (Conv2D)              (None, 8, 8, 192)    258048      activation_62[0][0]              \n",
            "__________________________________________________________________________________________________\n",
            "conv2d_68 (Conv2D)              (None, 8, 8, 192)    258048      activation_67[0][0]              \n",
            "__________________________________________________________________________________________________\n",
            "conv2d_69 (Conv2D)              (None, 8, 8, 192)    147456      average_pooling2d_6[0][0]        \n",
            "__________________________________________________________________________________________________\n",
            "batch_normalization_60 (BatchNo (None, 8, 8, 192)    576         conv2d_60[0][0]                  \n",
            "__________________________________________________________________________________________________\n",
            "batch_normalization_63 (BatchNo (None, 8, 8, 192)    576         conv2d_63[0][0]                  \n",
            "__________________________________________________________________________________________________\n",
            "batch_normalization_68 (BatchNo (None, 8, 8, 192)    576         conv2d_68[0][0]                  \n",
            "__________________________________________________________________________________________________\n",
            "batch_normalization_69 (BatchNo (None, 8, 8, 192)    576         conv2d_69[0][0]                  \n",
            "__________________________________________________________________________________________________\n",
            "activation_60 (Activation)      (None, 8, 8, 192)    0           batch_normalization_60[0][0]     \n",
            "__________________________________________________________________________________________________\n",
            "activation_63 (Activation)      (None, 8, 8, 192)    0           batch_normalization_63[0][0]     \n",
            "__________________________________________________________________________________________________\n",
            "activation_68 (Activation)      (None, 8, 8, 192)    0           batch_normalization_68[0][0]     \n",
            "__________________________________________________________________________________________________\n",
            "activation_69 (Activation)      (None, 8, 8, 192)    0           batch_normalization_69[0][0]     \n",
            "__________________________________________________________________________________________________\n",
            "mixed7 (Concatenate)            (None, 8, 8, 768)    0           activation_60[0][0]              \n",
            "                                                                 activation_63[0][0]              \n",
            "                                                                 activation_68[0][0]              \n",
            "                                                                 activation_69[0][0]              \n",
            "__________________________________________________________________________________________________\n",
            "conv2d_72 (Conv2D)              (None, 8, 8, 192)    147456      mixed7[0][0]                     \n",
            "__________________________________________________________________________________________________\n",
            "batch_normalization_72 (BatchNo (None, 8, 8, 192)    576         conv2d_72[0][0]                  \n",
            "__________________________________________________________________________________________________\n",
            "activation_72 (Activation)      (None, 8, 8, 192)    0           batch_normalization_72[0][0]     \n",
            "__________________________________________________________________________________________________\n",
            "conv2d_73 (Conv2D)              (None, 8, 8, 192)    258048      activation_72[0][0]              \n",
            "__________________________________________________________________________________________________\n",
            "batch_normalization_73 (BatchNo (None, 8, 8, 192)    576         conv2d_73[0][0]                  \n",
            "__________________________________________________________________________________________________\n",
            "activation_73 (Activation)      (None, 8, 8, 192)    0           batch_normalization_73[0][0]     \n",
            "__________________________________________________________________________________________________\n",
            "conv2d_70 (Conv2D)              (None, 8, 8, 192)    147456      mixed7[0][0]                     \n",
            "__________________________________________________________________________________________________\n",
            "conv2d_74 (Conv2D)              (None, 8, 8, 192)    258048      activation_73[0][0]              \n",
            "__________________________________________________________________________________________________\n",
            "batch_normalization_70 (BatchNo (None, 8, 8, 192)    576         conv2d_70[0][0]                  \n",
            "__________________________________________________________________________________________________\n",
            "batch_normalization_74 (BatchNo (None, 8, 8, 192)    576         conv2d_74[0][0]                  \n",
            "__________________________________________________________________________________________________\n",
            "activation_70 (Activation)      (None, 8, 8, 192)    0           batch_normalization_70[0][0]     \n",
            "__________________________________________________________________________________________________\n",
            "activation_74 (Activation)      (None, 8, 8, 192)    0           batch_normalization_74[0][0]     \n",
            "__________________________________________________________________________________________________\n",
            "conv2d_71 (Conv2D)              (None, 3, 3, 320)    552960      activation_70[0][0]              \n",
            "__________________________________________________________________________________________________\n",
            "conv2d_75 (Conv2D)              (None, 3, 3, 192)    331776      activation_74[0][0]              \n",
            "__________________________________________________________________________________________________\n",
            "batch_normalization_71 (BatchNo (None, 3, 3, 320)    960         conv2d_71[0][0]                  \n",
            "__________________________________________________________________________________________________\n",
            "batch_normalization_75 (BatchNo (None, 3, 3, 192)    576         conv2d_75[0][0]                  \n",
            "__________________________________________________________________________________________________\n",
            "activation_71 (Activation)      (None, 3, 3, 320)    0           batch_normalization_71[0][0]     \n",
            "__________________________________________________________________________________________________\n",
            "activation_75 (Activation)      (None, 3, 3, 192)    0           batch_normalization_75[0][0]     \n",
            "__________________________________________________________________________________________________\n",
            "max_pooling2d_3 (MaxPooling2D)  (None, 3, 3, 768)    0           mixed7[0][0]                     \n",
            "__________________________________________________________________________________________________\n",
            "mixed8 (Concatenate)            (None, 3, 3, 1280)   0           activation_71[0][0]              \n",
            "                                                                 activation_75[0][0]              \n",
            "                                                                 max_pooling2d_3[0][0]            \n",
            "__________________________________________________________________________________________________\n",
            "conv2d_80 (Conv2D)              (None, 3, 3, 448)    573440      mixed8[0][0]                     \n",
            "__________________________________________________________________________________________________\n",
            "batch_normalization_80 (BatchNo (None, 3, 3, 448)    1344        conv2d_80[0][0]                  \n",
            "__________________________________________________________________________________________________\n",
            "activation_80 (Activation)      (None, 3, 3, 448)    0           batch_normalization_80[0][0]     \n",
            "__________________________________________________________________________________________________\n",
            "conv2d_77 (Conv2D)              (None, 3, 3, 384)    491520      mixed8[0][0]                     \n",
            "__________________________________________________________________________________________________\n",
            "conv2d_81 (Conv2D)              (None, 3, 3, 384)    1548288     activation_80[0][0]              \n",
            "__________________________________________________________________________________________________\n",
            "batch_normalization_77 (BatchNo (None, 3, 3, 384)    1152        conv2d_77[0][0]                  \n",
            "__________________________________________________________________________________________________\n",
            "batch_normalization_81 (BatchNo (None, 3, 3, 384)    1152        conv2d_81[0][0]                  \n",
            "__________________________________________________________________________________________________\n",
            "activation_77 (Activation)      (None, 3, 3, 384)    0           batch_normalization_77[0][0]     \n",
            "__________________________________________________________________________________________________\n",
            "activation_81 (Activation)      (None, 3, 3, 384)    0           batch_normalization_81[0][0]     \n",
            "__________________________________________________________________________________________________\n",
            "conv2d_78 (Conv2D)              (None, 3, 3, 384)    442368      activation_77[0][0]              \n",
            "__________________________________________________________________________________________________\n",
            "conv2d_79 (Conv2D)              (None, 3, 3, 384)    442368      activation_77[0][0]              \n",
            "__________________________________________________________________________________________________\n",
            "conv2d_82 (Conv2D)              (None, 3, 3, 384)    442368      activation_81[0][0]              \n",
            "__________________________________________________________________________________________________\n",
            "conv2d_83 (Conv2D)              (None, 3, 3, 384)    442368      activation_81[0][0]              \n",
            "__________________________________________________________________________________________________\n",
            "average_pooling2d_7 (AveragePoo (None, 3, 3, 1280)   0           mixed8[0][0]                     \n",
            "__________________________________________________________________________________________________\n",
            "conv2d_76 (Conv2D)              (None, 3, 3, 320)    409600      mixed8[0][0]                     \n",
            "__________________________________________________________________________________________________\n",
            "batch_normalization_78 (BatchNo (None, 3, 3, 384)    1152        conv2d_78[0][0]                  \n",
            "__________________________________________________________________________________________________\n",
            "batch_normalization_79 (BatchNo (None, 3, 3, 384)    1152        conv2d_79[0][0]                  \n",
            "__________________________________________________________________________________________________\n",
            "batch_normalization_82 (BatchNo (None, 3, 3, 384)    1152        conv2d_82[0][0]                  \n",
            "__________________________________________________________________________________________________\n",
            "batch_normalization_83 (BatchNo (None, 3, 3, 384)    1152        conv2d_83[0][0]                  \n",
            "__________________________________________________________________________________________________\n",
            "conv2d_84 (Conv2D)              (None, 3, 3, 192)    245760      average_pooling2d_7[0][0]        \n",
            "__________________________________________________________________________________________________\n",
            "batch_normalization_76 (BatchNo (None, 3, 3, 320)    960         conv2d_76[0][0]                  \n",
            "__________________________________________________________________________________________________\n",
            "activation_78 (Activation)      (None, 3, 3, 384)    0           batch_normalization_78[0][0]     \n",
            "__________________________________________________________________________________________________\n",
            "activation_79 (Activation)      (None, 3, 3, 384)    0           batch_normalization_79[0][0]     \n",
            "__________________________________________________________________________________________________\n",
            "activation_82 (Activation)      (None, 3, 3, 384)    0           batch_normalization_82[0][0]     \n",
            "__________________________________________________________________________________________________\n",
            "activation_83 (Activation)      (None, 3, 3, 384)    0           batch_normalization_83[0][0]     \n",
            "__________________________________________________________________________________________________\n",
            "batch_normalization_84 (BatchNo (None, 3, 3, 192)    576         conv2d_84[0][0]                  \n",
            "__________________________________________________________________________________________________\n",
            "activation_76 (Activation)      (None, 3, 3, 320)    0           batch_normalization_76[0][0]     \n",
            "__________________________________________________________________________________________________\n",
            "mixed9_0 (Concatenate)          (None, 3, 3, 768)    0           activation_78[0][0]              \n",
            "                                                                 activation_79[0][0]              \n",
            "__________________________________________________________________________________________________\n",
            "concatenate (Concatenate)       (None, 3, 3, 768)    0           activation_82[0][0]              \n",
            "                                                                 activation_83[0][0]              \n",
            "__________________________________________________________________________________________________\n",
            "activation_84 (Activation)      (None, 3, 3, 192)    0           batch_normalization_84[0][0]     \n",
            "__________________________________________________________________________________________________\n",
            "mixed9 (Concatenate)            (None, 3, 3, 2048)   0           activation_76[0][0]              \n",
            "                                                                 mixed9_0[0][0]                   \n",
            "                                                                 concatenate[0][0]                \n",
            "                                                                 activation_84[0][0]              \n",
            "__________________________________________________________________________________________________\n",
            "conv2d_89 (Conv2D)              (None, 3, 3, 448)    917504      mixed9[0][0]                     \n",
            "__________________________________________________________________________________________________\n",
            "batch_normalization_89 (BatchNo (None, 3, 3, 448)    1344        conv2d_89[0][0]                  \n",
            "__________________________________________________________________________________________________\n",
            "activation_89 (Activation)      (None, 3, 3, 448)    0           batch_normalization_89[0][0]     \n",
            "__________________________________________________________________________________________________\n",
            "conv2d_86 (Conv2D)              (None, 3, 3, 384)    786432      mixed9[0][0]                     \n",
            "__________________________________________________________________________________________________\n",
            "conv2d_90 (Conv2D)              (None, 3, 3, 384)    1548288     activation_89[0][0]              \n",
            "__________________________________________________________________________________________________\n",
            "batch_normalization_86 (BatchNo (None, 3, 3, 384)    1152        conv2d_86[0][0]                  \n",
            "__________________________________________________________________________________________________\n",
            "batch_normalization_90 (BatchNo (None, 3, 3, 384)    1152        conv2d_90[0][0]                  \n",
            "__________________________________________________________________________________________________\n",
            "activation_86 (Activation)      (None, 3, 3, 384)    0           batch_normalization_86[0][0]     \n",
            "__________________________________________________________________________________________________\n",
            "activation_90 (Activation)      (None, 3, 3, 384)    0           batch_normalization_90[0][0]     \n",
            "__________________________________________________________________________________________________\n",
            "conv2d_87 (Conv2D)              (None, 3, 3, 384)    442368      activation_86[0][0]              \n",
            "__________________________________________________________________________________________________\n",
            "conv2d_88 (Conv2D)              (None, 3, 3, 384)    442368      activation_86[0][0]              \n",
            "__________________________________________________________________________________________________\n",
            "conv2d_91 (Conv2D)              (None, 3, 3, 384)    442368      activation_90[0][0]              \n",
            "__________________________________________________________________________________________________\n",
            "conv2d_92 (Conv2D)              (None, 3, 3, 384)    442368      activation_90[0][0]              \n",
            "__________________________________________________________________________________________________\n",
            "average_pooling2d_8 (AveragePoo (None, 3, 3, 2048)   0           mixed9[0][0]                     \n",
            "__________________________________________________________________________________________________\n",
            "conv2d_85 (Conv2D)              (None, 3, 3, 320)    655360      mixed9[0][0]                     \n",
            "__________________________________________________________________________________________________\n",
            "batch_normalization_87 (BatchNo (None, 3, 3, 384)    1152        conv2d_87[0][0]                  \n",
            "__________________________________________________________________________________________________\n",
            "batch_normalization_88 (BatchNo (None, 3, 3, 384)    1152        conv2d_88[0][0]                  \n",
            "__________________________________________________________________________________________________\n",
            "batch_normalization_91 (BatchNo (None, 3, 3, 384)    1152        conv2d_91[0][0]                  \n",
            "__________________________________________________________________________________________________\n",
            "batch_normalization_92 (BatchNo (None, 3, 3, 384)    1152        conv2d_92[0][0]                  \n",
            "__________________________________________________________________________________________________\n",
            "conv2d_93 (Conv2D)              (None, 3, 3, 192)    393216      average_pooling2d_8[0][0]        \n",
            "__________________________________________________________________________________________________\n",
            "batch_normalization_85 (BatchNo (None, 3, 3, 320)    960         conv2d_85[0][0]                  \n",
            "__________________________________________________________________________________________________\n",
            "activation_87 (Activation)      (None, 3, 3, 384)    0           batch_normalization_87[0][0]     \n",
            "__________________________________________________________________________________________________\n",
            "activation_88 (Activation)      (None, 3, 3, 384)    0           batch_normalization_88[0][0]     \n",
            "__________________________________________________________________________________________________\n",
            "activation_91 (Activation)      (None, 3, 3, 384)    0           batch_normalization_91[0][0]     \n",
            "__________________________________________________________________________________________________\n",
            "activation_92 (Activation)      (None, 3, 3, 384)    0           batch_normalization_92[0][0]     \n",
            "__________________________________________________________________________________________________\n",
            "batch_normalization_93 (BatchNo (None, 3, 3, 192)    576         conv2d_93[0][0]                  \n",
            "__________________________________________________________________________________________________\n",
            "activation_85 (Activation)      (None, 3, 3, 320)    0           batch_normalization_85[0][0]     \n",
            "__________________________________________________________________________________________________\n",
            "mixed9_1 (Concatenate)          (None, 3, 3, 768)    0           activation_87[0][0]              \n",
            "                                                                 activation_88[0][0]              \n",
            "__________________________________________________________________________________________________\n",
            "concatenate_1 (Concatenate)     (None, 3, 3, 768)    0           activation_91[0][0]              \n",
            "                                                                 activation_92[0][0]              \n",
            "__________________________________________________________________________________________________\n",
            "activation_93 (Activation)      (None, 3, 3, 192)    0           batch_normalization_93[0][0]     \n",
            "__________________________________________________________________________________________________\n",
            "mixed10 (Concatenate)           (None, 3, 3, 2048)   0           activation_85[0][0]              \n",
            "                                                                 mixed9_1[0][0]                   \n",
            "                                                                 concatenate_1[0][0]              \n",
            "                                                                 activation_93[0][0]              \n",
            "==================================================================================================\n",
            "Total params: 21,802,784\n",
            "Trainable params: 0\n",
            "Non-trainable params: 21,802,784\n",
            "__________________________________________________________________________________________________\n"
          ],
          "name": "stdout"
        }
      ]
    },
    {
      "cell_type": "code",
      "metadata": {
        "id": "cdbaOw8OCTX3"
      },
      "source": [
        "global_average_layer = GlobalAveragePooling2D()\n",
        "preds = Dense(10,activation='softmax')#final layer with softmax activation for N classes"
      ],
      "execution_count": null,
      "outputs": []
    },
    {
      "cell_type": "code",
      "metadata": {
        "id": "XQhRSMMqCWJa"
      },
      "source": [
        "model = Sequential([\n",
        "  base_model,\n",
        "  global_average_layer,\n",
        "  preds\n",
        "])"
      ],
      "execution_count": null,
      "outputs": []
    },
    {
      "cell_type": "code",
      "metadata": {
        "id": "5zq2D9eRCY5H"
      },
      "source": [
        "base_learning_rate = 0.0001\n",
        "model.compile(optimizer=tf.keras.optimizers.RMSprop(lr=base_learning_rate),\n",
        "              loss='categorical_crossentropy',\n",
        "              metrics=['accuracy',f1_m,precision_m, recall_m]) "
      ],
      "execution_count": null,
      "outputs": []
    },
    {
      "cell_type": "code",
      "metadata": {
        "colab": {
          "base_uri": "https://localhost:8080/"
        },
        "id": "htMSSawFCbRC",
        "outputId": "91b0304f-a415-4b96-c220-e5adb8c16d66"
      },
      "source": [
        "model.summary()"
      ],
      "execution_count": null,
      "outputs": [
        {
          "output_type": "stream",
          "text": [
            "Model: \"sequential_1\"\n",
            "_________________________________________________________________\n",
            "Layer (type)                 Output Shape              Param #   \n",
            "=================================================================\n",
            "inception_v3 (Functional)    (None, 3, 3, 2048)        21802784  \n",
            "_________________________________________________________________\n",
            "global_average_pooling2d_1 ( (None, 2048)              0         \n",
            "_________________________________________________________________\n",
            "dense_1 (Dense)              (None, 10)                20490     \n",
            "=================================================================\n",
            "Total params: 21,823,274\n",
            "Trainable params: 20,490\n",
            "Non-trainable params: 21,802,784\n",
            "_________________________________________________________________\n"
          ],
          "name": "stdout"
        }
      ]
    },
    {
      "cell_type": "code",
      "metadata": {
        "colab": {
          "base_uri": "https://localhost:8080/"
        },
        "id": "VP1gz8AKCdnO",
        "outputId": "e2f8dc82-abf4-47f4-a5db-2da9cfd44c15"
      },
      "source": [
        "initial_epochs = 50\n",
        "validation_steps = 20\n",
        "\n",
        "loss, accuracy, f1_score, precision, recall  = model.evaluate(validation_batches, steps = validation_steps)"
      ],
      "execution_count": null,
      "outputs": [
        {
          "output_type": "stream",
          "text": [
            "20/20 [==============================] - 2s 110ms/step - loss: 63.0077 - accuracy: 0.1344 - f1_m: 0.1329 - precision_m: 0.1330 - recall_m: 0.1328\n"
          ],
          "name": "stdout"
        }
      ]
    },
    {
      "cell_type": "code",
      "metadata": {
        "colab": {
          "base_uri": "https://localhost:8080/"
        },
        "id": "p8GLX-UQJJNJ",
        "outputId": "8c7f777e-a968-4369-dfe2-c005b23a1684"
      },
      "source": [
        "history = model.fit(train_batches,\n",
        "                    epochs=initial_epochs,\n",
        "                    validation_data=validation_batches\n",
        "                    )"
      ],
      "execution_count": null,
      "outputs": [
        {
          "output_type": "stream",
          "text": [
            "Epoch 1/50\n",
            "207/207 [==============================] - 29s 141ms/step - loss: 17.9675 - accuracy: 0.1671 - f1_m: 0.1659 - precision_m: 0.1673 - recall_m: 0.1646 - val_loss: 13.6215 - val_accuracy: 0.2084 - val_f1_m: 0.2043 - val_precision_m: 0.2074 - val_recall_m: 0.2014\n",
            "Epoch 2/50\n",
            "207/207 [==============================] - 29s 139ms/step - loss: 12.2843 - accuracy: 0.2039 - f1_m: 0.2036 - precision_m: 0.2065 - recall_m: 0.2009 - val_loss: 11.2009 - val_accuracy: 0.2193 - val_f1_m: 0.2191 - val_precision_m: 0.2221 - val_recall_m: 0.2162\n",
            "Epoch 3/50\n",
            "207/207 [==============================] - 28s 135ms/step - loss: 10.4238 - accuracy: 0.2254 - f1_m: 0.2238 - precision_m: 0.2276 - recall_m: 0.2202 - val_loss: 10.7157 - val_accuracy: 0.2223 - val_f1_m: 0.2225 - val_precision_m: 0.2263 - val_recall_m: 0.2190\n",
            "Epoch 4/50\n",
            "207/207 [==============================] - 28s 135ms/step - loss: 9.2957 - accuracy: 0.2359 - f1_m: 0.2335 - precision_m: 0.2381 - recall_m: 0.2292 - val_loss: 9.3172 - val_accuracy: 0.2441 - val_f1_m: 0.2427 - val_precision_m: 0.2478 - val_recall_m: 0.2380\n",
            "Epoch 5/50\n",
            "207/207 [==============================] - 28s 134ms/step - loss: 8.4498 - accuracy: 0.2512 - f1_m: 0.2476 - precision_m: 0.2532 - recall_m: 0.2424 - val_loss: 8.8464 - val_accuracy: 0.2489 - val_f1_m: 0.2468 - val_precision_m: 0.2527 - val_recall_m: 0.2415\n",
            "Epoch 6/50\n",
            "207/207 [==============================] - 28s 135ms/step - loss: 7.7845 - accuracy: 0.2660 - f1_m: 0.2647 - precision_m: 0.2720 - recall_m: 0.2580 - val_loss: 7.9222 - val_accuracy: 0.2774 - val_f1_m: 0.2776 - val_precision_m: 0.2849 - val_recall_m: 0.2709\n",
            "Epoch 7/50\n",
            "207/207 [==============================] - 27s 133ms/step - loss: 7.2815 - accuracy: 0.2745 - f1_m: 0.2732 - precision_m: 0.2801 - recall_m: 0.2669 - val_loss: 8.0927 - val_accuracy: 0.2665 - val_f1_m: 0.2656 - val_precision_m: 0.2710 - val_recall_m: 0.2607\n",
            "Epoch 8/50\n",
            "207/207 [==============================] - 27s 133ms/step - loss: 6.8717 - accuracy: 0.2877 - f1_m: 0.2849 - precision_m: 0.2918 - recall_m: 0.2784 - val_loss: 8.0072 - val_accuracy: 0.2841 - val_f1_m: 0.2821 - val_precision_m: 0.2872 - val_recall_m: 0.2773\n",
            "Epoch 9/50\n",
            "207/207 [==============================] - 28s 135ms/step - loss: 6.5268 - accuracy: 0.2946 - f1_m: 0.2929 - precision_m: 0.3009 - recall_m: 0.2855 - val_loss: 7.7479 - val_accuracy: 0.2798 - val_f1_m: 0.2741 - val_precision_m: 0.2814 - val_recall_m: 0.2675\n",
            "Epoch 10/50\n",
            "207/207 [==============================] - 27s 131ms/step - loss: 6.2297 - accuracy: 0.3020 - f1_m: 0.2991 - precision_m: 0.3084 - recall_m: 0.2906 - val_loss: 7.8882 - val_accuracy: 0.2629 - val_f1_m: 0.2609 - val_precision_m: 0.2668 - val_recall_m: 0.2554\n",
            "Epoch 11/50\n",
            "207/207 [==============================] - 27s 129ms/step - loss: 5.9870 - accuracy: 0.3020 - f1_m: 0.3033 - precision_m: 0.3121 - recall_m: 0.2952 - val_loss: 6.5518 - val_accuracy: 0.3022 - val_f1_m: 0.3045 - val_precision_m: 0.3136 - val_recall_m: 0.2961\n",
            "Epoch 12/50\n",
            "207/207 [==============================] - 27s 130ms/step - loss: 5.6948 - accuracy: 0.3151 - f1_m: 0.3125 - precision_m: 0.3230 - recall_m: 0.3030 - val_loss: 6.6666 - val_accuracy: 0.2907 - val_f1_m: 0.2872 - val_precision_m: 0.2968 - val_recall_m: 0.2785\n",
            "Epoch 13/50\n",
            "207/207 [==============================] - 28s 133ms/step - loss: 5.4549 - accuracy: 0.3240 - f1_m: 0.3224 - precision_m: 0.3340 - recall_m: 0.3119 - val_loss: 6.3652 - val_accuracy: 0.3083 - val_f1_m: 0.3051 - val_precision_m: 0.3129 - val_recall_m: 0.2980\n",
            "Epoch 14/50\n",
            "207/207 [==============================] - 27s 133ms/step - loss: 5.2798 - accuracy: 0.3255 - f1_m: 0.3238 - precision_m: 0.3350 - recall_m: 0.3136 - val_loss: 6.7730 - val_accuracy: 0.2980 - val_f1_m: 0.2911 - val_precision_m: 0.2996 - val_recall_m: 0.2833\n",
            "Epoch 15/50\n",
            "207/207 [==============================] - 27s 133ms/step - loss: 5.0614 - accuracy: 0.3344 - f1_m: 0.3326 - precision_m: 0.3438 - recall_m: 0.3224 - val_loss: 6.3345 - val_accuracy: 0.2907 - val_f1_m: 0.2888 - val_precision_m: 0.2983 - val_recall_m: 0.2803\n",
            "Epoch 16/50\n",
            "207/207 [==============================] - 27s 132ms/step - loss: 4.9212 - accuracy: 0.3416 - f1_m: 0.3419 - precision_m: 0.3549 - recall_m: 0.3302 - val_loss: 6.2015 - val_accuracy: 0.3083 - val_f1_m: 0.3108 - val_precision_m: 0.3211 - val_recall_m: 0.3013\n",
            "Epoch 17/50\n",
            "207/207 [==============================] - 28s 133ms/step - loss: 4.7463 - accuracy: 0.3446 - f1_m: 0.3426 - precision_m: 0.3547 - recall_m: 0.3316 - val_loss: 6.0627 - val_accuracy: 0.3137 - val_f1_m: 0.3107 - val_precision_m: 0.3206 - val_recall_m: 0.3017\n",
            "Epoch 18/50\n",
            "207/207 [==============================] - 28s 135ms/step - loss: 4.6526 - accuracy: 0.3593 - f1_m: 0.3566 - precision_m: 0.3705 - recall_m: 0.3441 - val_loss: 6.2079 - val_accuracy: 0.3089 - val_f1_m: 0.3066 - val_precision_m: 0.3154 - val_recall_m: 0.2985\n",
            "Epoch 19/50\n",
            "207/207 [==============================] - 28s 135ms/step - loss: 4.4581 - accuracy: 0.3590 - f1_m: 0.3572 - precision_m: 0.3728 - recall_m: 0.3433 - val_loss: 5.6003 - val_accuracy: 0.3137 - val_f1_m: 0.3146 - val_precision_m: 0.3255 - val_recall_m: 0.3046\n",
            "Epoch 20/50\n",
            "207/207 [==============================] - 28s 134ms/step - loss: 4.3828 - accuracy: 0.3700 - f1_m: 0.3658 - precision_m: 0.3815 - recall_m: 0.3518 - val_loss: 5.8947 - val_accuracy: 0.3325 - val_f1_m: 0.3298 - val_precision_m: 0.3418 - val_recall_m: 0.3190\n",
            "Epoch 21/50\n",
            "207/207 [==============================] - 28s 134ms/step - loss: 4.2487 - accuracy: 0.3743 - f1_m: 0.3736 - precision_m: 0.3889 - recall_m: 0.3599 - val_loss: 6.0148 - val_accuracy: 0.3089 - val_f1_m: 0.3069 - val_precision_m: 0.3167 - val_recall_m: 0.2980\n",
            "Epoch 22/50\n",
            "207/207 [==============================] - 27s 132ms/step - loss: 4.1585 - accuracy: 0.3737 - f1_m: 0.3716 - precision_m: 0.3872 - recall_m: 0.3577 - val_loss: 5.3287 - val_accuracy: 0.3349 - val_f1_m: 0.3371 - val_precision_m: 0.3482 - val_recall_m: 0.3270\n",
            "Epoch 23/50\n",
            "207/207 [==============================] - 27s 131ms/step - loss: 4.0727 - accuracy: 0.3797 - f1_m: 0.3770 - precision_m: 0.3935 - recall_m: 0.3624 - val_loss: 5.9820 - val_accuracy: 0.3253 - val_f1_m: 0.3224 - val_precision_m: 0.3325 - val_recall_m: 0.3134\n",
            "Epoch 24/50\n",
            "207/207 [==============================] - 28s 133ms/step - loss: 3.9631 - accuracy: 0.3909 - f1_m: 0.3880 - precision_m: 0.4065 - recall_m: 0.3716 - val_loss: 6.5850 - val_accuracy: 0.2798 - val_f1_m: 0.2788 - val_precision_m: 0.2853 - val_recall_m: 0.2727\n",
            "Epoch 25/50\n",
            "207/207 [==============================] - 27s 131ms/step - loss: 3.9134 - accuracy: 0.3918 - f1_m: 0.3886 - precision_m: 0.4044 - recall_m: 0.3745 - val_loss: 5.9693 - val_accuracy: 0.3313 - val_f1_m: 0.3332 - val_precision_m: 0.3438 - val_recall_m: 0.3236\n",
            "Epoch 26/50\n",
            "207/207 [==============================] - 26s 128ms/step - loss: 3.8111 - accuracy: 0.3977 - f1_m: 0.3930 - precision_m: 0.4110 - recall_m: 0.3772 - val_loss: 6.0164 - val_accuracy: 0.3253 - val_f1_m: 0.3222 - val_precision_m: 0.3340 - val_recall_m: 0.3116\n",
            "Epoch 27/50\n",
            "207/207 [==============================] - 27s 128ms/step - loss: 3.7502 - accuracy: 0.3982 - f1_m: 0.3952 - precision_m: 0.4131 - recall_m: 0.3792 - val_loss: 5.3819 - val_accuracy: 0.3210 - val_f1_m: 0.3191 - val_precision_m: 0.3315 - val_recall_m: 0.3080\n",
            "Epoch 28/50\n",
            "207/207 [==============================] - 26s 128ms/step - loss: 3.6680 - accuracy: 0.3949 - f1_m: 0.3945 - precision_m: 0.4124 - recall_m: 0.3786 - val_loss: 5.2296 - val_accuracy: 0.3325 - val_f1_m: 0.3292 - val_precision_m: 0.3439 - val_recall_m: 0.3162\n",
            "Epoch 29/50\n",
            "207/207 [==============================] - 27s 129ms/step - loss: 3.6294 - accuracy: 0.3959 - f1_m: 0.3926 - precision_m: 0.4118 - recall_m: 0.3757 - val_loss: 5.9996 - val_accuracy: 0.3113 - val_f1_m: 0.3106 - val_precision_m: 0.3198 - val_recall_m: 0.3022\n",
            "Epoch 30/50\n",
            "207/207 [==============================] - 27s 131ms/step - loss: 3.5369 - accuracy: 0.4132 - f1_m: 0.4105 - precision_m: 0.4306 - recall_m: 0.3928 - val_loss: 5.3285 - val_accuracy: 0.3289 - val_f1_m: 0.3267 - val_precision_m: 0.3387 - val_recall_m: 0.3158\n",
            "Epoch 31/50\n",
            "207/207 [==============================] - 26s 127ms/step - loss: 3.4859 - accuracy: 0.4053 - f1_m: 0.4042 - precision_m: 0.4226 - recall_m: 0.3880 - val_loss: 5.4038 - val_accuracy: 0.3277 - val_f1_m: 0.3246 - val_precision_m: 0.3362 - val_recall_m: 0.3140\n",
            "Epoch 32/50\n",
            "207/207 [==============================] - 26s 126ms/step - loss: 3.3746 - accuracy: 0.4201 - f1_m: 0.4197 - precision_m: 0.4416 - recall_m: 0.4005 - val_loss: 4.9466 - val_accuracy: 0.3537 - val_f1_m: 0.3477 - val_precision_m: 0.3647 - val_recall_m: 0.3328\n",
            "Epoch 33/50\n",
            "207/207 [==============================] - 26s 127ms/step - loss: 3.3474 - accuracy: 0.4200 - f1_m: 0.4194 - precision_m: 0.4395 - recall_m: 0.4016 - val_loss: 5.9021 - val_accuracy: 0.3065 - val_f1_m: 0.3093 - val_precision_m: 0.3197 - val_recall_m: 0.2998\n",
            "Epoch 34/50\n",
            "207/207 [==============================] - 26s 126ms/step - loss: 3.2543 - accuracy: 0.4254 - f1_m: 0.4213 - precision_m: 0.4424 - recall_m: 0.4026 - val_loss: 5.8199 - val_accuracy: 0.3162 - val_f1_m: 0.3075 - val_precision_m: 0.3190 - val_recall_m: 0.2972\n",
            "Epoch 35/50\n",
            "207/207 [==============================] - 26s 126ms/step - loss: 3.2368 - accuracy: 0.4218 - f1_m: 0.4188 - precision_m: 0.4404 - recall_m: 0.3999 - val_loss: 6.7656 - val_accuracy: 0.2804 - val_f1_m: 0.2782 - val_precision_m: 0.2865 - val_recall_m: 0.2705\n",
            "Epoch 36/50\n",
            "207/207 [==============================] - 27s 131ms/step - loss: 3.1923 - accuracy: 0.4375 - f1_m: 0.4337 - precision_m: 0.4561 - recall_m: 0.4141 - val_loss: 5.8758 - val_accuracy: 0.3010 - val_f1_m: 0.2995 - val_precision_m: 0.3067 - val_recall_m: 0.2927\n",
            "Epoch 37/50\n",
            "207/207 [==============================] - 26s 125ms/step - loss: 3.1653 - accuracy: 0.4372 - f1_m: 0.4361 - precision_m: 0.4606 - recall_m: 0.4151 - val_loss: 5.3091 - val_accuracy: 0.3349 - val_f1_m: 0.3346 - val_precision_m: 0.3452 - val_recall_m: 0.3248\n",
            "Epoch 38/50\n",
            "207/207 [==============================] - 26s 125ms/step - loss: 3.1166 - accuracy: 0.4289 - f1_m: 0.4263 - precision_m: 0.4477 - recall_m: 0.4074 - val_loss: 4.6970 - val_accuracy: 0.3410 - val_f1_m: 0.3396 - val_precision_m: 0.3538 - val_recall_m: 0.3270\n",
            "Epoch 39/50\n",
            "207/207 [==============================] - 26s 127ms/step - loss: 3.0564 - accuracy: 0.4338 - f1_m: 0.4331 - precision_m: 0.4570 - recall_m: 0.4123 - val_loss: 4.7757 - val_accuracy: 0.3404 - val_f1_m: 0.3420 - val_precision_m: 0.3540 - val_recall_m: 0.3311\n",
            "Epoch 40/50\n",
            "207/207 [==============================] - 26s 125ms/step - loss: 3.0056 - accuracy: 0.4478 - f1_m: 0.4413 - precision_m: 0.4640 - recall_m: 0.4214 - val_loss: 4.8234 - val_accuracy: 0.3495 - val_f1_m: 0.3435 - val_precision_m: 0.3572 - val_recall_m: 0.3312\n",
            "Epoch 41/50\n",
            "207/207 [==============================] - 26s 124ms/step - loss: 2.9819 - accuracy: 0.4444 - f1_m: 0.4427 - precision_m: 0.4660 - recall_m: 0.4224 - val_loss: 4.6033 - val_accuracy: 0.3465 - val_f1_m: 0.3470 - val_precision_m: 0.3633 - val_recall_m: 0.3326\n",
            "Epoch 42/50\n",
            "207/207 [==============================] - 26s 126ms/step - loss: 2.9507 - accuracy: 0.4388 - f1_m: 0.4392 - precision_m: 0.4637 - recall_m: 0.4179 - val_loss: 5.2105 - val_accuracy: 0.3059 - val_f1_m: 0.3035 - val_precision_m: 0.3140 - val_recall_m: 0.2939\n",
            "Epoch 43/50\n",
            "207/207 [==============================] - 26s 125ms/step - loss: 2.9288 - accuracy: 0.4425 - f1_m: 0.4389 - precision_m: 0.4604 - recall_m: 0.4200 - val_loss: 4.7813 - val_accuracy: 0.3440 - val_f1_m: 0.3420 - val_precision_m: 0.3558 - val_recall_m: 0.3296\n",
            "Epoch 44/50\n",
            "207/207 [==============================] - 26s 125ms/step - loss: 2.8643 - accuracy: 0.4587 - f1_m: 0.4567 - precision_m: 0.4803 - recall_m: 0.4359 - val_loss: 4.3417 - val_accuracy: 0.3428 - val_f1_m: 0.3444 - val_precision_m: 0.3601 - val_recall_m: 0.3304\n",
            "Epoch 45/50\n",
            "207/207 [==============================] - 26s 126ms/step - loss: 2.8235 - accuracy: 0.4593 - f1_m: 0.4561 - precision_m: 0.4797 - recall_m: 0.4355 - val_loss: 5.0675 - val_accuracy: 0.3101 - val_f1_m: 0.3109 - val_precision_m: 0.3208 - val_recall_m: 0.3019\n",
            "Epoch 46/50\n",
            "207/207 [==============================] - 26s 125ms/step - loss: 2.8504 - accuracy: 0.4551 - f1_m: 0.4515 - precision_m: 0.4764 - recall_m: 0.4299 - val_loss: 4.5727 - val_accuracy: 0.3568 - val_f1_m: 0.3557 - val_precision_m: 0.3692 - val_recall_m: 0.3434\n",
            "Epoch 47/50\n",
            "207/207 [==============================] - 26s 126ms/step - loss: 2.7748 - accuracy: 0.4637 - f1_m: 0.4627 - precision_m: 0.4871 - recall_m: 0.4413 - val_loss: 4.5937 - val_accuracy: 0.3592 - val_f1_m: 0.3554 - val_precision_m: 0.3677 - val_recall_m: 0.3442\n",
            "Epoch 48/50\n",
            "207/207 [==============================] - 27s 130ms/step - loss: 2.6999 - accuracy: 0.4690 - f1_m: 0.4658 - precision_m: 0.4910 - recall_m: 0.4437 - val_loss: 5.7170 - val_accuracy: 0.3077 - val_f1_m: 0.3088 - val_precision_m: 0.3202 - val_recall_m: 0.2987\n",
            "Epoch 49/50\n",
            "207/207 [==============================] - 26s 125ms/step - loss: 2.6938 - accuracy: 0.4654 - f1_m: 0.4592 - precision_m: 0.4853 - recall_m: 0.4365 - val_loss: 5.3328 - val_accuracy: 0.3253 - val_f1_m: 0.3277 - val_precision_m: 0.3397 - val_recall_m: 0.3168\n",
            "Epoch 50/50\n",
            "207/207 [==============================] - 26s 126ms/step - loss: 2.6920 - accuracy: 0.4660 - f1_m: 0.4660 - precision_m: 0.4903 - recall_m: 0.4446 - val_loss: 5.3908 - val_accuracy: 0.3368 - val_f1_m: 0.3335 - val_precision_m: 0.3464 - val_recall_m: 0.3218\n"
          ],
          "name": "stdout"
        }
      ]
    },
    {
      "cell_type": "code",
      "metadata": {
        "colab": {
          "base_uri": "https://localhost:8080/"
        },
        "id": "OkWocVc0EsoZ",
        "outputId": "e1805eb9-df95-4fd3-cbfd-607f48f388f5"
      },
      "source": [
        "model_file_name = 'model_inceptionv3_not_tuning_v1'\n",
        "print(saved_path+model_file_name+'.h5')\n",
        "model.save(saved_path+model_file_name+'.h5')"
      ],
      "execution_count": null,
      "outputs": [
        {
          "output_type": "stream",
          "text": [
            "/content/drive/My Drive/Colab Notebooks/Thai Dessert Saved Models/model_inceptionv3_not_tuning_v1.h5\n"
          ],
          "name": "stdout"
        }
      ]
    },
    {
      "cell_type": "markdown",
      "metadata": {
        "id": "J7Tqk2AtJW1V"
      },
      "source": [
        "### Fine Tuning"
      ]
    },
    {
      "cell_type": "code",
      "metadata": {
        "colab": {
          "base_uri": "https://localhost:8080/"
        },
        "id": "V2bJw9UyJWb9",
        "outputId": "4b25e173-1570-40b4-b213-50554176614c"
      },
      "source": [
        "base_model.trainable = True\n",
        "print(\"Number of layers in the base model: \", len(base_model.layers))"
      ],
      "execution_count": null,
      "outputs": [
        {
          "output_type": "stream",
          "text": [
            "Number of layers in the base model:  311\n"
          ],
          "name": "stdout"
        }
      ]
    },
    {
      "cell_type": "code",
      "metadata": {
        "id": "mZ-kBr45Jcew"
      },
      "source": [
        "fine_tune_at = 306\n",
        "\n",
        "# Freeze all the layers before the `fine_tune_at` layer\n",
        "for layer in base_model.layers[:fine_tune_at]:\n",
        "  layer.trainable =  False"
      ],
      "execution_count": null,
      "outputs": []
    },
    {
      "cell_type": "code",
      "metadata": {
        "colab": {
          "base_uri": "https://localhost:8080/"
        },
        "id": "vdCdBeofJgrO",
        "outputId": "8fd114fa-2f4a-4b44-fef9-a885f469a0a7"
      },
      "source": [
        "model.compile(loss='categorical_crossentropy',\n",
        "              optimizer = tf.keras.optimizers.RMSprop(lr=base_learning_rate/10),\n",
        "              metrics=['accuracy',f1_m,precision_m, recall_m])\n",
        "\n",
        "model.summary()"
      ],
      "execution_count": null,
      "outputs": [
        {
          "output_type": "stream",
          "text": [
            "Model: \"sequential_1\"\n",
            "_________________________________________________________________\n",
            "Layer (type)                 Output Shape              Param #   \n",
            "=================================================================\n",
            "inception_v3 (Functional)    (None, 3, 3, 2048)        21802784  \n",
            "_________________________________________________________________\n",
            "global_average_pooling2d_1 ( (None, 2048)              0         \n",
            "_________________________________________________________________\n",
            "dense_1 (Dense)              (None, 10)                20490     \n",
            "=================================================================\n",
            "Total params: 21,823,274\n",
            "Trainable params: 20,490\n",
            "Non-trainable params: 21,802,784\n",
            "_________________________________________________________________\n"
          ],
          "name": "stdout"
        }
      ]
    },
    {
      "cell_type": "code",
      "metadata": {
        "colab": {
          "base_uri": "https://localhost:8080/"
        },
        "id": "gVLYfh3SJihU",
        "outputId": "4ef9eb2b-1108-4c24-e012-d351b4644633"
      },
      "source": [
        "fine_tune_epochs = 30\n",
        "total_epochs =  initial_epochs + fine_tune_epochs\n",
        "\n",
        "filepath = saved_path+\"model_inceptionv3_tuned_v1.h5\"\n",
        "checkpoint = ModelCheckpoint(filepath, monitor='loss', verbose=1, save_best_only=True, mode='min')\n",
        "callbacks_list = [checkpoint]\n",
        "\n",
        "history_fine = model.fit(train_batches,\n",
        "                         epochs=total_epochs,\n",
        "                         initial_epoch =  history.epoch[-1],\n",
        "                         validation_data=validation_batches,\n",
        "                         callbacks=callbacks_list)"
      ],
      "execution_count": null,
      "outputs": [
        {
          "output_type": "stream",
          "text": [
            "Epoch 50/80\n",
            "207/207 [==============================] - ETA: 0s - loss: 2.0709 - accuracy: 0.5344 - f1_m: 0.5316 - precision_m: 0.5697 - recall_m: 0.4995\n",
            "Epoch 00050: loss improved from inf to 2.07085, saving model to /content/drive/My Drive/Colab Notebooks/Thai Dessert Saved Models/model_inceptionv3_v1.h5\n",
            "207/207 [==============================] - 31s 148ms/step - loss: 2.0709 - accuracy: 0.5344 - f1_m: 0.5316 - precision_m: 0.5697 - recall_m: 0.4995 - val_loss: 4.0311 - val_accuracy: 0.3846 - val_f1_m: 0.3780 - val_precision_m: 0.3982 - val_recall_m: 0.3605\n",
            "Epoch 51/80\n",
            "206/207 [============================>.] - ETA: 0s - loss: 2.0081 - accuracy: 0.5420 - f1_m: 0.5409 - precision_m: 0.5821 - recall_m: 0.5061\n",
            "Epoch 00051: loss improved from 2.07085 to 2.00578, saving model to /content/drive/My Drive/Colab Notebooks/Thai Dessert Saved Models/model_inceptionv3_v1.h5\n",
            "207/207 [==============================] - 29s 139ms/step - loss: 2.0058 - accuracy: 0.5423 - f1_m: 0.5417 - precision_m: 0.5829 - recall_m: 0.5070 - val_loss: 3.9682 - val_accuracy: 0.3773 - val_f1_m: 0.3737 - val_precision_m: 0.3965 - val_recall_m: 0.3540\n",
            "Epoch 52/80\n",
            "207/207 [==============================] - ETA: 0s - loss: 1.9906 - accuracy: 0.5417 - f1_m: 0.5438 - precision_m: 0.5858 - recall_m: 0.5087\n",
            "Epoch 00052: loss improved from 2.00578 to 1.99058, saving model to /content/drive/My Drive/Colab Notebooks/Thai Dessert Saved Models/model_inceptionv3_v1.h5\n",
            "207/207 [==============================] - 28s 137ms/step - loss: 1.9906 - accuracy: 0.5417 - f1_m: 0.5438 - precision_m: 0.5858 - recall_m: 0.5087 - val_loss: 3.9723 - val_accuracy: 0.3689 - val_f1_m: 0.3684 - val_precision_m: 0.3894 - val_recall_m: 0.3500\n",
            "Epoch 53/80\n",
            "207/207 [==============================] - ETA: 0s - loss: 1.9869 - accuracy: 0.5394 - f1_m: 0.5398 - precision_m: 0.5798 - recall_m: 0.5061\n",
            "Epoch 00053: loss improved from 1.99058 to 1.98687, saving model to /content/drive/My Drive/Colab Notebooks/Thai Dessert Saved Models/model_inceptionv3_v1.h5\n",
            "207/207 [==============================] - 28s 137ms/step - loss: 1.9869 - accuracy: 0.5394 - f1_m: 0.5398 - precision_m: 0.5798 - recall_m: 0.5061 - val_loss: 4.0028 - val_accuracy: 0.3816 - val_f1_m: 0.3763 - val_precision_m: 0.3971 - val_recall_m: 0.3584\n",
            "Epoch 54/80\n",
            "207/207 [==============================] - ETA: 0s - loss: 1.9801 - accuracy: 0.5419 - f1_m: 0.5428 - precision_m: 0.5864 - recall_m: 0.5061\n",
            "Epoch 00054: loss improved from 1.98687 to 1.98014, saving model to /content/drive/My Drive/Colab Notebooks/Thai Dessert Saved Models/model_inceptionv3_v1.h5\n",
            "207/207 [==============================] - 28s 137ms/step - loss: 1.9801 - accuracy: 0.5419 - f1_m: 0.5428 - precision_m: 0.5864 - recall_m: 0.5061 - val_loss: 4.0166 - val_accuracy: 0.3816 - val_f1_m: 0.3797 - val_precision_m: 0.4000 - val_recall_m: 0.3621\n",
            "Epoch 55/80\n",
            "207/207 [==============================] - ETA: 0s - loss: 1.9731 - accuracy: 0.5414 - f1_m: 0.5440 - precision_m: 0.5869 - recall_m: 0.5079\n",
            "Epoch 00055: loss improved from 1.98014 to 1.97306, saving model to /content/drive/My Drive/Colab Notebooks/Thai Dessert Saved Models/model_inceptionv3_v1.h5\n",
            "207/207 [==============================] - 28s 136ms/step - loss: 1.9731 - accuracy: 0.5414 - f1_m: 0.5440 - precision_m: 0.5869 - recall_m: 0.5079 - val_loss: 3.9858 - val_accuracy: 0.3755 - val_f1_m: 0.3751 - val_precision_m: 0.3983 - val_recall_m: 0.3552\n",
            "Epoch 56/80\n",
            "207/207 [==============================] - ETA: 0s - loss: 1.9705 - accuracy: 0.5402 - f1_m: 0.5421 - precision_m: 0.5858 - recall_m: 0.5056\n",
            "Epoch 00056: loss improved from 1.97306 to 1.97047, saving model to /content/drive/My Drive/Colab Notebooks/Thai Dessert Saved Models/model_inceptionv3_v1.h5\n",
            "207/207 [==============================] - 28s 137ms/step - loss: 1.9705 - accuracy: 0.5402 - f1_m: 0.5421 - precision_m: 0.5858 - recall_m: 0.5056 - val_loss: 3.9465 - val_accuracy: 0.3798 - val_f1_m: 0.3767 - val_precision_m: 0.3991 - val_recall_m: 0.3573\n",
            "Epoch 57/80\n",
            "207/207 [==============================] - ETA: 0s - loss: 1.9589 - accuracy: 0.5400 - f1_m: 0.5391 - precision_m: 0.5823 - recall_m: 0.5031\n",
            "Epoch 00057: loss improved from 1.97047 to 1.95895, saving model to /content/drive/My Drive/Colab Notebooks/Thai Dessert Saved Models/model_inceptionv3_v1.h5\n",
            "207/207 [==============================] - 29s 139ms/step - loss: 1.9589 - accuracy: 0.5400 - f1_m: 0.5391 - precision_m: 0.5823 - recall_m: 0.5031 - val_loss: 3.9686 - val_accuracy: 0.3816 - val_f1_m: 0.3737 - val_precision_m: 0.3983 - val_recall_m: 0.3526\n",
            "Epoch 58/80\n",
            "207/207 [==============================] - ETA: 0s - loss: 1.9547 - accuracy: 0.5453 - f1_m: 0.5459 - precision_m: 0.5898 - recall_m: 0.5092\n",
            "Epoch 00058: loss improved from 1.95895 to 1.95471, saving model to /content/drive/My Drive/Colab Notebooks/Thai Dessert Saved Models/model_inceptionv3_v1.h5\n",
            "207/207 [==============================] - 28s 137ms/step - loss: 1.9547 - accuracy: 0.5453 - f1_m: 0.5459 - precision_m: 0.5898 - recall_m: 0.5092 - val_loss: 3.9913 - val_accuracy: 0.3761 - val_f1_m: 0.3749 - val_precision_m: 0.3960 - val_recall_m: 0.3566\n",
            "Epoch 59/80\n",
            "207/207 [==============================] - ETA: 0s - loss: 1.9490 - accuracy: 0.5444 - f1_m: 0.5494 - precision_m: 0.5944 - recall_m: 0.5116\n",
            "Epoch 00059: loss improved from 1.95471 to 1.94897, saving model to /content/drive/My Drive/Colab Notebooks/Thai Dessert Saved Models/model_inceptionv3_v1.h5\n",
            "207/207 [==============================] - 29s 139ms/step - loss: 1.9490 - accuracy: 0.5444 - f1_m: 0.5494 - precision_m: 0.5944 - recall_m: 0.5116 - val_loss: 3.9763 - val_accuracy: 0.3810 - val_f1_m: 0.3759 - val_precision_m: 0.3990 - val_recall_m: 0.3562\n",
            "Epoch 60/80\n",
            "207/207 [==============================] - ETA: 0s - loss: 1.9459 - accuracy: 0.5434 - f1_m: 0.5456 - precision_m: 0.5901 - recall_m: 0.5087\n",
            "Epoch 00060: loss improved from 1.94897 to 1.94590, saving model to /content/drive/My Drive/Colab Notebooks/Thai Dessert Saved Models/model_inceptionv3_v1.h5\n",
            "207/207 [==============================] - 29s 139ms/step - loss: 1.9459 - accuracy: 0.5434 - f1_m: 0.5456 - precision_m: 0.5901 - recall_m: 0.5087 - val_loss: 3.9598 - val_accuracy: 0.3743 - val_f1_m: 0.3756 - val_precision_m: 0.3987 - val_recall_m: 0.3558\n",
            "Epoch 61/80\n",
            "207/207 [==============================] - ETA: 0s - loss: 1.9402 - accuracy: 0.5455 - f1_m: 0.5458 - precision_m: 0.5945 - recall_m: 0.5058\n",
            "Epoch 00061: loss improved from 1.94590 to 1.94019, saving model to /content/drive/My Drive/Colab Notebooks/Thai Dessert Saved Models/model_inceptionv3_v1.h5\n",
            "207/207 [==============================] - 27s 133ms/step - loss: 1.9402 - accuracy: 0.5455 - f1_m: 0.5458 - precision_m: 0.5945 - recall_m: 0.5058 - val_loss: 3.9667 - val_accuracy: 0.3798 - val_f1_m: 0.3763 - val_precision_m: 0.3970 - val_recall_m: 0.3580\n",
            "Epoch 62/80\n",
            "207/207 [==============================] - ETA: 0s - loss: 1.9377 - accuracy: 0.5446 - f1_m: 0.5480 - precision_m: 0.5921 - recall_m: 0.5111\n",
            "Epoch 00062: loss improved from 1.94019 to 1.93774, saving model to /content/drive/My Drive/Colab Notebooks/Thai Dessert Saved Models/model_inceptionv3_v1.h5\n",
            "207/207 [==============================] - 28s 133ms/step - loss: 1.9377 - accuracy: 0.5446 - f1_m: 0.5480 - precision_m: 0.5921 - recall_m: 0.5111 - val_loss: 3.9588 - val_accuracy: 0.3810 - val_f1_m: 0.3757 - val_precision_m: 0.3998 - val_recall_m: 0.3550\n",
            "Epoch 63/80\n",
            "207/207 [==============================] - ETA: 0s - loss: 1.9342 - accuracy: 0.5472 - f1_m: 0.5481 - precision_m: 0.5928 - recall_m: 0.5108\n",
            "Epoch 00063: loss improved from 1.93774 to 1.93419, saving model to /content/drive/My Drive/Colab Notebooks/Thai Dessert Saved Models/model_inceptionv3_v1.h5\n",
            "207/207 [==============================] - 28s 134ms/step - loss: 1.9342 - accuracy: 0.5472 - f1_m: 0.5481 - precision_m: 0.5928 - recall_m: 0.5108 - val_loss: 3.9433 - val_accuracy: 0.3816 - val_f1_m: 0.3775 - val_precision_m: 0.4016 - val_recall_m: 0.3570\n",
            "Epoch 64/80\n",
            "207/207 [==============================] - ETA: 0s - loss: 1.9291 - accuracy: 0.5410 - f1_m: 0.5428 - precision_m: 0.5876 - recall_m: 0.5056\n",
            "Epoch 00064: loss improved from 1.93419 to 1.92909, saving model to /content/drive/My Drive/Colab Notebooks/Thai Dessert Saved Models/model_inceptionv3_v1.h5\n",
            "207/207 [==============================] - 28s 136ms/step - loss: 1.9291 - accuracy: 0.5410 - f1_m: 0.5428 - precision_m: 0.5876 - recall_m: 0.5056 - val_loss: 3.9689 - val_accuracy: 0.3834 - val_f1_m: 0.3820 - val_precision_m: 0.4052 - val_recall_m: 0.3619\n",
            "Epoch 65/80\n",
            "207/207 [==============================] - ETA: 0s - loss: 1.9264 - accuracy: 0.5422 - f1_m: 0.5423 - precision_m: 0.5897 - recall_m: 0.5034\n",
            "Epoch 00065: loss improved from 1.92909 to 1.92638, saving model to /content/drive/My Drive/Colab Notebooks/Thai Dessert Saved Models/model_inceptionv3_v1.h5\n",
            "207/207 [==============================] - 29s 139ms/step - loss: 1.9264 - accuracy: 0.5422 - f1_m: 0.5423 - precision_m: 0.5897 - recall_m: 0.5034 - val_loss: 3.9450 - val_accuracy: 0.3737 - val_f1_m: 0.3719 - val_precision_m: 0.3959 - val_recall_m: 0.3512\n",
            "Epoch 66/80\n",
            "206/207 [============================>.] - ETA: 0s - loss: 1.9195 - accuracy: 0.5466 - f1_m: 0.5505 - precision_m: 0.5986 - recall_m: 0.5109\n",
            "Epoch 00066: loss improved from 1.92638 to 1.91809, saving model to /content/drive/My Drive/Colab Notebooks/Thai Dessert Saved Models/model_inceptionv3_v1.h5\n",
            "207/207 [==============================] - 28s 136ms/step - loss: 1.9181 - accuracy: 0.5472 - f1_m: 0.5520 - precision_m: 0.5998 - recall_m: 0.5125 - val_loss: 3.9464 - val_accuracy: 0.3816 - val_f1_m: 0.3710 - val_precision_m: 0.3976 - val_recall_m: 0.3484\n",
            "Epoch 67/80\n",
            "206/207 [============================>.] - ETA: 0s - loss: 1.9168 - accuracy: 0.5488 - f1_m: 0.5504 - precision_m: 0.5976 - recall_m: 0.5115\n",
            "Epoch 00067: loss improved from 1.91809 to 1.91599, saving model to /content/drive/My Drive/Colab Notebooks/Thai Dessert Saved Models/model_inceptionv3_v1.h5\n",
            "207/207 [==============================] - 28s 137ms/step - loss: 1.9160 - accuracy: 0.5491 - f1_m: 0.5508 - precision_m: 0.5979 - recall_m: 0.5120 - val_loss: 3.9555 - val_accuracy: 0.3864 - val_f1_m: 0.3782 - val_precision_m: 0.4022 - val_recall_m: 0.3574\n",
            "Epoch 68/80\n",
            "207/207 [==============================] - ETA: 0s - loss: 1.9084 - accuracy: 0.5469 - f1_m: 0.5468 - precision_m: 0.5936 - recall_m: 0.5081\n",
            "Epoch 00068: loss improved from 1.91599 to 1.90841, saving model to /content/drive/My Drive/Colab Notebooks/Thai Dessert Saved Models/model_inceptionv3_v1.h5\n",
            "207/207 [==============================] - 29s 138ms/step - loss: 1.9084 - accuracy: 0.5469 - f1_m: 0.5468 - precision_m: 0.5936 - recall_m: 0.5081 - val_loss: 3.9424 - val_accuracy: 0.3725 - val_f1_m: 0.3801 - val_precision_m: 0.4041 - val_recall_m: 0.3597\n",
            "Epoch 69/80\n",
            "207/207 [==============================] - ETA: 0s - loss: 1.9072 - accuracy: 0.5440 - f1_m: 0.5462 - precision_m: 0.5947 - recall_m: 0.5062\n",
            "Epoch 00069: loss improved from 1.90841 to 1.90719, saving model to /content/drive/My Drive/Colab Notebooks/Thai Dessert Saved Models/model_inceptionv3_v1.h5\n",
            "207/207 [==============================] - 28s 134ms/step - loss: 1.9072 - accuracy: 0.5440 - f1_m: 0.5462 - precision_m: 0.5947 - recall_m: 0.5062 - val_loss: 3.9448 - val_accuracy: 0.3804 - val_f1_m: 0.3787 - val_precision_m: 0.4023 - val_recall_m: 0.3583\n",
            "Epoch 70/80\n",
            "207/207 [==============================] - ETA: 0s - loss: 1.9044 - accuracy: 0.5484 - f1_m: 0.5484 - precision_m: 0.5950 - recall_m: 0.5098\n",
            "Epoch 00070: loss improved from 1.90719 to 1.90443, saving model to /content/drive/My Drive/Colab Notebooks/Thai Dessert Saved Models/model_inceptionv3_v1.h5\n",
            "207/207 [==============================] - 28s 135ms/step - loss: 1.9044 - accuracy: 0.5484 - f1_m: 0.5484 - precision_m: 0.5950 - recall_m: 0.5098 - val_loss: 3.9229 - val_accuracy: 0.3761 - val_f1_m: 0.3790 - val_precision_m: 0.4013 - val_recall_m: 0.3597\n",
            "Epoch 71/80\n",
            "207/207 [==============================] - ETA: 0s - loss: 1.8976 - accuracy: 0.5509 - f1_m: 0.5488 - precision_m: 0.5948 - recall_m: 0.5105\n",
            "Epoch 00071: loss improved from 1.90443 to 1.89756, saving model to /content/drive/My Drive/Colab Notebooks/Thai Dessert Saved Models/model_inceptionv3_v1.h5\n",
            "207/207 [==============================] - 29s 139ms/step - loss: 1.8976 - accuracy: 0.5509 - f1_m: 0.5488 - precision_m: 0.5948 - recall_m: 0.5105 - val_loss: 3.9196 - val_accuracy: 0.3792 - val_f1_m: 0.3759 - val_precision_m: 0.4009 - val_recall_m: 0.3546\n",
            "Epoch 72/80\n",
            "207/207 [==============================] - ETA: 0s - loss: 1.8961 - accuracy: 0.5490 - f1_m: 0.5483 - precision_m: 0.5980 - recall_m: 0.5075\n",
            "Epoch 00072: loss improved from 1.89756 to 1.89613, saving model to /content/drive/My Drive/Colab Notebooks/Thai Dessert Saved Models/model_inceptionv3_v1.h5\n",
            "207/207 [==============================] - 28s 136ms/step - loss: 1.8961 - accuracy: 0.5490 - f1_m: 0.5483 - precision_m: 0.5980 - recall_m: 0.5075 - val_loss: 3.8938 - val_accuracy: 0.3749 - val_f1_m: 0.3779 - val_precision_m: 0.4008 - val_recall_m: 0.3580\n",
            "Epoch 73/80\n",
            "207/207 [==============================] - ETA: 0s - loss: 1.8927 - accuracy: 0.5490 - f1_m: 0.5480 - precision_m: 0.5956 - recall_m: 0.5086\n",
            "Epoch 00073: loss improved from 1.89613 to 1.89271, saving model to /content/drive/My Drive/Colab Notebooks/Thai Dessert Saved Models/model_inceptionv3_v1.h5\n",
            "207/207 [==============================] - 28s 135ms/step - loss: 1.8927 - accuracy: 0.5490 - f1_m: 0.5480 - precision_m: 0.5956 - recall_m: 0.5086 - val_loss: 3.9073 - val_accuracy: 0.3780 - val_f1_m: 0.3749 - val_precision_m: 0.3990 - val_recall_m: 0.3544\n",
            "Epoch 74/80\n",
            "207/207 [==============================] - ETA: 0s - loss: 1.8841 - accuracy: 0.5491 - f1_m: 0.5488 - precision_m: 0.5972 - recall_m: 0.5089\n",
            "Epoch 00074: loss improved from 1.89271 to 1.88408, saving model to /content/drive/My Drive/Colab Notebooks/Thai Dessert Saved Models/model_inceptionv3_v1.h5\n",
            "207/207 [==============================] - 28s 134ms/step - loss: 1.8841 - accuracy: 0.5491 - f1_m: 0.5488 - precision_m: 0.5972 - recall_m: 0.5089 - val_loss: 3.9172 - val_accuracy: 0.3780 - val_f1_m: 0.3718 - val_precision_m: 0.3942 - val_recall_m: 0.3525\n",
            "Epoch 75/80\n",
            "206/207 [============================>.] - ETA: 0s - loss: 1.8817 - accuracy: 0.5519 - f1_m: 0.5543 - precision_m: 0.6015 - recall_m: 0.5153\n",
            "Epoch 00075: loss improved from 1.88408 to 1.88073, saving model to /content/drive/My Drive/Colab Notebooks/Thai Dessert Saved Models/model_inceptionv3_v1.h5\n",
            "207/207 [==============================] - 28s 134ms/step - loss: 1.8807 - accuracy: 0.5517 - f1_m: 0.5536 - precision_m: 0.6008 - recall_m: 0.5147 - val_loss: 3.9337 - val_accuracy: 0.3798 - val_f1_m: 0.3751 - val_precision_m: 0.3989 - val_recall_m: 0.3544\n",
            "Epoch 76/80\n",
            "206/207 [============================>.] - ETA: 0s - loss: 1.8742 - accuracy: 0.5508 - f1_m: 0.5500 - precision_m: 0.5986 - recall_m: 0.5099\n",
            "Epoch 00076: loss improved from 1.88073 to 1.87622, saving model to /content/drive/My Drive/Colab Notebooks/Thai Dessert Saved Models/model_inceptionv3_v1.h5\n",
            "207/207 [==============================] - 29s 140ms/step - loss: 1.8762 - accuracy: 0.5506 - f1_m: 0.5494 - precision_m: 0.5979 - recall_m: 0.5093 - val_loss: 3.9045 - val_accuracy: 0.3810 - val_f1_m: 0.3793 - val_precision_m: 0.4021 - val_recall_m: 0.3592\n",
            "Epoch 77/80\n",
            "207/207 [==============================] - ETA: 0s - loss: 1.8757 - accuracy: 0.5559 - f1_m: 0.5546 - precision_m: 0.6021 - recall_m: 0.5152\n",
            "Epoch 00077: loss improved from 1.87622 to 1.87566, saving model to /content/drive/My Drive/Colab Notebooks/Thai Dessert Saved Models/model_inceptionv3_v1.h5\n",
            "207/207 [==============================] - 28s 135ms/step - loss: 1.8757 - accuracy: 0.5559 - f1_m: 0.5546 - precision_m: 0.6021 - recall_m: 0.5152 - val_loss: 3.9343 - val_accuracy: 0.3840 - val_f1_m: 0.3793 - val_precision_m: 0.4001 - val_recall_m: 0.3612\n",
            "Epoch 78/80\n",
            "206/207 [============================>.] - ETA: 0s - loss: 1.8668 - accuracy: 0.5519 - f1_m: 0.5526 - precision_m: 0.6023 - recall_m: 0.5115\n",
            "Epoch 00078: loss improved from 1.87566 to 1.86610, saving model to /content/drive/My Drive/Colab Notebooks/Thai Dessert Saved Models/model_inceptionv3_v1.h5\n",
            "207/207 [==============================] - 28s 135ms/step - loss: 1.8661 - accuracy: 0.5519 - f1_m: 0.5523 - precision_m: 0.6020 - recall_m: 0.5113 - val_loss: 3.9195 - val_accuracy: 0.3828 - val_f1_m: 0.3797 - val_precision_m: 0.4038 - val_recall_m: 0.3592\n",
            "Epoch 79/80\n",
            "207/207 [==============================] - ETA: 0s - loss: 1.8675 - accuracy: 0.5525 - f1_m: 0.5552 - precision_m: 0.6032 - recall_m: 0.5157\n",
            "Epoch 00079: loss did not improve from 1.86610\n",
            "207/207 [==============================] - 27s 132ms/step - loss: 1.8675 - accuracy: 0.5525 - f1_m: 0.5552 - precision_m: 0.6032 - recall_m: 0.5157 - val_loss: 3.8928 - val_accuracy: 0.3798 - val_f1_m: 0.3783 - val_precision_m: 0.4008 - val_recall_m: 0.3589\n",
            "Epoch 80/80\n",
            "207/207 [==============================] - ETA: 0s - loss: 1.8609 - accuracy: 0.5543 - f1_m: 0.5558 - precision_m: 0.6059 - recall_m: 0.5147\n",
            "Epoch 00080: loss improved from 1.86610 to 1.86091, saving model to /content/drive/My Drive/Colab Notebooks/Thai Dessert Saved Models/model_inceptionv3_v1.h5\n",
            "207/207 [==============================] - 28s 134ms/step - loss: 1.8609 - accuracy: 0.5543 - f1_m: 0.5558 - precision_m: 0.6059 - recall_m: 0.5147 - val_loss: 3.8945 - val_accuracy: 0.3822 - val_f1_m: 0.3800 - val_precision_m: 0.4046 - val_recall_m: 0.3591\n"
          ],
          "name": "stdout"
        }
      ]
    },
    {
      "cell_type": "code",
      "metadata": {
        "colab": {
          "base_uri": "https://localhost:8080/"
        },
        "id": "Fk6bvZULKZFB",
        "outputId": "4f54627c-d932-490e-f14b-8fa0f333908a"
      },
      "source": [
        "test_generator = ImageDataGenerator()\n",
        "test_data_generator = test_generator.flow_from_directory(\n",
        "    dataset_test_path,\n",
        "    target_size=(160, 160),\n",
        "    batch_size=32,\n",
        "    shuffle=False)\n",
        "test_steps_per_epoch = np.math.ceil(test_data_generator.samples / test_data_generator.batch_size)\n",
        "\n",
        "predictions = model.predict_generator(test_data_generator, steps=test_steps_per_epoch)\n",
        "# Get most likely class\n",
        "predicted_classes = np.argmax(predictions, axis=1)\n",
        "true_classes = test_data_generator.classes\n",
        "class_labels = list(test_data_generator.class_indices.keys())  \n",
        "\n",
        "report = classification_report(true_classes, predicted_classes, target_names=class_labels)\n",
        "print(report) "
      ],
      "execution_count": null,
      "outputs": [
        {
          "output_type": "stream",
          "text": [
            "Found 500 images belonging to 10 classes.\n",
            "                         precision    recall  f1-score   support\n",
            "\n",
            "          kanom_bua_loi       0.46      0.44      0.45        50\n",
            "             kanom_chan       0.40      0.40      0.40        50\n",
            "          kanom_dok_jok       0.43      0.48      0.45        50\n",
            "          kanom_kai_tao       0.33      0.34      0.34        50\n",
            "             kanom_krok       0.36      0.46      0.40        50\n",
            "        kanom_phoi_tong       0.38      0.40      0.39        50\n",
            "            kanom_salim       0.43      0.40      0.41        50\n",
            "kanom_sangkhaya_faktong       0.17      0.16      0.16        50\n",
            "         kanom_tong_yib       0.39      0.32      0.35        50\n",
            "         kanom_tong_yod       0.34      0.30      0.32        50\n",
            "\n",
            "               accuracy                           0.37       500\n",
            "              macro avg       0.37      0.37      0.37       500\n",
            "           weighted avg       0.37      0.37      0.37       500\n",
            "\n"
          ],
          "name": "stdout"
        }
      ]
    },
    {
      "cell_type": "code",
      "metadata": {
        "colab": {
          "base_uri": "https://localhost:8080/",
          "height": 470
        },
        "id": "L_CNekPbOMOz",
        "outputId": "fd32dae3-4d5b-4610-f30f-8a711db832ae"
      },
      "source": [
        "cf_matrix = confusion_matrix(true_classes, predicted_classes, normalize='true')\n",
        "sns.heatmap(cf_matrix, annot=True, cmap='Blues', linewidths=1,xticklabels=class_names,yticklabels=class_names)\n",
        "\n",
        "plt.ylabel('True label')\n",
        "plt.xlabel('Predicted label')\n",
        "plt.title('MobileNetV2\\n')\n",
        "plt.show()"
      ],
      "execution_count": null,
      "outputs": [
        {
          "output_type": "display_data",
          "data": {
            "image/png": "[encoded data removed]",
            "text/plain": [
              "<Figure size 432x288 with 2 Axes>"
            ]
          },
          "metadata": {
            "tags": [],
            "needs_background": "light"
          }
        }
      ]
    },
    {
      "cell_type": "code",
      "metadata": {
        "colab": {
          "base_uri": "https://localhost:8080/",
          "height": 503
        },
        "id": "-NVkWUUWON97",
        "outputId": "757cd6fc-e0b7-4f9b-f7b8-916e87100b18"
      },
      "source": [
        "# Visualize training results\n",
        "acc = history.history['accuracy']\n",
        "val_acc = history.history['val_accuracy']\n",
        "\n",
        "loss = history.history['loss']\n",
        "val_loss = history.history['val_loss']\n",
        "\n",
        "epochs_range = range(50)\n",
        "\n",
        "plt.figure(figsize=(8, 8))\n",
        "plt.subplot(1, 2, 1)\n",
        "plt.plot(epochs_range, acc, label='Training Accuracy')\n",
        "plt.plot(epochs_range, val_acc, label='Validation Accuracy')\n",
        "plt.legend(loc='lower right')\n",
        "plt.title('Training and Validation Accuracy')\n",
        "\n",
        "plt.subplot(1, 2, 2)\n",
        "plt.plot(epochs_range, loss, label='Training Loss')\n",
        "plt.plot(epochs_range, val_loss, label='Validation Loss')\n",
        "plt.legend(loc='upper right')\n",
        "plt.title('Training and Validation Loss')\n",
        "plt.show()"
      ],
      "execution_count": null,
      "outputs": [
        {
          "output_type": "display_data",
          "data": {
            "image/png": "[encoded data removed]",
            "text/plain": [
              "<Figure size 576x576 with 2 Axes>"
            ]
          },
          "metadata": {
            "tags": [],
            "needs_background": "light"
          }
        }
      ]
    },
    {
      "cell_type": "code",
      "metadata": {
        "id": "VScnRf1oORsx"
      },
      "source": [
        ""
      ],
      "execution_count": null,
      "outputs": []
    },
    {
      "cell_type": "markdown",
      "metadata": {
        "id": "_r5_KuhjuRo8"
      },
      "source": [
        "# Transfer MoblieNet V2\n",
        "\n"
      ]
    },
    {
      "cell_type": "code",
      "metadata": {
        "colab": {
          "base_uri": "https://localhost:8080/"
        },
        "id": "agnS1xQTwcxn",
        "outputId": "60505258-bc72-43f0-fae9-bf32b75e3b7c"
      },
      "source": [
        "BATCH_SIZE = 32\n",
        "SHUFFLE_BUFFER_SIZE = 1000\n",
        "img_height = 160\n",
        "img_width = 160\n",
        "\n",
        "train_batches = tf.keras.preprocessing.image_dataset_from_directory(\n",
        "  dataset_path,\n",
        "  validation_split=0.2,\n",
        "  subset=\"training\",\n",
        "  seed=123,\n",
        "  shuffle = True,\n",
        "  image_size=(img_height, img_width),\n",
        "  batch_size=BATCH_SIZE,\n",
        "  label_mode='categorical')"
      ],
      "execution_count": null,
      "outputs": [
        {
          "output_type": "stream",
          "text": [
            "Found 8256 files belonging to 10 classes.\n",
            "Using 6605 files for training.\n"
          ],
          "name": "stdout"
        }
      ]
    },
    {
      "cell_type": "code",
      "metadata": {
        "colab": {
          "base_uri": "https://localhost:8080/"
        },
        "id": "dW7Kca0ewjiz",
        "outputId": "f523b267-fedd-456e-cbce-45b11ffd72e4"
      },
      "source": [
        "validation_batches = tf.keras.preprocessing.image_dataset_from_directory(\n",
        "  dataset_path,\n",
        "  validation_split=0.2,\n",
        "  subset=\"validation\",\n",
        "  seed=123,\n",
        "  shuffle = True,\n",
        "  image_size=(img_height, img_width),\n",
        "  batch_size=BATCH_SIZE,\n",
        "  label_mode='categorical')"
      ],
      "execution_count": null,
      "outputs": [
        {
          "output_type": "stream",
          "text": [
            "Found 8256 files belonging to 10 classes.\n",
            "Using 1651 files for validation.\n"
          ],
          "name": "stdout"
        }
      ]
    },
    {
      "cell_type": "code",
      "metadata": {
        "colab": {
          "base_uri": "https://localhost:8080/"
        },
        "id": "eESD87CXwmBe",
        "outputId": "6686d1e7-2c80-4753-e99c-3b230b578f88"
      },
      "source": [
        "class_names = train_batches.class_names\n",
        "print(class_names)\n",
        "# print(test_batches.class_names)\n",
        "print(train_batches)\n",
        "print(validation_batches)"
      ],
      "execution_count": null,
      "outputs": [
        {
          "output_type": "stream",
          "text": [
            "['kanom_bua_loi', 'kanom_chan', 'kanom_dok_jok', 'kanom_kai_tao', 'kanom_krok', 'kanom_phoi_tong', 'kanom_salim', 'kanom_sangkhaya_faktong', 'kanom_tong_yib', 'kanom_tong_yod']\n",
            "['kanom_bua_loi', 'kanom_chan', 'kanom_dok_jok', 'kanom_kai_tao', 'kanom_krok', 'kanom_phoi_tong', 'kanom_salim', 'kanom_sangkhaya_faktong', 'kanom_tong_yib', 'kanom_tong_yod']\n",
            "<BatchDataset shapes: ((None, 160, 160, 3), (None, 10)), types: (tf.float32, tf.float32)>\n",
            "<BatchDataset shapes: ((None, 160, 160, 3), (None, 10)), types: (tf.float32, tf.float32)>\n"
          ],
          "name": "stdout"
        }
      ]
    },
    {
      "cell_type": "code",
      "metadata": {
        "id": "MQmn_prJtoni",
        "colab": {
          "base_uri": "https://localhost:8080/"
        },
        "outputId": "6aa1f555-7769-4054-ea0f-343b95d8f9b6"
      },
      "source": [
        "IMG_SHAPE = (160, 160, 3)\n",
        "\n",
        "# Create the base model from the pre-trained model MobileNet V2\n",
        "base_model = tf.keras.applications.MobileNetV2(input_shape=IMG_SHAPE,\n",
        "                                               include_top=False,\n",
        "                                               weights='imagenet')\n",
        "base_model.trainable = False"
      ],
      "execution_count": null,
      "outputs": [
        {
          "output_type": "stream",
          "text": [
            "Downloading data from https://storage.googleapis.com/tensorflow/keras-applications/mobilenet_v2/mobilenet_v2_weights_tf_dim_ordering_tf_kernels_1.0_160_no_top.h5\n",
            "9412608/9406464 [==============================] - 0s 0us/step\n"
          ],
          "name": "stdout"
        }
      ]
    },
    {
      "cell_type": "code",
      "metadata": {
        "colab": {
          "base_uri": "https://localhost:8080/"
        },
        "id": "86BuocUdufMs",
        "outputId": "e621009b-60fc-4585-c1b8-bee4c98ee82d"
      },
      "source": [
        "# Let's take a look at the base model architecture\n",
        "base_model.summary()"
      ],
      "execution_count": null,
      "outputs": [
        {
          "output_type": "stream",
          "text": [
            "Model: \"mobilenetv2_1.00_160\"\n",
            "__________________________________________________________________________________________________\n",
            "Layer (type)                    Output Shape         Param #     Connected to                     \n",
            "==================================================================================================\n",
            "input_1 (InputLayer)            [(None, 160, 160, 3) 0                                            \n",
            "__________________________________________________________________________________________________\n",
            "Conv1_pad (ZeroPadding2D)       (None, 161, 161, 3)  0           input_1[0][0]                    \n",
            "__________________________________________________________________________________________________\n",
            "Conv1 (Conv2D)                  (None, 80, 80, 32)   864         Conv1_pad[0][0]                  \n",
            "__________________________________________________________________________________________________\n",
            "bn_Conv1 (BatchNormalization)   (None, 80, 80, 32)   128         Conv1[0][0]                      \n",
            "__________________________________________________________________________________________________\n",
            "Conv1_relu (ReLU)               (None, 80, 80, 32)   0           bn_Conv1[0][0]                   \n",
            "__________________________________________________________________________________________________\n",
            "expanded_conv_depthwise (Depthw (None, 80, 80, 32)   288         Conv1_relu[0][0]                 \n",
            "__________________________________________________________________________________________________\n",
            "expanded_conv_depthwise_BN (Bat (None, 80, 80, 32)   128         expanded_conv_depthwise[0][0]    \n",
            "__________________________________________________________________________________________________\n",
            "expanded_conv_depthwise_relu (R (None, 80, 80, 32)   0           expanded_conv_depthwise_BN[0][0] \n",
            "__________________________________________________________________________________________________\n",
            "expanded_conv_project (Conv2D)  (None, 80, 80, 16)   512         expanded_conv_depthwise_relu[0][0\n",
            "__________________________________________________________________________________________________\n",
            "expanded_conv_project_BN (Batch (None, 80, 80, 16)   64          expanded_conv_project[0][0]      \n",
            "__________________________________________________________________________________________________\n",
            "block_1_expand (Conv2D)         (None, 80, 80, 96)   1536        expanded_conv_project_BN[0][0]   \n",
            "__________________________________________________________________________________________________\n",
            "block_1_expand_BN (BatchNormali (None, 80, 80, 96)   384         block_1_expand[0][0]             \n",
            "__________________________________________________________________________________________________\n",
            "block_1_expand_relu (ReLU)      (None, 80, 80, 96)   0           block_1_expand_BN[0][0]          \n",
            "__________________________________________________________________________________________________\n",
            "block_1_pad (ZeroPadding2D)     (None, 81, 81, 96)   0           block_1_expand_relu[0][0]        \n",
            "__________________________________________________________________________________________________\n",
            "block_1_depthwise (DepthwiseCon (None, 40, 40, 96)   864         block_1_pad[0][0]                \n",
            "__________________________________________________________________________________________________\n",
            "block_1_depthwise_BN (BatchNorm (None, 40, 40, 96)   384         block_1_depthwise[0][0]          \n",
            "__________________________________________________________________________________________________\n",
            "block_1_depthwise_relu (ReLU)   (None, 40, 40, 96)   0           block_1_depthwise_BN[0][0]       \n",
            "__________________________________________________________________________________________________\n",
            "block_1_project (Conv2D)        (None, 40, 40, 24)   2304        block_1_depthwise_relu[0][0]     \n",
            "__________________________________________________________________________________________________\n",
            "block_1_project_BN (BatchNormal (None, 40, 40, 24)   96          block_1_project[0][0]            \n",
            "__________________________________________________________________________________________________\n",
            "block_2_expand (Conv2D)         (None, 40, 40, 144)  3456        block_1_project_BN[0][0]         \n",
            "__________________________________________________________________________________________________\n",
            "block_2_expand_BN (BatchNormali (None, 40, 40, 144)  576         block_2_expand[0][0]             \n",
            "__________________________________________________________________________________________________\n",
            "block_2_expand_relu (ReLU)      (None, 40, 40, 144)  0           block_2_expand_BN[0][0]          \n",
            "__________________________________________________________________________________________________\n",
            "block_2_depthwise (DepthwiseCon (None, 40, 40, 144)  1296        block_2_expand_relu[0][0]        \n",
            "__________________________________________________________________________________________________\n",
            "block_2_depthwise_BN (BatchNorm (None, 40, 40, 144)  576         block_2_depthwise[0][0]          \n",
            "__________________________________________________________________________________________________\n",
            "block_2_depthwise_relu (ReLU)   (None, 40, 40, 144)  0           block_2_depthwise_BN[0][0]       \n",
            "__________________________________________________________________________________________________\n",
            "block_2_project (Conv2D)        (None, 40, 40, 24)   3456        block_2_depthwise_relu[0][0]     \n",
            "__________________________________________________________________________________________________\n",
            "block_2_project_BN (BatchNormal (None, 40, 40, 24)   96          block_2_project[0][0]            \n",
            "__________________________________________________________________________________________________\n",
            "block_2_add (Add)               (None, 40, 40, 24)   0           block_1_project_BN[0][0]         \n",
            "                                                                 block_2_project_BN[0][0]         \n",
            "__________________________________________________________________________________________________\n",
            "block_3_expand (Conv2D)         (None, 40, 40, 144)  3456        block_2_add[0][0]                \n",
            "__________________________________________________________________________________________________\n",
            "block_3_expand_BN (BatchNormali (None, 40, 40, 144)  576         block_3_expand[0][0]             \n",
            "__________________________________________________________________________________________________\n",
            "block_3_expand_relu (ReLU)      (None, 40, 40, 144)  0           block_3_expand_BN[0][0]          \n",
            "__________________________________________________________________________________________________\n",
            "block_3_pad (ZeroPadding2D)     (None, 41, 41, 144)  0           block_3_expand_relu[0][0]        \n",
            "__________________________________________________________________________________________________\n",
            "block_3_depthwise (DepthwiseCon (None, 20, 20, 144)  1296        block_3_pad[0][0]                \n",
            "__________________________________________________________________________________________________\n",
            "block_3_depthwise_BN (BatchNorm (None, 20, 20, 144)  576         block_3_depthwise[0][0]          \n",
            "__________________________________________________________________________________________________\n",
            "block_3_depthwise_relu (ReLU)   (None, 20, 20, 144)  0           block_3_depthwise_BN[0][0]       \n",
            "__________________________________________________________________________________________________\n",
            "block_3_project (Conv2D)        (None, 20, 20, 32)   4608        block_3_depthwise_relu[0][0]     \n",
            "__________________________________________________________________________________________________\n",
            "block_3_project_BN (BatchNormal (None, 20, 20, 32)   128         block_3_project[0][0]            \n",
            "__________________________________________________________________________________________________\n",
            "block_4_expand (Conv2D)         (None, 20, 20, 192)  6144        block_3_project_BN[0][0]         \n",
            "__________________________________________________________________________________________________\n",
            "block_4_expand_BN (BatchNormali (None, 20, 20, 192)  768         block_4_expand[0][0]             \n",
            "__________________________________________________________________________________________________\n",
            "block_4_expand_relu (ReLU)      (None, 20, 20, 192)  0           block_4_expand_BN[0][0]          \n",
            "__________________________________________________________________________________________________\n",
            "block_4_depthwise (DepthwiseCon (None, 20, 20, 192)  1728        block_4_expand_relu[0][0]        \n",
            "__________________________________________________________________________________________________\n",
            "block_4_depthwise_BN (BatchNorm (None, 20, 20, 192)  768         block_4_depthwise[0][0]          \n",
            "__________________________________________________________________________________________________\n",
            "block_4_depthwise_relu (ReLU)   (None, 20, 20, 192)  0           block_4_depthwise_BN[0][0]       \n",
            "__________________________________________________________________________________________________\n",
            "block_4_project (Conv2D)        (None, 20, 20, 32)   6144        block_4_depthwise_relu[0][0]     \n",
            "__________________________________________________________________________________________________\n",
            "block_4_project_BN (BatchNormal (None, 20, 20, 32)   128         block_4_project[0][0]            \n",
            "__________________________________________________________________________________________________\n",
            "block_4_add (Add)               (None, 20, 20, 32)   0           block_3_project_BN[0][0]         \n",
            "                                                                 block_4_project_BN[0][0]         \n",
            "__________________________________________________________________________________________________\n",
            "block_5_expand (Conv2D)         (None, 20, 20, 192)  6144        block_4_add[0][0]                \n",
            "__________________________________________________________________________________________________\n",
            "block_5_expand_BN (BatchNormali (None, 20, 20, 192)  768         block_5_expand[0][0]             \n",
            "__________________________________________________________________________________________________\n",
            "block_5_expand_relu (ReLU)      (None, 20, 20, 192)  0           block_5_expand_BN[0][0]          \n",
            "__________________________________________________________________________________________________\n",
            "block_5_depthwise (DepthwiseCon (None, 20, 20, 192)  1728        block_5_expand_relu[0][0]        \n",
            "__________________________________________________________________________________________________\n",
            "block_5_depthwise_BN (BatchNorm (None, 20, 20, 192)  768         block_5_depthwise[0][0]          \n",
            "__________________________________________________________________________________________________\n",
            "block_5_depthwise_relu (ReLU)   (None, 20, 20, 192)  0           block_5_depthwise_BN[0][0]       \n",
            "__________________________________________________________________________________________________\n",
            "block_5_project (Conv2D)        (None, 20, 20, 32)   6144        block_5_depthwise_relu[0][0]     \n",
            "__________________________________________________________________________________________________\n",
            "block_5_project_BN (BatchNormal (None, 20, 20, 32)   128         block_5_project[0][0]            \n",
            "__________________________________________________________________________________________________\n",
            "block_5_add (Add)               (None, 20, 20, 32)   0           block_4_add[0][0]                \n",
            "                                                                 block_5_project_BN[0][0]         \n",
            "__________________________________________________________________________________________________\n",
            "block_6_expand (Conv2D)         (None, 20, 20, 192)  6144        block_5_add[0][0]                \n",
            "__________________________________________________________________________________________________\n",
            "block_6_expand_BN (BatchNormali (None, 20, 20, 192)  768         block_6_expand[0][0]             \n",
            "__________________________________________________________________________________________________\n",
            "block_6_expand_relu (ReLU)      (None, 20, 20, 192)  0           block_6_expand_BN[0][0]          \n",
            "__________________________________________________________________________________________________\n",
            "block_6_pad (ZeroPadding2D)     (None, 21, 21, 192)  0           block_6_expand_relu[0][0]        \n",
            "__________________________________________________________________________________________________\n",
            "block_6_depthwise (DepthwiseCon (None, 10, 10, 192)  1728        block_6_pad[0][0]                \n",
            "__________________________________________________________________________________________________\n",
            "block_6_depthwise_BN (BatchNorm (None, 10, 10, 192)  768         block_6_depthwise[0][0]          \n",
            "__________________________________________________________________________________________________\n",
            "block_6_depthwise_relu (ReLU)   (None, 10, 10, 192)  0           block_6_depthwise_BN[0][0]       \n",
            "__________________________________________________________________________________________________\n",
            "block_6_project (Conv2D)        (None, 10, 10, 64)   12288       block_6_depthwise_relu[0][0]     \n",
            "__________________________________________________________________________________________________\n",
            "block_6_project_BN (BatchNormal (None, 10, 10, 64)   256         block_6_project[0][0]            \n",
            "__________________________________________________________________________________________________\n",
            "block_7_expand (Conv2D)         (None, 10, 10, 384)  24576       block_6_project_BN[0][0]         \n",
            "__________________________________________________________________________________________________\n",
            "block_7_expand_BN (BatchNormali (None, 10, 10, 384)  1536        block_7_expand[0][0]             \n",
            "__________________________________________________________________________________________________\n",
            "block_7_expand_relu (ReLU)      (None, 10, 10, 384)  0           block_7_expand_BN[0][0]          \n",
            "__________________________________________________________________________________________________\n",
            "block_7_depthwise (DepthwiseCon (None, 10, 10, 384)  3456        block_7_expand_relu[0][0]        \n",
            "__________________________________________________________________________________________________\n",
            "block_7_depthwise_BN (BatchNorm (None, 10, 10, 384)  1536        block_7_depthwise[0][0]          \n",
            "__________________________________________________________________________________________________\n",
            "block_7_depthwise_relu (ReLU)   (None, 10, 10, 384)  0           block_7_depthwise_BN[0][0]       \n",
            "__________________________________________________________________________________________________\n",
            "block_7_project (Conv2D)        (None, 10, 10, 64)   24576       block_7_depthwise_relu[0][0]     \n",
            "__________________________________________________________________________________________________\n",
            "block_7_project_BN (BatchNormal (None, 10, 10, 64)   256         block_7_project[0][0]            \n",
            "__________________________________________________________________________________________________\n",
            "block_7_add (Add)               (None, 10, 10, 64)   0           block_6_project_BN[0][0]         \n",
            "                                                                 block_7_project_BN[0][0]         \n",
            "__________________________________________________________________________________________________\n",
            "block_8_expand (Conv2D)         (None, 10, 10, 384)  24576       block_7_add[0][0]                \n",
            "__________________________________________________________________________________________________\n",
            "block_8_expand_BN (BatchNormali (None, 10, 10, 384)  1536        block_8_expand[0][0]             \n",
            "__________________________________________________________________________________________________\n",
            "block_8_expand_relu (ReLU)      (None, 10, 10, 384)  0           block_8_expand_BN[0][0]          \n",
            "__________________________________________________________________________________________________\n",
            "block_8_depthwise (DepthwiseCon (None, 10, 10, 384)  3456        block_8_expand_relu[0][0]        \n",
            "__________________________________________________________________________________________________\n",
            "block_8_depthwise_BN (BatchNorm (None, 10, 10, 384)  1536        block_8_depthwise[0][0]          \n",
            "__________________________________________________________________________________________________\n",
            "block_8_depthwise_relu (ReLU)   (None, 10, 10, 384)  0           block_8_depthwise_BN[0][0]       \n",
            "__________________________________________________________________________________________________\n",
            "block_8_project (Conv2D)        (None, 10, 10, 64)   24576       block_8_depthwise_relu[0][0]     \n",
            "__________________________________________________________________________________________________\n",
            "block_8_project_BN (BatchNormal (None, 10, 10, 64)   256         block_8_project[0][0]            \n",
            "__________________________________________________________________________________________________\n",
            "block_8_add (Add)               (None, 10, 10, 64)   0           block_7_add[0][0]                \n",
            "                                                                 block_8_project_BN[0][0]         \n",
            "__________________________________________________________________________________________________\n",
            "block_9_expand (Conv2D)         (None, 10, 10, 384)  24576       block_8_add[0][0]                \n",
            "__________________________________________________________________________________________________\n",
            "block_9_expand_BN (BatchNormali (None, 10, 10, 384)  1536        block_9_expand[0][0]             \n",
            "__________________________________________________________________________________________________\n",
            "block_9_expand_relu (ReLU)      (None, 10, 10, 384)  0           block_9_expand_BN[0][0]          \n",
            "__________________________________________________________________________________________________\n",
            "block_9_depthwise (DepthwiseCon (None, 10, 10, 384)  3456        block_9_expand_relu[0][0]        \n",
            "__________________________________________________________________________________________________\n",
            "block_9_depthwise_BN (BatchNorm (None, 10, 10, 384)  1536        block_9_depthwise[0][0]          \n",
            "__________________________________________________________________________________________________\n",
            "block_9_depthwise_relu (ReLU)   (None, 10, 10, 384)  0           block_9_depthwise_BN[0][0]       \n",
            "__________________________________________________________________________________________________\n",
            "block_9_project (Conv2D)        (None, 10, 10, 64)   24576       block_9_depthwise_relu[0][0]     \n",
            "__________________________________________________________________________________________________\n",
            "block_9_project_BN (BatchNormal (None, 10, 10, 64)   256         block_9_project[0][0]            \n",
            "__________________________________________________________________________________________________\n",
            "block_9_add (Add)               (None, 10, 10, 64)   0           block_8_add[0][0]                \n",
            "                                                                 block_9_project_BN[0][0]         \n",
            "__________________________________________________________________________________________________\n",
            "block_10_expand (Conv2D)        (None, 10, 10, 384)  24576       block_9_add[0][0]                \n",
            "__________________________________________________________________________________________________\n",
            "block_10_expand_BN (BatchNormal (None, 10, 10, 384)  1536        block_10_expand[0][0]            \n",
            "__________________________________________________________________________________________________\n",
            "block_10_expand_relu (ReLU)     (None, 10, 10, 384)  0           block_10_expand_BN[0][0]         \n",
            "__________________________________________________________________________________________________\n",
            "block_10_depthwise (DepthwiseCo (None, 10, 10, 384)  3456        block_10_expand_relu[0][0]       \n",
            "__________________________________________________________________________________________________\n",
            "block_10_depthwise_BN (BatchNor (None, 10, 10, 384)  1536        block_10_depthwise[0][0]         \n",
            "__________________________________________________________________________________________________\n",
            "block_10_depthwise_relu (ReLU)  (None, 10, 10, 384)  0           block_10_depthwise_BN[0][0]      \n",
            "__________________________________________________________________________________________________\n",
            "block_10_project (Conv2D)       (None, 10, 10, 96)   36864       block_10_depthwise_relu[0][0]    \n",
            "__________________________________________________________________________________________________\n",
            "block_10_project_BN (BatchNorma (None, 10, 10, 96)   384         block_10_project[0][0]           \n",
            "__________________________________________________________________________________________________\n",
            "block_11_expand (Conv2D)        (None, 10, 10, 576)  55296       block_10_project_BN[0][0]        \n",
            "__________________________________________________________________________________________________\n",
            "block_11_expand_BN (BatchNormal (None, 10, 10, 576)  2304        block_11_expand[0][0]            \n",
            "__________________________________________________________________________________________________\n",
            "block_11_expand_relu (ReLU)     (None, 10, 10, 576)  0           block_11_expand_BN[0][0]         \n",
            "__________________________________________________________________________________________________\n",
            "block_11_depthwise (DepthwiseCo (None, 10, 10, 576)  5184        block_11_expand_relu[0][0]       \n",
            "__________________________________________________________________________________________________\n",
            "block_11_depthwise_BN (BatchNor (None, 10, 10, 576)  2304        block_11_depthwise[0][0]         \n",
            "__________________________________________________________________________________________________\n",
            "block_11_depthwise_relu (ReLU)  (None, 10, 10, 576)  0           block_11_depthwise_BN[0][0]      \n",
            "__________________________________________________________________________________________________\n",
            "block_11_project (Conv2D)       (None, 10, 10, 96)   55296       block_11_depthwise_relu[0][0]    \n",
            "__________________________________________________________________________________________________\n",
            "block_11_project_BN (BatchNorma (None, 10, 10, 96)   384         block_11_project[0][0]           \n",
            "__________________________________________________________________________________________________\n",
            "block_11_add (Add)              (None, 10, 10, 96)   0           block_10_project_BN[0][0]        \n",
            "                                                                 block_11_project_BN[0][0]        \n",
            "__________________________________________________________________________________________________\n",
            "block_12_expand (Conv2D)        (None, 10, 10, 576)  55296       block_11_add[0][0]               \n",
            "__________________________________________________________________________________________________\n",
            "block_12_expand_BN (BatchNormal (None, 10, 10, 576)  2304        block_12_expand[0][0]            \n",
            "__________________________________________________________________________________________________\n",
            "block_12_expand_relu (ReLU)     (None, 10, 10, 576)  0           block_12_expand_BN[0][0]         \n",
            "__________________________________________________________________________________________________\n",
            "block_12_depthwise (DepthwiseCo (None, 10, 10, 576)  5184        block_12_expand_relu[0][0]       \n",
            "__________________________________________________________________________________________________\n",
            "block_12_depthwise_BN (BatchNor (None, 10, 10, 576)  2304        block_12_depthwise[0][0]         \n",
            "__________________________________________________________________________________________________\n",
            "block_12_depthwise_relu (ReLU)  (None, 10, 10, 576)  0           block_12_depthwise_BN[0][0]      \n",
            "__________________________________________________________________________________________________\n",
            "block_12_project (Conv2D)       (None, 10, 10, 96)   55296       block_12_depthwise_relu[0][0]    \n",
            "__________________________________________________________________________________________________\n",
            "block_12_project_BN (BatchNorma (None, 10, 10, 96)   384         block_12_project[0][0]           \n",
            "__________________________________________________________________________________________________\n",
            "block_12_add (Add)              (None, 10, 10, 96)   0           block_11_add[0][0]               \n",
            "                                                                 block_12_project_BN[0][0]        \n",
            "__________________________________________________________________________________________________\n",
            "block_13_expand (Conv2D)        (None, 10, 10, 576)  55296       block_12_add[0][0]               \n",
            "__________________________________________________________________________________________________\n",
            "block_13_expand_BN (BatchNormal (None, 10, 10, 576)  2304        block_13_expand[0][0]            \n",
            "__________________________________________________________________________________________________\n",
            "block_13_expand_relu (ReLU)     (None, 10, 10, 576)  0           block_13_expand_BN[0][0]         \n",
            "__________________________________________________________________________________________________\n",
            "block_13_pad (ZeroPadding2D)    (None, 11, 11, 576)  0           block_13_expand_relu[0][0]       \n",
            "__________________________________________________________________________________________________\n",
            "block_13_depthwise (DepthwiseCo (None, 5, 5, 576)    5184        block_13_pad[0][0]               \n",
            "__________________________________________________________________________________________________\n",
            "block_13_depthwise_BN (BatchNor (None, 5, 5, 576)    2304        block_13_depthwise[0][0]         \n",
            "__________________________________________________________________________________________________\n",
            "block_13_depthwise_relu (ReLU)  (None, 5, 5, 576)    0           block_13_depthwise_BN[0][0]      \n",
            "__________________________________________________________________________________________________\n",
            "block_13_project (Conv2D)       (None, 5, 5, 160)    92160       block_13_depthwise_relu[0][0]    \n",
            "__________________________________________________________________________________________________\n",
            "block_13_project_BN (BatchNorma (None, 5, 5, 160)    640         block_13_project[0][0]           \n",
            "__________________________________________________________________________________________________\n",
            "block_14_expand (Conv2D)        (None, 5, 5, 960)    153600      block_13_project_BN[0][0]        \n",
            "__________________________________________________________________________________________________\n",
            "block_14_expand_BN (BatchNormal (None, 5, 5, 960)    3840        block_14_expand[0][0]            \n",
            "__________________________________________________________________________________________________\n",
            "block_14_expand_relu (ReLU)     (None, 5, 5, 960)    0           block_14_expand_BN[0][0]         \n",
            "__________________________________________________________________________________________________\n",
            "block_14_depthwise (DepthwiseCo (None, 5, 5, 960)    8640        block_14_expand_relu[0][0]       \n",
            "__________________________________________________________________________________________________\n",
            "block_14_depthwise_BN (BatchNor (None, 5, 5, 960)    3840        block_14_depthwise[0][0]         \n",
            "__________________________________________________________________________________________________\n",
            "block_14_depthwise_relu (ReLU)  (None, 5, 5, 960)    0           block_14_depthwise_BN[0][0]      \n",
            "__________________________________________________________________________________________________\n",
            "block_14_project (Conv2D)       (None, 5, 5, 160)    153600      block_14_depthwise_relu[0][0]    \n",
            "__________________________________________________________________________________________________\n",
            "block_14_project_BN (BatchNorma (None, 5, 5, 160)    640         block_14_project[0][0]           \n",
            "__________________________________________________________________________________________________\n",
            "block_14_add (Add)              (None, 5, 5, 160)    0           block_13_project_BN[0][0]        \n",
            "                                                                 block_14_project_BN[0][0]        \n",
            "__________________________________________________________________________________________________\n",
            "block_15_expand (Conv2D)        (None, 5, 5, 960)    153600      block_14_add[0][0]               \n",
            "__________________________________________________________________________________________________\n",
            "block_15_expand_BN (BatchNormal (None, 5, 5, 960)    3840        block_15_expand[0][0]            \n",
            "__________________________________________________________________________________________________\n",
            "block_15_expand_relu (ReLU)     (None, 5, 5, 960)    0           block_15_expand_BN[0][0]         \n",
            "__________________________________________________________________________________________________\n",
            "block_15_depthwise (DepthwiseCo (None, 5, 5, 960)    8640        block_15_expand_relu[0][0]       \n",
            "__________________________________________________________________________________________________\n",
            "block_15_depthwise_BN (BatchNor (None, 5, 5, 960)    3840        block_15_depthwise[0][0]         \n",
            "__________________________________________________________________________________________________\n",
            "block_15_depthwise_relu (ReLU)  (None, 5, 5, 960)    0           block_15_depthwise_BN[0][0]      \n",
            "__________________________________________________________________________________________________\n",
            "block_15_project (Conv2D)       (None, 5, 5, 160)    153600      block_15_depthwise_relu[0][0]    \n",
            "__________________________________________________________________________________________________\n",
            "block_15_project_BN (BatchNorma (None, 5, 5, 160)    640         block_15_project[0][0]           \n",
            "__________________________________________________________________________________________________\n",
            "block_15_add (Add)              (None, 5, 5, 160)    0           block_14_add[0][0]               \n",
            "                                                                 block_15_project_BN[0][0]        \n",
            "__________________________________________________________________________________________________\n",
            "block_16_expand (Conv2D)        (None, 5, 5, 960)    153600      block_15_add[0][0]               \n",
            "__________________________________________________________________________________________________\n",
            "block_16_expand_BN (BatchNormal (None, 5, 5, 960)    3840        block_16_expand[0][0]            \n",
            "__________________________________________________________________________________________________\n",
            "block_16_expand_relu (ReLU)     (None, 5, 5, 960)    0           block_16_expand_BN[0][0]         \n",
            "__________________________________________________________________________________________________\n",
            "block_16_depthwise (DepthwiseCo (None, 5, 5, 960)    8640        block_16_expand_relu[0][0]       \n",
            "__________________________________________________________________________________________________\n",
            "block_16_depthwise_BN (BatchNor (None, 5, 5, 960)    3840        block_16_depthwise[0][0]         \n",
            "__________________________________________________________________________________________________\n",
            "block_16_depthwise_relu (ReLU)  (None, 5, 5, 960)    0           block_16_depthwise_BN[0][0]      \n",
            "__________________________________________________________________________________________________\n",
            "block_16_project (Conv2D)       (None, 5, 5, 320)    307200      block_16_depthwise_relu[0][0]    \n",
            "__________________________________________________________________________________________________\n",
            "block_16_project_BN (BatchNorma (None, 5, 5, 320)    1280        block_16_project[0][0]           \n",
            "__________________________________________________________________________________________________\n",
            "Conv_1 (Conv2D)                 (None, 5, 5, 1280)   409600      block_16_project_BN[0][0]        \n",
            "__________________________________________________________________________________________________\n",
            "Conv_1_bn (BatchNormalization)  (None, 5, 5, 1280)   5120        Conv_1[0][0]                     \n",
            "__________________________________________________________________________________________________\n",
            "out_relu (ReLU)                 (None, 5, 5, 1280)   0           Conv_1_bn[0][0]                  \n",
            "==================================================================================================\n",
            "Total params: 2,257,984\n",
            "Trainable params: 0\n",
            "Non-trainable params: 2,257,984\n",
            "__________________________________________________________________________________________________\n"
          ],
          "name": "stdout"
        }
      ]
    },
    {
      "cell_type": "code",
      "metadata": {
        "id": "u09P9OgtyyFn"
      },
      "source": [
        "global_average_layer = GlobalAveragePooling2D()\n",
        "preds = Dense(10,activation='softmax')#final layer with softmax activation for N classes"
      ],
      "execution_count": null,
      "outputs": []
    },
    {
      "cell_type": "code",
      "metadata": {
        "id": "555flkYrzkAY"
      },
      "source": [
        "model = Sequential([\n",
        "  base_model,\n",
        "  global_average_layer,\n",
        "  preds\n",
        "])"
      ],
      "execution_count": null,
      "outputs": []
    },
    {
      "cell_type": "code",
      "metadata": {
        "id": "9u6Aqloo1GSL"
      },
      "source": [
        "base_learning_rate = 0.0001\n",
        "model.compile(optimizer=tf.keras.optimizers.RMSprop(lr=base_learning_rate),\n",
        "              loss='categorical_crossentropy',\n",
        "              metrics=['accuracy',f1_m,precision_m, recall_m]) "
      ],
      "execution_count": null,
      "outputs": []
    },
    {
      "cell_type": "code",
      "metadata": {
        "colab": {
          "base_uri": "https://localhost:8080/"
        },
        "id": "CK3GoD2_14G7",
        "outputId": "ced0ed16-f288-4e41-ea46-dd56e8574c37"
      },
      "source": [
        "model.summary()"
      ],
      "execution_count": null,
      "outputs": [
        {
          "output_type": "stream",
          "text": [
            "Model: \"sequential\"\n",
            "_________________________________________________________________\n",
            "Layer (type)                 Output Shape              Param #   \n",
            "=================================================================\n",
            "mobilenetv2_1.00_160 (Functi (None, 5, 5, 1280)        2257984   \n",
            "_________________________________________________________________\n",
            "global_average_pooling2d (Gl (None, 1280)              0         \n",
            "_________________________________________________________________\n",
            "dense (Dense)                (None, 10)                12810     \n",
            "=================================================================\n",
            "Total params: 2,270,794\n",
            "Trainable params: 12,810\n",
            "Non-trainable params: 2,257,984\n",
            "_________________________________________________________________\n"
          ],
          "name": "stdout"
        }
      ]
    },
    {
      "cell_type": "code",
      "metadata": {
        "colab": {
          "base_uri": "https://localhost:8080/"
        },
        "id": "A7_a0I5i2oeI",
        "outputId": "aad9a857-604b-4c1f-f5fc-005537b3d6ad"
      },
      "source": [
        "initial_epochs = 50\n",
        "validation_steps = 20\n",
        "\n",
        "loss, accuracy, f1_score, precision, recall  = model.evaluate(validation_batches, steps = validation_steps)"
      ],
      "execution_count": null,
      "outputs": [
        {
          "output_type": "stream",
          "text": [
            "20/20 [==============================] - 273s 14s/step - loss: 2.9440 - accuracy: 0.0625 - f1_m: 0.0107 - precision_m: 0.0367 - recall_m: 0.0063\n"
          ],
          "name": "stdout"
        }
      ]
    },
    {
      "cell_type": "code",
      "metadata": {
        "colab": {
          "base_uri": "https://localhost:8080/"
        },
        "id": "rD_UYxHk2IG3",
        "outputId": "be7e5ba6-0cb5-4f48-b34b-c28431e58af0"
      },
      "source": [
        "history = model.fit(train_batches,\n",
        "                    epochs=initial_epochs,\n",
        "                    validation_data=validation_batches\n",
        "                    )"
      ],
      "execution_count": null,
      "outputs": [
        {
          "output_type": "stream",
          "text": [
            "Epoch 1/50\n",
            "207/207 [==============================] - 2484s 12s/step - loss: 2.2436 - accuracy: 0.2005 - f1_m: 0.0185 - precision_m: 0.1989 - recall_m: 0.0098 - val_loss: 1.9128 - val_accuracy: 0.3465 - val_f1_m: 0.0530 - val_precision_m: 0.5272 - val_recall_m: 0.0282\n",
            "Epoch 2/50\n",
            "207/207 [==============================] - 23s 111ms/step - loss: 1.7465 - accuracy: 0.4050 - f1_m: 0.1488 - precision_m: 0.7521 - recall_m: 0.0855 - val_loss: 1.5999 - val_accuracy: 0.4615 - val_f1_m: 0.2203 - val_precision_m: 0.8286 - val_recall_m: 0.1300\n",
            "Epoch 3/50\n",
            "207/207 [==============================] - 23s 110ms/step - loss: 1.5190 - accuracy: 0.4924 - f1_m: 0.2849 - precision_m: 0.8193 - recall_m: 0.1764 - val_loss: 1.4442 - val_accuracy: 0.5094 - val_f1_m: 0.3289 - val_precision_m: 0.8147 - val_recall_m: 0.2104\n",
            "Epoch 4/50\n",
            "207/207 [==============================] - 23s 110ms/step - loss: 1.3914 - accuracy: 0.5375 - f1_m: 0.3710 - precision_m: 0.8127 - recall_m: 0.2451 - val_loss: 1.3488 - val_accuracy: 0.5409 - val_f1_m: 0.3914 - val_precision_m: 0.7937 - val_recall_m: 0.2645\n",
            "Epoch 5/50\n",
            "207/207 [==============================] - 23s 111ms/step - loss: 1.3069 - accuracy: 0.5625 - f1_m: 0.4296 - precision_m: 0.8181 - recall_m: 0.2959 - val_loss: 1.2834 - val_accuracy: 0.5651 - val_f1_m: 0.4418 - val_precision_m: 0.8022 - val_recall_m: 0.3082\n",
            "Epoch 6/50\n",
            "207/207 [==============================] - 23s 111ms/step - loss: 1.2442 - accuracy: 0.5809 - f1_m: 0.4654 - precision_m: 0.8154 - recall_m: 0.3304 - val_loss: 1.2363 - val_accuracy: 0.5796 - val_f1_m: 0.4798 - val_precision_m: 0.8052 - val_recall_m: 0.3456\n",
            "Epoch 7/50\n",
            "207/207 [==============================] - 23s 110ms/step - loss: 1.1946 - accuracy: 0.5974 - f1_m: 0.4940 - precision_m: 0.8154 - recall_m: 0.3590 - val_loss: 1.1998 - val_accuracy: 0.5875 - val_f1_m: 0.5004 - val_precision_m: 0.7949 - val_recall_m: 0.3685\n",
            "Epoch 8/50\n",
            "207/207 [==============================] - 22s 108ms/step - loss: 1.1543 - accuracy: 0.6127 - f1_m: 0.5201 - precision_m: 0.8161 - recall_m: 0.3864 - val_loss: 1.1693 - val_accuracy: 0.5942 - val_f1_m: 0.5172 - val_precision_m: 0.7979 - val_recall_m: 0.3859\n",
            "Epoch 9/50\n",
            "207/207 [==============================] - 22s 109ms/step - loss: 1.1214 - accuracy: 0.6268 - f1_m: 0.5378 - precision_m: 0.8232 - recall_m: 0.4038 - val_loss: 1.1466 - val_accuracy: 0.6015 - val_f1_m: 0.5275 - val_precision_m: 0.8018 - val_recall_m: 0.3967\n",
            "Epoch 10/50\n",
            "207/207 [==============================] - 22s 108ms/step - loss: 1.0913 - accuracy: 0.6345 - f1_m: 0.5571 - precision_m: 0.8242 - recall_m: 0.4246 - val_loss: 1.1244 - val_accuracy: 0.6099 - val_f1_m: 0.5381 - val_precision_m: 0.7983 - val_recall_m: 0.4100\n",
            "Epoch 11/50\n",
            "207/207 [==============================] - 22s 106ms/step - loss: 1.0666 - accuracy: 0.6441 - f1_m: 0.5724 - precision_m: 0.8257 - recall_m: 0.4421 - val_loss: 1.1062 - val_accuracy: 0.6196 - val_f1_m: 0.5508 - val_precision_m: 0.8030 - val_recall_m: 0.4245\n",
            "Epoch 12/50\n",
            "207/207 [==============================] - 22s 106ms/step - loss: 1.0439 - accuracy: 0.6521 - f1_m: 0.5871 - precision_m: 0.8343 - recall_m: 0.4569 - val_loss: 1.0900 - val_accuracy: 0.6245 - val_f1_m: 0.5588 - val_precision_m: 0.7929 - val_recall_m: 0.4360\n",
            "Epoch 13/50\n",
            "207/207 [==============================] - 22s 108ms/step - loss: 1.0232 - accuracy: 0.6587 - f1_m: 0.5973 - precision_m: 0.8328 - recall_m: 0.4696 - val_loss: 1.0791 - val_accuracy: 0.6202 - val_f1_m: 0.5679 - val_precision_m: 0.8038 - val_recall_m: 0.4444\n",
            "Epoch 14/50\n",
            "207/207 [==============================] - 23s 111ms/step - loss: 1.0045 - accuracy: 0.6637 - f1_m: 0.6058 - precision_m: 0.8341 - recall_m: 0.4790 - val_loss: 1.0650 - val_accuracy: 0.6275 - val_f1_m: 0.5840 - val_precision_m: 0.8051 - val_recall_m: 0.4631\n",
            "Epoch 15/50\n",
            "207/207 [==============================] - 22s 106ms/step - loss: 0.9869 - accuracy: 0.6725 - f1_m: 0.6178 - precision_m: 0.8361 - recall_m: 0.4935 - val_loss: 1.0553 - val_accuracy: 0.6311 - val_f1_m: 0.5893 - val_precision_m: 0.8032 - val_recall_m: 0.4684\n",
            "Epoch 16/50\n",
            "207/207 [==============================] - 22s 106ms/step - loss: 0.9715 - accuracy: 0.6775 - f1_m: 0.6241 - precision_m: 0.8384 - recall_m: 0.5015 - val_loss: 1.0462 - val_accuracy: 0.6336 - val_f1_m: 0.5934 - val_precision_m: 0.8023 - val_recall_m: 0.4732\n",
            "Epoch 17/50\n",
            "207/207 [==============================] - 22s 107ms/step - loss: 0.9565 - accuracy: 0.6837 - f1_m: 0.6296 - precision_m: 0.8417 - recall_m: 0.5065 - val_loss: 1.0369 - val_accuracy: 0.6336 - val_f1_m: 0.5999 - val_precision_m: 0.8035 - val_recall_m: 0.4819\n",
            "Epoch 18/50\n",
            "207/207 [==============================] - 22s 108ms/step - loss: 0.9433 - accuracy: 0.6875 - f1_m: 0.6361 - precision_m: 0.8393 - recall_m: 0.5161 - val_loss: 1.0302 - val_accuracy: 0.6420 - val_f1_m: 0.6065 - val_precision_m: 0.8038 - val_recall_m: 0.4903\n",
            "Epoch 19/50\n",
            "207/207 [==============================] - 23s 110ms/step - loss: 0.9305 - accuracy: 0.6922 - f1_m: 0.6452 - precision_m: 0.8439 - recall_m: 0.5263 - val_loss: 1.0221 - val_accuracy: 0.6457 - val_f1_m: 0.6123 - val_precision_m: 0.8071 - val_recall_m: 0.4961\n",
            "Epoch 20/50\n",
            "207/207 [==============================] - 23s 111ms/step - loss: 0.9184 - accuracy: 0.6946 - f1_m: 0.6514 - precision_m: 0.8436 - recall_m: 0.5341 - val_loss: 1.0151 - val_accuracy: 0.6487 - val_f1_m: 0.6149 - val_precision_m: 0.8028 - val_recall_m: 0.5007\n",
            "Epoch 21/50\n",
            "207/207 [==============================] - 23s 111ms/step - loss: 0.9071 - accuracy: 0.7022 - f1_m: 0.6560 - precision_m: 0.8441 - recall_m: 0.5400 - val_loss: 1.0095 - val_accuracy: 0.6457 - val_f1_m: 0.6160 - val_precision_m: 0.8059 - val_recall_m: 0.5013\n",
            "Epoch 22/50\n",
            "207/207 [==============================] - 23s 113ms/step - loss: 0.8966 - accuracy: 0.7033 - f1_m: 0.6600 - precision_m: 0.8460 - recall_m: 0.5451 - val_loss: 1.0041 - val_accuracy: 0.6548 - val_f1_m: 0.6209 - val_precision_m: 0.8058 - val_recall_m: 0.5100\n",
            "Epoch 23/50\n",
            "207/207 [==============================] - 23s 113ms/step - loss: 0.8859 - accuracy: 0.7055 - f1_m: 0.6650 - precision_m: 0.8481 - recall_m: 0.5509 - val_loss: 0.9982 - val_accuracy: 0.6529 - val_f1_m: 0.6221 - val_precision_m: 0.8027 - val_recall_m: 0.5115\n",
            "Epoch 24/50\n",
            "207/207 [==============================] - 23s 113ms/step - loss: 0.8766 - accuracy: 0.7063 - f1_m: 0.6728 - precision_m: 0.8512 - recall_m: 0.5594 - val_loss: 0.9945 - val_accuracy: 0.6535 - val_f1_m: 0.6270 - val_precision_m: 0.8128 - val_recall_m: 0.5143\n",
            "Epoch 25/50\n",
            "207/207 [==============================] - 24s 114ms/step - loss: 0.8671 - accuracy: 0.7113 - f1_m: 0.6753 - precision_m: 0.8533 - recall_m: 0.5630 - val_loss: 0.9895 - val_accuracy: 0.6560 - val_f1_m: 0.6277 - val_precision_m: 0.8023 - val_recall_m: 0.5187\n",
            "Epoch 26/50\n",
            "207/207 [==============================] - 24s 116ms/step - loss: 0.8589 - accuracy: 0.7140 - f1_m: 0.6787 - precision_m: 0.8548 - recall_m: 0.5665 - val_loss: 0.9847 - val_accuracy: 0.6626 - val_f1_m: 0.6279 - val_precision_m: 0.8001 - val_recall_m: 0.5193\n",
            "Epoch 27/50\n",
            "207/207 [==============================] - 25s 120ms/step - loss: 0.8500 - accuracy: 0.7182 - f1_m: 0.6834 - precision_m: 0.8563 - recall_m: 0.5728 - val_loss: 0.9818 - val_accuracy: 0.6541 - val_f1_m: 0.6346 - val_precision_m: 0.8063 - val_recall_m: 0.5268\n",
            "Epoch 28/50\n",
            "207/207 [==============================] - 24s 116ms/step - loss: 0.8418 - accuracy: 0.7225 - f1_m: 0.6893 - precision_m: 0.8593 - recall_m: 0.5792 - val_loss: 0.9788 - val_accuracy: 0.6596 - val_f1_m: 0.6342 - val_precision_m: 0.8062 - val_recall_m: 0.5270\n",
            "Epoch 29/50\n",
            "207/207 [==============================] - 24s 116ms/step - loss: 0.8340 - accuracy: 0.7229 - f1_m: 0.6878 - precision_m: 0.8550 - recall_m: 0.5792 - val_loss: 0.9754 - val_accuracy: 0.6572 - val_f1_m: 0.6381 - val_precision_m: 0.8015 - val_recall_m: 0.5334\n",
            "Epoch 30/50\n",
            "207/207 [==============================] - 24s 114ms/step - loss: 0.8267 - accuracy: 0.7278 - f1_m: 0.6954 - precision_m: 0.8596 - recall_m: 0.5872 - val_loss: 0.9714 - val_accuracy: 0.6638 - val_f1_m: 0.6350 - val_precision_m: 0.7980 - val_recall_m: 0.5303\n",
            "Epoch 31/50\n",
            "207/207 [==============================] - 24s 114ms/step - loss: 0.8189 - accuracy: 0.7307 - f1_m: 0.6994 - precision_m: 0.8603 - recall_m: 0.5925 - val_loss: 0.9690 - val_accuracy: 0.6602 - val_f1_m: 0.6392 - val_precision_m: 0.8023 - val_recall_m: 0.5342\n",
            "Epoch 32/50\n",
            "207/207 [==============================] - 24s 115ms/step - loss: 0.8115 - accuracy: 0.7316 - f1_m: 0.7005 - precision_m: 0.8601 - recall_m: 0.5944 - val_loss: 0.9678 - val_accuracy: 0.6632 - val_f1_m: 0.6410 - val_precision_m: 0.8041 - val_recall_m: 0.5360\n",
            "Epoch 33/50\n",
            "207/207 [==============================] - 24s 116ms/step - loss: 0.8051 - accuracy: 0.7335 - f1_m: 0.7055 - precision_m: 0.8599 - recall_m: 0.6013 - val_loss: 0.9636 - val_accuracy: 0.6632 - val_f1_m: 0.6378 - val_precision_m: 0.7937 - val_recall_m: 0.5368\n",
            "Epoch 34/50\n",
            "207/207 [==============================] - 24s 116ms/step - loss: 0.7981 - accuracy: 0.7373 - f1_m: 0.7090 - precision_m: 0.8627 - recall_m: 0.6053 - val_loss: 0.9621 - val_accuracy: 0.6663 - val_f1_m: 0.6448 - val_precision_m: 0.8024 - val_recall_m: 0.5422\n",
            "Epoch 35/50\n",
            "207/207 [==============================] - 24s 116ms/step - loss: 0.7923 - accuracy: 0.7393 - f1_m: 0.7102 - precision_m: 0.8609 - recall_m: 0.6079 - val_loss: 0.9591 - val_accuracy: 0.6687 - val_f1_m: 0.6470 - val_precision_m: 0.8020 - val_recall_m: 0.5450\n",
            "Epoch 36/50\n",
            "207/207 [==============================] - 24s 116ms/step - loss: 0.7861 - accuracy: 0.7403 - f1_m: 0.7145 - precision_m: 0.8667 - recall_m: 0.6115 - val_loss: 0.9573 - val_accuracy: 0.6735 - val_f1_m: 0.6435 - val_precision_m: 0.7985 - val_recall_m: 0.5420\n",
            "Epoch 37/50\n",
            "207/207 [==============================] - 24s 116ms/step - loss: 0.7796 - accuracy: 0.7425 - f1_m: 0.7143 - precision_m: 0.8645 - recall_m: 0.6120 - val_loss: 0.9553 - val_accuracy: 0.6675 - val_f1_m: 0.6470 - val_precision_m: 0.7961 - val_recall_m: 0.5475\n",
            "Epoch 38/50\n",
            "207/207 [==============================] - 24s 118ms/step - loss: 0.7743 - accuracy: 0.7429 - f1_m: 0.7215 - precision_m: 0.8674 - recall_m: 0.6209 - val_loss: 0.9523 - val_accuracy: 0.6705 - val_f1_m: 0.6473 - val_precision_m: 0.7962 - val_recall_m: 0.5478\n",
            "Epoch 39/50\n",
            "207/207 [==============================] - 24s 117ms/step - loss: 0.7684 - accuracy: 0.7463 - f1_m: 0.7222 - precision_m: 0.8677 - recall_m: 0.6220 - val_loss: 0.9495 - val_accuracy: 0.6705 - val_f1_m: 0.6453 - val_precision_m: 0.7981 - val_recall_m: 0.5448\n",
            "Epoch 40/50\n",
            "207/207 [==============================] - 25s 122ms/step - loss: 0.7629 - accuracy: 0.7473 - f1_m: 0.7232 - precision_m: 0.8661 - recall_m: 0.6239 - val_loss: 0.9475 - val_accuracy: 0.6741 - val_f1_m: 0.6491 - val_precision_m: 0.7949 - val_recall_m: 0.5508\n",
            "Epoch 41/50\n",
            "207/207 [==============================] - 24s 116ms/step - loss: 0.7578 - accuracy: 0.7493 - f1_m: 0.7258 - precision_m: 0.8671 - recall_m: 0.6276 - val_loss: 0.9468 - val_accuracy: 0.6717 - val_f1_m: 0.6453 - val_precision_m: 0.7894 - val_recall_m: 0.5478\n",
            "Epoch 42/50\n",
            "207/207 [==============================] - 24s 116ms/step - loss: 0.7516 - accuracy: 0.7500 - f1_m: 0.7270 - precision_m: 0.8681 - recall_m: 0.6289 - val_loss: 0.9460 - val_accuracy: 0.6747 - val_f1_m: 0.6477 - val_precision_m: 0.7936 - val_recall_m: 0.5502\n",
            "Epoch 43/50\n",
            "207/207 [==============================] - 24s 115ms/step - loss: 0.7473 - accuracy: 0.7552 - f1_m: 0.7301 - precision_m: 0.8686 - recall_m: 0.6326 - val_loss: 0.9441 - val_accuracy: 0.6772 - val_f1_m: 0.6526 - val_precision_m: 0.7959 - val_recall_m: 0.5554\n",
            "Epoch 44/50\n",
            "207/207 [==============================] - 24s 116ms/step - loss: 0.7421 - accuracy: 0.7553 - f1_m: 0.7336 - precision_m: 0.8724 - recall_m: 0.6357 - val_loss: 0.9421 - val_accuracy: 0.6790 - val_f1_m: 0.6545 - val_precision_m: 0.7993 - val_recall_m: 0.5572\n",
            "Epoch 45/50\n",
            "207/207 [==============================] - 24s 116ms/step - loss: 0.7369 - accuracy: 0.7562 - f1_m: 0.7360 - precision_m: 0.8733 - recall_m: 0.6394 - val_loss: 0.9411 - val_accuracy: 0.6747 - val_f1_m: 0.6485 - val_precision_m: 0.7921 - val_recall_m: 0.5512\n",
            "Epoch 46/50\n",
            "207/207 [==============================] - 24s 116ms/step - loss: 0.7321 - accuracy: 0.7602 - f1_m: 0.7385 - precision_m: 0.8752 - recall_m: 0.6420 - val_loss: 0.9376 - val_accuracy: 0.6820 - val_f1_m: 0.6561 - val_precision_m: 0.7972 - val_recall_m: 0.5594\n",
            "Epoch 47/50\n",
            "207/207 [==============================] - 24s 117ms/step - loss: 0.7276 - accuracy: 0.7597 - f1_m: 0.7384 - precision_m: 0.8726 - recall_m: 0.6431 - val_loss: 0.9384 - val_accuracy: 0.6772 - val_f1_m: 0.6543 - val_precision_m: 0.7909 - val_recall_m: 0.5612\n",
            "Epoch 48/50\n",
            "207/207 [==============================] - 24s 117ms/step - loss: 0.7229 - accuracy: 0.7606 - f1_m: 0.7407 - precision_m: 0.8730 - recall_m: 0.6464 - val_loss: 0.9357 - val_accuracy: 0.6832 - val_f1_m: 0.6556 - val_precision_m: 0.7914 - val_recall_m: 0.5626\n",
            "Epoch 49/50\n",
            "207/207 [==============================] - 24s 117ms/step - loss: 0.7186 - accuracy: 0.7640 - f1_m: 0.7426 - precision_m: 0.8733 - recall_m: 0.6487 - val_loss: 0.9352 - val_accuracy: 0.6796 - val_f1_m: 0.6565 - val_precision_m: 0.7923 - val_recall_m: 0.5636\n",
            "Epoch 50/50\n",
            "207/207 [==============================] - 24s 116ms/step - loss: 0.7141 - accuracy: 0.7670 - f1_m: 0.7453 - precision_m: 0.8766 - recall_m: 0.6511 - val_loss: 0.9335 - val_accuracy: 0.6814 - val_f1_m: 0.6580 - val_precision_m: 0.7931 - val_recall_m: 0.5640\n"
          ],
          "name": "stdout"
        }
      ]
    },
    {
      "cell_type": "code",
      "metadata": {
        "colab": {
          "base_uri": "https://localhost:8080/"
        },
        "id": "n0WdDxLavyXL",
        "outputId": "ac2514bd-fd6c-4b81-a333-1c6f880f54e5"
      },
      "source": [
        "model_file_name = 'model_mobilenetv2_not_tuning_v1'\n",
        "print(saved_path+model_file_name+'.h5')\n",
        "model.save(saved_path+model_file_name+'.h5')"
      ],
      "execution_count": null,
      "outputs": [
        {
          "output_type": "stream",
          "text": [
            "/content/drive/My Drive/Colab Notebooks/Thai Dessert Saved Models/model_mobilenetv2_not_tuning_v1.h5\n"
          ],
          "name": "stdout"
        }
      ]
    },
    {
      "cell_type": "markdown",
      "metadata": {
        "id": "4EJ4BJw6-DXE"
      },
      "source": [
        "### Fine Tuning"
      ]
    },
    {
      "cell_type": "code",
      "metadata": {
        "id": "7G91UBB72ltf",
        "colab": {
          "base_uri": "https://localhost:8080/"
        },
        "outputId": "96ffe105-30b5-4c88-b104-6e0fbcb1ae4b"
      },
      "source": [
        "base_model.trainable = True\n",
        "print(\"Number of layers in the base model: \", len(base_model.layers))"
      ],
      "execution_count": null,
      "outputs": [
        {
          "output_type": "stream",
          "text": [
            "Number of layers in the base model:  155\n"
          ],
          "name": "stdout"
        }
      ]
    },
    {
      "cell_type": "code",
      "metadata": {
        "id": "OC7NBfjA-G17"
      },
      "source": [
        "fine_tune_at = 152\n",
        "\n",
        "# Freeze all the layers before the `fine_tune_at` layer\n",
        "for layer in base_model.layers[:fine_tune_at]:\n",
        "  layer.trainable =  False"
      ],
      "execution_count": null,
      "outputs": []
    },
    {
      "cell_type": "code",
      "metadata": {
        "id": "vgGaRSmz-L58"
      },
      "source": [
        "model.compile(loss='categorical_crossentropy',\n",
        "              optimizer = tf.keras.optimizers.RMSprop(lr=base_learning_rate/10),\n",
        "              metrics=['accuracy',f1_m,precision_m, recall_m])"
      ],
      "execution_count": null,
      "outputs": []
    },
    {
      "cell_type": "code",
      "metadata": {
        "colab": {
          "base_uri": "https://localhost:8080/"
        },
        "id": "10tQ8aPG-O57",
        "outputId": "3466f55e-6ba6-46f9-a3a8-fe2f3d27bd70"
      },
      "source": [
        "model.summary()"
      ],
      "execution_count": null,
      "outputs": [
        {
          "output_type": "stream",
          "text": [
            "Model: \"sequential\"\n",
            "_________________________________________________________________\n",
            "Layer (type)                 Output Shape              Param #   \n",
            "=================================================================\n",
            "mobilenetv2_1.00_160 (Functi (None, 5, 5, 1280)        2257984   \n",
            "_________________________________________________________________\n",
            "global_average_pooling2d (Gl (None, 1280)              0         \n",
            "_________________________________________________________________\n",
            "dense (Dense)                (None, 10)                12810     \n",
            "=================================================================\n",
            "Total params: 2,270,794\n",
            "Trainable params: 424,970\n",
            "Non-trainable params: 1,845,824\n",
            "_________________________________________________________________\n"
          ],
          "name": "stdout"
        }
      ]
    },
    {
      "cell_type": "code",
      "metadata": {
        "colab": {
          "base_uri": "https://localhost:8080/"
        },
        "id": "SGF4J5_V-QUF",
        "outputId": "603e13d3-e181-43ea-d021-cad85c799a0a"
      },
      "source": [
        "fine_tune_epochs = 20\n",
        "total_epochs =  initial_epochs + fine_tune_epochs\n",
        "\n",
        "filepath = saved_path+\"model_moblienet_tuned_v1.h5\"\n",
        "checkpoint = ModelCheckpoint(filepath, monitor='loss', verbose=1, save_best_only=True, mode='min')\n",
        "callbacks_list = [checkpoint]\n",
        "\n",
        "history_fine = model.fit(train_batches,\n",
        "                         epochs=total_epochs,\n",
        "                         initial_epoch =  history.epoch[-1],\n",
        "                         validation_data=validation_batches,\n",
        "                         callbacks=callbacks_list)"
      ],
      "execution_count": null,
      "outputs": [
        {
          "output_type": "stream",
          "text": [
            "Epoch 50/70\n",
            "207/207 [==============================] - ETA: 0s - loss: 1.0166 - accuracy: 0.6701 - f1_m: 0.6640 - precision_m: 0.7380 - recall_m: 0.6054\n",
            "Epoch 00050: loss improved from inf to 1.01661, saving model to /content/drive/My Drive/Colab Notebooks/Thai Dessert Saved Models/model_moblienet_tuned_v1.h5\n",
            "207/207 [==============================] - 25s 121ms/step - loss: 1.0166 - accuracy: 0.6701 - f1_m: 0.6640 - precision_m: 0.7380 - recall_m: 0.6054 - val_loss: 1.0823 - val_accuracy: 0.6275 - val_f1_m: 0.6120 - val_precision_m: 0.7309 - val_recall_m: 0.5292\n",
            "Epoch 51/70\n",
            "205/207 [============================>.] - ETA: 0s - loss: 0.8172 - accuracy: 0.7290 - f1_m: 0.7243 - precision_m: 0.8100 - recall_m: 0.6573\n",
            "Epoch 00051: loss improved from 1.01661 to 0.81523, saving model to /content/drive/My Drive/Colab Notebooks/Thai Dessert Saved Models/model_moblienet_tuned_v1.h5\n",
            "207/207 [==============================] - 25s 119ms/step - loss: 0.8152 - accuracy: 0.7294 - f1_m: 0.7254 - precision_m: 0.8109 - recall_m: 0.6585 - val_loss: 1.1457 - val_accuracy: 0.6057 - val_f1_m: 0.5934 - val_precision_m: 0.7181 - val_recall_m: 0.5081\n",
            "Epoch 52/70\n",
            "205/207 [============================>.] - ETA: 0s - loss: 0.7371 - accuracy: 0.7521 - f1_m: 0.7398 - precision_m: 0.8352 - recall_m: 0.6665\n",
            "Epoch 00052: loss improved from 0.81523 to 0.73984, saving model to /content/drive/My Drive/Colab Notebooks/Thai Dessert Saved Models/model_moblienet_tuned_v1.h5\n",
            "207/207 [==============================] - 25s 119ms/step - loss: 0.7398 - accuracy: 0.7509 - f1_m: 0.7382 - precision_m: 0.8333 - recall_m: 0.6651 - val_loss: 1.1268 - val_accuracy: 0.6118 - val_f1_m: 0.6005 - val_precision_m: 0.7262 - val_recall_m: 0.5145\n",
            "Epoch 53/70\n",
            "205/207 [============================>.] - ETA: 0s - loss: 0.7169 - accuracy: 0.7566 - f1_m: 0.7464 - precision_m: 0.8408 - recall_m: 0.6732\n",
            "Epoch 00053: loss improved from 0.73984 to 0.71652, saving model to /content/drive/My Drive/Colab Notebooks/Thai Dessert Saved Models/model_moblienet_tuned_v1.h5\n",
            "207/207 [==============================] - 25s 120ms/step - loss: 0.7165 - accuracy: 0.7565 - f1_m: 0.7468 - precision_m: 0.8409 - recall_m: 0.6739 - val_loss: 1.0844 - val_accuracy: 0.6323 - val_f1_m: 0.6099 - val_precision_m: 0.7338 - val_recall_m: 0.5248\n",
            "Epoch 54/70\n",
            "205/207 [============================>.] - ETA: 0s - loss: 0.6846 - accuracy: 0.7674 - f1_m: 0.7571 - precision_m: 0.8547 - recall_m: 0.6819\n",
            "Epoch 00054: loss improved from 0.71652 to 0.68518, saving model to /content/drive/My Drive/Colab Notebooks/Thai Dessert Saved Models/model_moblienet_tuned_v1.h5\n",
            "207/207 [==============================] - 25s 120ms/step - loss: 0.6852 - accuracy: 0.7674 - f1_m: 0.7572 - precision_m: 0.8545 - recall_m: 0.6821 - val_loss: 1.0389 - val_accuracy: 0.6445 - val_f1_m: 0.6242 - val_precision_m: 0.7500 - val_recall_m: 0.5374\n",
            "Epoch 55/70\n",
            "205/207 [============================>.] - ETA: 0s - loss: 0.6591 - accuracy: 0.7771 - f1_m: 0.7641 - precision_m: 0.8610 - recall_m: 0.6890\n",
            "Epoch 00055: loss improved from 0.68518 to 0.65970, saving model to /content/drive/My Drive/Colab Notebooks/Thai Dessert Saved Models/model_moblienet_tuned_v1.h5\n",
            "207/207 [==============================] - 25s 120ms/step - loss: 0.6597 - accuracy: 0.7767 - f1_m: 0.7637 - precision_m: 0.8605 - recall_m: 0.6888 - val_loss: 1.0077 - val_accuracy: 0.6505 - val_f1_m: 0.6386 - val_precision_m: 0.7615 - val_recall_m: 0.5520\n",
            "Epoch 56/70\n",
            "205/207 [============================>.] - ETA: 0s - loss: 0.6385 - accuracy: 0.7922 - f1_m: 0.7767 - precision_m: 0.8697 - recall_m: 0.7040\n",
            "Epoch 00056: loss improved from 0.65970 to 0.63734, saving model to /content/drive/My Drive/Colab Notebooks/Thai Dessert Saved Models/model_moblienet_tuned_v1.h5\n",
            "207/207 [==============================] - 26s 124ms/step - loss: 0.6373 - accuracy: 0.7929 - f1_m: 0.7774 - precision_m: 0.8698 - recall_m: 0.7052 - val_loss: 0.9765 - val_accuracy: 0.6644 - val_f1_m: 0.6504 - val_precision_m: 0.7729 - val_recall_m: 0.5642\n",
            "Epoch 57/70\n",
            "205/207 [============================>.] - ETA: 0s - loss: 0.6215 - accuracy: 0.7977 - f1_m: 0.7820 - precision_m: 0.8789 - recall_m: 0.7069\n",
            "Epoch 00057: loss improved from 0.63734 to 0.62183, saving model to /content/drive/My Drive/Colab Notebooks/Thai Dessert Saved Models/model_moblienet_tuned_v1.h5\n",
            "207/207 [==============================] - 25s 121ms/step - loss: 0.6218 - accuracy: 0.7977 - f1_m: 0.7816 - precision_m: 0.8791 - recall_m: 0.7063 - val_loss: 0.9576 - val_accuracy: 0.6711 - val_f1_m: 0.6613 - val_precision_m: 0.7743 - val_recall_m: 0.5795\n",
            "Epoch 58/70\n",
            "205/207 [============================>.] - ETA: 0s - loss: 0.5999 - accuracy: 0.8067 - f1_m: 0.7890 - precision_m: 0.8838 - recall_m: 0.7146\n",
            "Epoch 00058: loss improved from 0.62183 to 0.60226, saving model to /content/drive/My Drive/Colab Notebooks/Thai Dessert Saved Models/model_moblienet_tuned_v1.h5\n",
            "207/207 [==============================] - 25s 120ms/step - loss: 0.6023 - accuracy: 0.8056 - f1_m: 0.7878 - precision_m: 0.8824 - recall_m: 0.7136 - val_loss: 0.9412 - val_accuracy: 0.6826 - val_f1_m: 0.6682 - val_precision_m: 0.7798 - val_recall_m: 0.5870\n",
            "Epoch 59/70\n",
            "205/207 [============================>.] - ETA: 0s - loss: 0.5818 - accuracy: 0.8107 - f1_m: 0.8040 - precision_m: 0.8965 - recall_m: 0.7309\n",
            "Epoch 00059: loss improved from 0.60226 to 0.58065, saving model to /content/drive/My Drive/Colab Notebooks/Thai Dessert Saved Models/model_moblienet_tuned_v1.h5\n",
            "207/207 [==============================] - 25s 120ms/step - loss: 0.5807 - accuracy: 0.8111 - f1_m: 0.8047 - precision_m: 0.8969 - recall_m: 0.7319 - val_loss: 0.9303 - val_accuracy: 0.6814 - val_f1_m: 0.6807 - val_precision_m: 0.7832 - val_recall_m: 0.6037\n",
            "Epoch 60/70\n",
            "205/207 [============================>.] - ETA: 0s - loss: 0.5680 - accuracy: 0.8191 - f1_m: 0.8040 - precision_m: 0.8914 - recall_m: 0.7343\n",
            "Epoch 00060: loss improved from 0.58065 to 0.56919, saving model to /content/drive/My Drive/Colab Notebooks/Thai Dessert Saved Models/model_moblienet_tuned_v1.h5\n",
            "207/207 [==============================] - 25s 120ms/step - loss: 0.5692 - accuracy: 0.8186 - f1_m: 0.8031 - precision_m: 0.8908 - recall_m: 0.7333 - val_loss: 0.9219 - val_accuracy: 0.6850 - val_f1_m: 0.6856 - val_precision_m: 0.7858 - val_recall_m: 0.6099\n",
            "Epoch 61/70\n",
            "205/207 [============================>.] - ETA: 0s - loss: 0.5506 - accuracy: 0.8238 - f1_m: 0.8114 - precision_m: 0.8979 - recall_m: 0.7422\n",
            "Epoch 00061: loss improved from 0.56919 to 0.55056, saving model to /content/drive/My Drive/Colab Notebooks/Thai Dessert Saved Models/model_moblienet_tuned_v1.h5\n",
            "207/207 [==============================] - 25s 120ms/step - loss: 0.5506 - accuracy: 0.8242 - f1_m: 0.8119 - precision_m: 0.8987 - recall_m: 0.7425 - val_loss: 0.9147 - val_accuracy: 0.6929 - val_f1_m: 0.6936 - val_precision_m: 0.7917 - val_recall_m: 0.6191\n",
            "Epoch 62/70\n",
            "205/207 [============================>.] - ETA: 0s - loss: 0.5397 - accuracy: 0.8287 - f1_m: 0.8170 - precision_m: 0.9070 - recall_m: 0.7457\n",
            "Epoch 00062: loss improved from 0.55056 to 0.53908, saving model to /content/drive/My Drive/Colab Notebooks/Thai Dessert Saved Models/model_moblienet_tuned_v1.h5\n",
            "207/207 [==============================] - 25s 120ms/step - loss: 0.5391 - accuracy: 0.8292 - f1_m: 0.8172 - precision_m: 0.9069 - recall_m: 0.7460 - val_loss: 0.9080 - val_accuracy: 0.6978 - val_f1_m: 0.6952 - val_precision_m: 0.7937 - val_recall_m: 0.6209\n",
            "Epoch 63/70\n",
            "205/207 [============================>.] - ETA: 0s - loss: 0.5262 - accuracy: 0.8383 - f1_m: 0.8233 - precision_m: 0.9122 - recall_m: 0.7523\n",
            "Epoch 00063: loss improved from 0.53908 to 0.52577, saving model to /content/drive/My Drive/Colab Notebooks/Thai Dessert Saved Models/model_moblienet_tuned_v1.h5\n",
            "207/207 [==============================] - 25s 121ms/step - loss: 0.5258 - accuracy: 0.8383 - f1_m: 0.8236 - precision_m: 0.9123 - recall_m: 0.7527 - val_loss: 0.9041 - val_accuracy: 0.6965 - val_f1_m: 0.6980 - val_precision_m: 0.7933 - val_recall_m: 0.6255\n",
            "Epoch 64/70\n",
            "205/207 [============================>.] - ETA: 0s - loss: 0.5093 - accuracy: 0.8418 - f1_m: 0.8305 - precision_m: 0.9132 - recall_m: 0.7636\n",
            "Epoch 00064: loss improved from 0.52577 to 0.50811, saving model to /content/drive/My Drive/Colab Notebooks/Thai Dessert Saved Models/model_moblienet_tuned_v1.h5\n",
            "207/207 [==============================] - 25s 121ms/step - loss: 0.5081 - accuracy: 0.8422 - f1_m: 0.8315 - precision_m: 0.9137 - recall_m: 0.7649 - val_loss: 0.9005 - val_accuracy: 0.6984 - val_f1_m: 0.6966 - val_precision_m: 0.7907 - val_recall_m: 0.6251\n",
            "Epoch 65/70\n",
            "207/207 [==============================] - ETA: 0s - loss: 0.5001 - accuracy: 0.8453 - f1_m: 0.8347 - precision_m: 0.9156 - recall_m: 0.7693\n",
            "Epoch 00065: loss improved from 0.50811 to 0.50005, saving model to /content/drive/My Drive/Colab Notebooks/Thai Dessert Saved Models/model_moblienet_tuned_v1.h5\n",
            "207/207 [==============================] - 25s 120ms/step - loss: 0.5001 - accuracy: 0.8453 - f1_m: 0.8347 - precision_m: 0.9156 - recall_m: 0.7693 - val_loss: 0.8959 - val_accuracy: 0.7002 - val_f1_m: 0.7007 - val_precision_m: 0.7966 - val_recall_m: 0.6279\n",
            "Epoch 66/70\n",
            "205/207 [============================>.] - ETA: 0s - loss: 0.4813 - accuracy: 0.8532 - f1_m: 0.8397 - precision_m: 0.9224 - recall_m: 0.7726\n",
            "Epoch 00066: loss improved from 0.50005 to 0.48234, saving model to /content/drive/My Drive/Colab Notebooks/Thai Dessert Saved Models/model_moblienet_tuned_v1.h5\n",
            "207/207 [==============================] - 25s 122ms/step - loss: 0.4823 - accuracy: 0.8527 - f1_m: 0.8386 - precision_m: 0.9212 - recall_m: 0.7715 - val_loss: 0.8921 - val_accuracy: 0.6990 - val_f1_m: 0.7025 - val_precision_m: 0.7947 - val_recall_m: 0.6324\n",
            "Epoch 67/70\n",
            "205/207 [============================>.] - ETA: 0s - loss: 0.4751 - accuracy: 0.8582 - f1_m: 0.8458 - precision_m: 0.9267 - recall_m: 0.7800\n",
            "Epoch 00067: loss improved from 0.48234 to 0.47610, saving model to /content/drive/My Drive/Colab Notebooks/Thai Dessert Saved Models/model_moblienet_tuned_v1.h5\n",
            "207/207 [==============================] - 25s 121ms/step - loss: 0.4761 - accuracy: 0.8577 - f1_m: 0.8450 - precision_m: 0.9263 - recall_m: 0.7790 - val_loss: 0.8880 - val_accuracy: 0.7002 - val_f1_m: 0.7075 - val_precision_m: 0.8034 - val_recall_m: 0.6340\n",
            "Epoch 68/70\n",
            "205/207 [============================>.] - ETA: 0s - loss: 0.4584 - accuracy: 0.8619 - f1_m: 0.8503 - precision_m: 0.9284 - recall_m: 0.7861\n",
            "Epoch 00068: loss improved from 0.47610 to 0.45893, saving model to /content/drive/My Drive/Colab Notebooks/Thai Dessert Saved Models/model_moblienet_tuned_v1.h5\n",
            "207/207 [==============================] - 26s 125ms/step - loss: 0.4589 - accuracy: 0.8616 - f1_m: 0.8494 - precision_m: 0.9282 - recall_m: 0.7849 - val_loss: 0.8841 - val_accuracy: 0.7008 - val_f1_m: 0.7079 - val_precision_m: 0.8028 - val_recall_m: 0.6351\n",
            "Epoch 69/70\n",
            "205/207 [============================>.] - ETA: 0s - loss: 0.4477 - accuracy: 0.8686 - f1_m: 0.8561 - precision_m: 0.9337 - recall_m: 0.7927\n",
            "Epoch 00069: loss improved from 0.45893 to 0.44817, saving model to /content/drive/My Drive/Colab Notebooks/Thai Dessert Saved Models/model_moblienet_tuned_v1.h5\n",
            "207/207 [==============================] - 25s 121ms/step - loss: 0.4482 - accuracy: 0.8680 - f1_m: 0.8554 - precision_m: 0.9332 - recall_m: 0.7919 - val_loss: 0.8793 - val_accuracy: 0.7038 - val_f1_m: 0.7103 - val_precision_m: 0.8036 - val_recall_m: 0.6385\n",
            "Epoch 70/70\n",
            "205/207 [============================>.] - ETA: 0s - loss: 0.4416 - accuracy: 0.8707 - f1_m: 0.8547 - precision_m: 0.9301 - recall_m: 0.7928\n",
            "Epoch 00070: loss improved from 0.44817 to 0.44113, saving model to /content/drive/My Drive/Colab Notebooks/Thai Dessert Saved Models/model_moblienet_tuned_v1.h5\n",
            "207/207 [==============================] - 25s 121ms/step - loss: 0.4411 - accuracy: 0.8710 - f1_m: 0.8549 - precision_m: 0.9303 - recall_m: 0.7930 - val_loss: 0.8765 - val_accuracy: 0.7068 - val_f1_m: 0.7153 - val_precision_m: 0.8062 - val_recall_m: 0.6450\n"
          ],
          "name": "stdout"
        }
      ]
    },
    {
      "cell_type": "code",
      "metadata": {
        "colab": {
          "base_uri": "https://localhost:8080/"
        },
        "id": "aZKDSITo0sXk",
        "outputId": "5b003cfc-7493-449d-a7b3-35655a58cf5b"
      },
      "source": [
        "test_generator = ImageDataGenerator()\n",
        "test_data_generator = test_generator.flow_from_directory(\n",
        "    dataset_test_path,\n",
        "    target_size=(160, 160),\n",
        "    batch_size=32,\n",
        "    shuffle=False)\n",
        "test_steps_per_epoch = np.math.ceil(test_data_generator.samples / test_data_generator.batch_size)\n",
        "\n",
        "predictions = model.predict_generator(test_data_generator, steps=test_steps_per_epoch)\n",
        "# Get most likely class\n",
        "predicted_classes = np.argmax(predictions, axis=1)\n",
        "true_classes = test_data_generator.classes\n",
        "class_labels = list(test_data_generator.class_indices.keys())  \n",
        "\n",
        "report = classification_report(true_classes, predicted_classes, target_names=class_labels)\n",
        "print(report) "
      ],
      "execution_count": null,
      "outputs": [
        {
          "output_type": "stream",
          "text": [
            "Found 500 images belonging to 10 classes.\n",
            "                         precision    recall  f1-score   support\n",
            "\n",
            "          kanom_bua_loi       0.77      0.82      0.80        50\n",
            "             kanom_chan       0.73      0.72      0.73        50\n",
            "          kanom_dok_jok       0.89      0.62      0.73        50\n",
            "          kanom_kai_tao       0.77      0.60      0.67        50\n",
            "             kanom_krok       0.66      0.66      0.66        50\n",
            "        kanom_phoi_tong       0.51      0.86      0.64        50\n",
            "            kanom_salim       0.61      0.76      0.68        50\n",
            "kanom_sangkhaya_faktong       0.70      0.56      0.62        50\n",
            "         kanom_tong_yib       0.53      0.46      0.49        50\n",
            "         kanom_tong_yod       0.70      0.62      0.66        50\n",
            "\n",
            "               accuracy                           0.67       500\n",
            "              macro avg       0.69      0.67      0.67       500\n",
            "           weighted avg       0.69      0.67      0.67       500\n",
            "\n"
          ],
          "name": "stdout"
        }
      ]
    },
    {
      "cell_type": "code",
      "metadata": {
        "colab": {
          "base_uri": "https://localhost:8080/",
          "height": 470
        },
        "id": "Mj4E5TgN8JGU",
        "outputId": "b67cf7e2-f2c1-434d-eed3-a76924d9569d"
      },
      "source": [
        "cf_matrix = confusion_matrix(true_classes, predicted_classes, normalize='true')\n",
        "sns.heatmap(cf_matrix, annot=True, cmap='Blues', linewidths=1,xticklabels=class_names,yticklabels=class_names)\n",
        "\n",
        "plt.ylabel('True label')\n",
        "plt.xlabel('Predicted label')\n",
        "plt.title('InceptionV3\\n')\n",
        "plt.show()"
      ],
      "execution_count": null,
      "outputs": [
        {
          "output_type": "display_data",
          "data": {
            "image/png": "[encoded data removed]",
            "text/plain": [
              "<Figure size 432x288 with 2 Axes>"
            ]
          },
          "metadata": {
            "tags": [],
            "needs_background": "light"
          }
        }
      ]
    },
    {
      "cell_type": "code",
      "metadata": {
        "colab": {
          "base_uri": "https://localhost:8080/",
          "height": 499
        },
        "id": "K7D2Lerj5udW",
        "outputId": "eb1ce2b5-9e41-4cca-d4d5-a129896e0908"
      },
      "source": [
        "# Visualize training results\n",
        "acc = history.history['accuracy']\n",
        "val_acc = history.history['val_accuracy']\n",
        "\n",
        "loss = history.history['loss']\n",
        "val_loss = history.history['val_loss']\n",
        "\n",
        "epochs_range = range(50)\n",
        "\n",
        "plt.figure(figsize=(8, 8))\n",
        "plt.subplot(1, 2, 1)\n",
        "plt.plot(epochs_range, acc, label='Training Accuracy')\n",
        "plt.plot(epochs_range, val_acc, label='Validation Accuracy')\n",
        "plt.legend(loc='lower right')\n",
        "plt.title('Training and Validation Accuracy')\n",
        "\n",
        "plt.subplot(1, 2, 2)\n",
        "plt.plot(epochs_range, loss, label='Training Loss')\n",
        "plt.plot(epochs_range, val_loss, label='Validation Loss')\n",
        "plt.legend(loc='upper right')\n",
        "plt.title('Training and Validation Loss')\n",
        "plt.show()"
      ],
      "execution_count": null,
      "outputs": [
        {
          "output_type": "display_data",
          "data": {
            "image/png": "[encoded data removed]",
            "text/plain": [
              "<Figure size 576x576 with 2 Axes>"
            ]
          },
          "metadata": {
            "tags": [],
            "needs_background": "light"
          }
        }
      ]
    },
    {
      "cell_type": "markdown",
      "metadata": {
        "id": "fvb_T06YjcR0"
      },
      "source": [
        "# Transfer Xeception"
      ]
    },
    {
      "cell_type": "code",
      "metadata": {
        "colab": {
          "base_uri": "https://localhost:8080/"
        },
        "id": "Tz3Hl4z1jb8I",
        "outputId": "cab39c12-46a0-4a0e-95f0-a058de40b67e"
      },
      "source": [
        "BATCH_SIZE = 32\n",
        "SHUFFLE_BUFFER_SIZE = 1000\n",
        "img_height = 160\n",
        "img_width = 160\n",
        "\n",
        "train_batches = tf.keras.preprocessing.image_dataset_from_directory(\n",
        "  dataset_path,\n",
        "  validation_split=0.2,\n",
        "  subset=\"training\",\n",
        "  seed=123,\n",
        "  shuffle = True,\n",
        "  image_size=(img_height, img_width),\n",
        "  batch_size=BATCH_SIZE,\n",
        "  label_mode='categorical')"
      ],
      "execution_count": null,
      "outputs": [
        {
          "output_type": "stream",
          "text": [
            "Found 8256 files belonging to 10 classes.\n",
            "Using 6605 files for training.\n"
          ],
          "name": "stdout"
        }
      ]
    },
    {
      "cell_type": "code",
      "metadata": {
        "colab": {
          "base_uri": "https://localhost:8080/"
        },
        "id": "A0FprnmKjiG3",
        "outputId": "d81e466b-c2fb-43dd-ef55-21a470d66659"
      },
      "source": [
        "validation_batches = tf.keras.preprocessing.image_dataset_from_directory(\n",
        "  dataset_path,\n",
        "  validation_split=0.2,\n",
        "  subset=\"validation\",\n",
        "  seed=123,\n",
        "  shuffle = True,\n",
        "  image_size=(img_height, img_width),\n",
        "  batch_size=BATCH_SIZE,\n",
        "  label_mode='categorical')"
      ],
      "execution_count": null,
      "outputs": [
        {
          "output_type": "stream",
          "text": [
            "Found 8256 files belonging to 10 classes.\n",
            "Using 1651 files for validation.\n"
          ],
          "name": "stdout"
        }
      ]
    },
    {
      "cell_type": "code",
      "metadata": {
        "colab": {
          "base_uri": "https://localhost:8080/"
        },
        "id": "sLvn7Dy8jtYd",
        "outputId": "24e12c53-f013-46ed-c275-bc8bc8634c79"
      },
      "source": [
        "class_names = train_batches.class_names\n",
        "print(class_names)\n",
        "print(train_batches)\n",
        "print(validation_batches)"
      ],
      "execution_count": null,
      "outputs": [
        {
          "output_type": "stream",
          "text": [
            "['kanom_bua_loi', 'kanom_chan', 'kanom_dok_jok', 'kanom_kai_tao', 'kanom_krok', 'kanom_phoi_tong', 'kanom_salim', 'kanom_sangkhaya_faktong', 'kanom_tong_yib', 'kanom_tong_yod']\n",
            "<BatchDataset shapes: ((None, 160, 160, 3), (None, 10)), types: (tf.float32, tf.float32)>\n",
            "<BatchDataset shapes: ((None, 160, 160, 3), (None, 10)), types: (tf.float32, tf.float32)>\n"
          ],
          "name": "stdout"
        }
      ]
    },
    {
      "cell_type": "code",
      "metadata": {
        "colab": {
          "base_uri": "https://localhost:8080/"
        },
        "id": "37SfrkvYjzgl",
        "outputId": "2925a503-30f7-4601-8a96-81a630d2d237"
      },
      "source": [
        "IMG_SHAPE = (160, 160, 3)\n",
        "\n",
        "# Create the base model from the pre-trained model MobileNet V2\n",
        "base_model = tf.keras.applications.Xception(input_shape=IMG_SHAPE,\n",
        "                                               include_top=False,\n",
        "                                               weights='imagenet',\n",
        "                                               classifier_activation=\"softmax\")\n",
        "base_model.trainable = False\n",
        "\n",
        "# Let's take a look at the base model architecture\n",
        "base_model.summary()"
      ],
      "execution_count": null,
      "outputs": [
        {
          "output_type": "stream",
          "text": [
            "Model: \"xception\"\n",
            "__________________________________________________________________________________________________\n",
            "Layer (type)                    Output Shape         Param #     Connected to                     \n",
            "==================================================================================================\n",
            "input_2 (InputLayer)            [(None, 160, 160, 3) 0                                            \n",
            "__________________________________________________________________________________________________\n",
            "block1_conv1 (Conv2D)           (None, 79, 79, 32)   864         input_2[0][0]                    \n",
            "__________________________________________________________________________________________________\n",
            "block1_conv1_bn (BatchNormaliza (None, 79, 79, 32)   128         block1_conv1[0][0]               \n",
            "__________________________________________________________________________________________________\n",
            "block1_conv1_act (Activation)   (None, 79, 79, 32)   0           block1_conv1_bn[0][0]            \n",
            "__________________________________________________________________________________________________\n",
            "block1_conv2 (Conv2D)           (None, 77, 77, 64)   18432       block1_conv1_act[0][0]           \n",
            "__________________________________________________________________________________________________\n",
            "block1_conv2_bn (BatchNormaliza (None, 77, 77, 64)   256         block1_conv2[0][0]               \n",
            "__________________________________________________________________________________________________\n",
            "block1_conv2_act (Activation)   (None, 77, 77, 64)   0           block1_conv2_bn[0][0]            \n",
            "__________________________________________________________________________________________________\n",
            "block2_sepconv1 (SeparableConv2 (None, 77, 77, 128)  8768        block1_conv2_act[0][0]           \n",
            "__________________________________________________________________________________________________\n",
            "block2_sepconv1_bn (BatchNormal (None, 77, 77, 128)  512         block2_sepconv1[0][0]            \n",
            "__________________________________________________________________________________________________\n",
            "block2_sepconv2_act (Activation (None, 77, 77, 128)  0           block2_sepconv1_bn[0][0]         \n",
            "__________________________________________________________________________________________________\n",
            "block2_sepconv2 (SeparableConv2 (None, 77, 77, 128)  17536       block2_sepconv2_act[0][0]        \n",
            "__________________________________________________________________________________________________\n",
            "block2_sepconv2_bn (BatchNormal (None, 77, 77, 128)  512         block2_sepconv2[0][0]            \n",
            "__________________________________________________________________________________________________\n",
            "conv2d_4 (Conv2D)               (None, 39, 39, 128)  8192        block1_conv2_act[0][0]           \n",
            "__________________________________________________________________________________________________\n",
            "block2_pool (MaxPooling2D)      (None, 39, 39, 128)  0           block2_sepconv2_bn[0][0]         \n",
            "__________________________________________________________________________________________________\n",
            "batch_normalization_4 (BatchNor (None, 39, 39, 128)  512         conv2d_4[0][0]                   \n",
            "__________________________________________________________________________________________________\n",
            "add_12 (Add)                    (None, 39, 39, 128)  0           block2_pool[0][0]                \n",
            "                                                                 batch_normalization_4[0][0]      \n",
            "__________________________________________________________________________________________________\n",
            "block3_sepconv1_act (Activation (None, 39, 39, 128)  0           add_12[0][0]                     \n",
            "__________________________________________________________________________________________________\n",
            "block3_sepconv1 (SeparableConv2 (None, 39, 39, 256)  33920       block3_sepconv1_act[0][0]        \n",
            "__________________________________________________________________________________________________\n",
            "block3_sepconv1_bn (BatchNormal (None, 39, 39, 256)  1024        block3_sepconv1[0][0]            \n",
            "__________________________________________________________________________________________________\n",
            "block3_sepconv2_act (Activation (None, 39, 39, 256)  0           block3_sepconv1_bn[0][0]         \n",
            "__________________________________________________________________________________________________\n",
            "block3_sepconv2 (SeparableConv2 (None, 39, 39, 256)  67840       block3_sepconv2_act[0][0]        \n",
            "__________________________________________________________________________________________________\n",
            "block3_sepconv2_bn (BatchNormal (None, 39, 39, 256)  1024        block3_sepconv2[0][0]            \n",
            "__________________________________________________________________________________________________\n",
            "conv2d_5 (Conv2D)               (None, 20, 20, 256)  32768       add_12[0][0]                     \n",
            "__________________________________________________________________________________________________\n",
            "block3_pool (MaxPooling2D)      (None, 20, 20, 256)  0           block3_sepconv2_bn[0][0]         \n",
            "__________________________________________________________________________________________________\n",
            "batch_normalization_5 (BatchNor (None, 20, 20, 256)  1024        conv2d_5[0][0]                   \n",
            "__________________________________________________________________________________________________\n",
            "add_13 (Add)                    (None, 20, 20, 256)  0           block3_pool[0][0]                \n",
            "                                                                 batch_normalization_5[0][0]      \n",
            "__________________________________________________________________________________________________\n",
            "block4_sepconv1_act (Activation (None, 20, 20, 256)  0           add_13[0][0]                     \n",
            "__________________________________________________________________________________________________\n",
            "block4_sepconv1 (SeparableConv2 (None, 20, 20, 728)  188672      block4_sepconv1_act[0][0]        \n",
            "__________________________________________________________________________________________________\n",
            "block4_sepconv1_bn (BatchNormal (None, 20, 20, 728)  2912        block4_sepconv1[0][0]            \n",
            "__________________________________________________________________________________________________\n",
            "block4_sepconv2_act (Activation (None, 20, 20, 728)  0           block4_sepconv1_bn[0][0]         \n",
            "__________________________________________________________________________________________________\n",
            "block4_sepconv2 (SeparableConv2 (None, 20, 20, 728)  536536      block4_sepconv2_act[0][0]        \n",
            "__________________________________________________________________________________________________\n",
            "block4_sepconv2_bn (BatchNormal (None, 20, 20, 728)  2912        block4_sepconv2[0][0]            \n",
            "__________________________________________________________________________________________________\n",
            "conv2d_6 (Conv2D)               (None, 10, 10, 728)  186368      add_13[0][0]                     \n",
            "__________________________________________________________________________________________________\n",
            "block4_pool (MaxPooling2D)      (None, 10, 10, 728)  0           block4_sepconv2_bn[0][0]         \n",
            "__________________________________________________________________________________________________\n",
            "batch_normalization_6 (BatchNor (None, 10, 10, 728)  2912        conv2d_6[0][0]                   \n",
            "__________________________________________________________________________________________________\n",
            "add_14 (Add)                    (None, 10, 10, 728)  0           block4_pool[0][0]                \n",
            "                                                                 batch_normalization_6[0][0]      \n",
            "__________________________________________________________________________________________________\n",
            "block5_sepconv1_act (Activation (None, 10, 10, 728)  0           add_14[0][0]                     \n",
            "__________________________________________________________________________________________________\n",
            "block5_sepconv1 (SeparableConv2 (None, 10, 10, 728)  536536      block5_sepconv1_act[0][0]        \n",
            "__________________________________________________________________________________________________\n",
            "block5_sepconv1_bn (BatchNormal (None, 10, 10, 728)  2912        block5_sepconv1[0][0]            \n",
            "__________________________________________________________________________________________________\n",
            "block5_sepconv2_act (Activation (None, 10, 10, 728)  0           block5_sepconv1_bn[0][0]         \n",
            "__________________________________________________________________________________________________\n",
            "block5_sepconv2 (SeparableConv2 (None, 10, 10, 728)  536536      block5_sepconv2_act[0][0]        \n",
            "__________________________________________________________________________________________________\n",
            "block5_sepconv2_bn (BatchNormal (None, 10, 10, 728)  2912        block5_sepconv2[0][0]            \n",
            "__________________________________________________________________________________________________\n",
            "block5_sepconv3_act (Activation (None, 10, 10, 728)  0           block5_sepconv2_bn[0][0]         \n",
            "__________________________________________________________________________________________________\n",
            "block5_sepconv3 (SeparableConv2 (None, 10, 10, 728)  536536      block5_sepconv3_act[0][0]        \n",
            "__________________________________________________________________________________________________\n",
            "block5_sepconv3_bn (BatchNormal (None, 10, 10, 728)  2912        block5_sepconv3[0][0]            \n",
            "__________________________________________________________________________________________________\n",
            "add_15 (Add)                    (None, 10, 10, 728)  0           block5_sepconv3_bn[0][0]         \n",
            "                                                                 add_14[0][0]                     \n",
            "__________________________________________________________________________________________________\n",
            "block6_sepconv1_act (Activation (None, 10, 10, 728)  0           add_15[0][0]                     \n",
            "__________________________________________________________________________________________________\n",
            "block6_sepconv1 (SeparableConv2 (None, 10, 10, 728)  536536      block6_sepconv1_act[0][0]        \n",
            "__________________________________________________________________________________________________\n",
            "block6_sepconv1_bn (BatchNormal (None, 10, 10, 728)  2912        block6_sepconv1[0][0]            \n",
            "__________________________________________________________________________________________________\n",
            "block6_sepconv2_act (Activation (None, 10, 10, 728)  0           block6_sepconv1_bn[0][0]         \n",
            "__________________________________________________________________________________________________\n",
            "block6_sepconv2 (SeparableConv2 (None, 10, 10, 728)  536536      block6_sepconv2_act[0][0]        \n",
            "__________________________________________________________________________________________________\n",
            "block6_sepconv2_bn (BatchNormal (None, 10, 10, 728)  2912        block6_sepconv2[0][0]            \n",
            "__________________________________________________________________________________________________\n",
            "block6_sepconv3_act (Activation (None, 10, 10, 728)  0           block6_sepconv2_bn[0][0]         \n",
            "__________________________________________________________________________________________________\n",
            "block6_sepconv3 (SeparableConv2 (None, 10, 10, 728)  536536      block6_sepconv3_act[0][0]        \n",
            "__________________________________________________________________________________________________\n",
            "block6_sepconv3_bn (BatchNormal (None, 10, 10, 728)  2912        block6_sepconv3[0][0]            \n",
            "__________________________________________________________________________________________________\n",
            "add_16 (Add)                    (None, 10, 10, 728)  0           block6_sepconv3_bn[0][0]         \n",
            "                                                                 add_15[0][0]                     \n",
            "__________________________________________________________________________________________________\n",
            "block7_sepconv1_act (Activation (None, 10, 10, 728)  0           add_16[0][0]                     \n",
            "__________________________________________________________________________________________________\n",
            "block7_sepconv1 (SeparableConv2 (None, 10, 10, 728)  536536      block7_sepconv1_act[0][0]        \n",
            "__________________________________________________________________________________________________\n",
            "block7_sepconv1_bn (BatchNormal (None, 10, 10, 728)  2912        block7_sepconv1[0][0]            \n",
            "__________________________________________________________________________________________________\n",
            "block7_sepconv2_act (Activation (None, 10, 10, 728)  0           block7_sepconv1_bn[0][0]         \n",
            "__________________________________________________________________________________________________\n",
            "block7_sepconv2 (SeparableConv2 (None, 10, 10, 728)  536536      block7_sepconv2_act[0][0]        \n",
            "__________________________________________________________________________________________________\n",
            "block7_sepconv2_bn (BatchNormal (None, 10, 10, 728)  2912        block7_sepconv2[0][0]            \n",
            "__________________________________________________________________________________________________\n",
            "block7_sepconv3_act (Activation (None, 10, 10, 728)  0           block7_sepconv2_bn[0][0]         \n",
            "__________________________________________________________________________________________________\n",
            "block7_sepconv3 (SeparableConv2 (None, 10, 10, 728)  536536      block7_sepconv3_act[0][0]        \n",
            "__________________________________________________________________________________________________\n",
            "block7_sepconv3_bn (BatchNormal (None, 10, 10, 728)  2912        block7_sepconv3[0][0]            \n",
            "__________________________________________________________________________________________________\n",
            "add_17 (Add)                    (None, 10, 10, 728)  0           block7_sepconv3_bn[0][0]         \n",
            "                                                                 add_16[0][0]                     \n",
            "__________________________________________________________________________________________________\n",
            "block8_sepconv1_act (Activation (None, 10, 10, 728)  0           add_17[0][0]                     \n",
            "__________________________________________________________________________________________________\n",
            "block8_sepconv1 (SeparableConv2 (None, 10, 10, 728)  536536      block8_sepconv1_act[0][0]        \n",
            "__________________________________________________________________________________________________\n",
            "block8_sepconv1_bn (BatchNormal (None, 10, 10, 728)  2912        block8_sepconv1[0][0]            \n",
            "__________________________________________________________________________________________________\n",
            "block8_sepconv2_act (Activation (None, 10, 10, 728)  0           block8_sepconv1_bn[0][0]         \n",
            "__________________________________________________________________________________________________\n",
            "block8_sepconv2 (SeparableConv2 (None, 10, 10, 728)  536536      block8_sepconv2_act[0][0]        \n",
            "__________________________________________________________________________________________________\n",
            "block8_sepconv2_bn (BatchNormal (None, 10, 10, 728)  2912        block8_sepconv2[0][0]            \n",
            "__________________________________________________________________________________________________\n",
            "block8_sepconv3_act (Activation (None, 10, 10, 728)  0           block8_sepconv2_bn[0][0]         \n",
            "__________________________________________________________________________________________________\n",
            "block8_sepconv3 (SeparableConv2 (None, 10, 10, 728)  536536      block8_sepconv3_act[0][0]        \n",
            "__________________________________________________________________________________________________\n",
            "block8_sepconv3_bn (BatchNormal (None, 10, 10, 728)  2912        block8_sepconv3[0][0]            \n",
            "__________________________________________________________________________________________________\n",
            "add_18 (Add)                    (None, 10, 10, 728)  0           block8_sepconv3_bn[0][0]         \n",
            "                                                                 add_17[0][0]                     \n",
            "__________________________________________________________________________________________________\n",
            "block9_sepconv1_act (Activation (None, 10, 10, 728)  0           add_18[0][0]                     \n",
            "__________________________________________________________________________________________________\n",
            "block9_sepconv1 (SeparableConv2 (None, 10, 10, 728)  536536      block9_sepconv1_act[0][0]        \n",
            "__________________________________________________________________________________________________\n",
            "block9_sepconv1_bn (BatchNormal (None, 10, 10, 728)  2912        block9_sepconv1[0][0]            \n",
            "__________________________________________________________________________________________________\n",
            "block9_sepconv2_act (Activation (None, 10, 10, 728)  0           block9_sepconv1_bn[0][0]         \n",
            "__________________________________________________________________________________________________\n",
            "block9_sepconv2 (SeparableConv2 (None, 10, 10, 728)  536536      block9_sepconv2_act[0][0]        \n",
            "__________________________________________________________________________________________________\n",
            "block9_sepconv2_bn (BatchNormal (None, 10, 10, 728)  2912        block9_sepconv2[0][0]            \n",
            "__________________________________________________________________________________________________\n",
            "block9_sepconv3_act (Activation (None, 10, 10, 728)  0           block9_sepconv2_bn[0][0]         \n",
            "__________________________________________________________________________________________________\n",
            "block9_sepconv3 (SeparableConv2 (None, 10, 10, 728)  536536      block9_sepconv3_act[0][0]        \n",
            "__________________________________________________________________________________________________\n",
            "block9_sepconv3_bn (BatchNormal (None, 10, 10, 728)  2912        block9_sepconv3[0][0]            \n",
            "__________________________________________________________________________________________________\n",
            "add_19 (Add)                    (None, 10, 10, 728)  0           block9_sepconv3_bn[0][0]         \n",
            "                                                                 add_18[0][0]                     \n",
            "__________________________________________________________________________________________________\n",
            "block10_sepconv1_act (Activatio (None, 10, 10, 728)  0           add_19[0][0]                     \n",
            "__________________________________________________________________________________________________\n",
            "block10_sepconv1 (SeparableConv (None, 10, 10, 728)  536536      block10_sepconv1_act[0][0]       \n",
            "__________________________________________________________________________________________________\n",
            "block10_sepconv1_bn (BatchNorma (None, 10, 10, 728)  2912        block10_sepconv1[0][0]           \n",
            "__________________________________________________________________________________________________\n",
            "block10_sepconv2_act (Activatio (None, 10, 10, 728)  0           block10_sepconv1_bn[0][0]        \n",
            "__________________________________________________________________________________________________\n",
            "block10_sepconv2 (SeparableConv (None, 10, 10, 728)  536536      block10_sepconv2_act[0][0]       \n",
            "__________________________________________________________________________________________________\n",
            "block10_sepconv2_bn (BatchNorma (None, 10, 10, 728)  2912        block10_sepconv2[0][0]           \n",
            "__________________________________________________________________________________________________\n",
            "block10_sepconv3_act (Activatio (None, 10, 10, 728)  0           block10_sepconv2_bn[0][0]        \n",
            "__________________________________________________________________________________________________\n",
            "block10_sepconv3 (SeparableConv (None, 10, 10, 728)  536536      block10_sepconv3_act[0][0]       \n",
            "__________________________________________________________________________________________________\n",
            "block10_sepconv3_bn (BatchNorma (None, 10, 10, 728)  2912        block10_sepconv3[0][0]           \n",
            "__________________________________________________________________________________________________\n",
            "add_20 (Add)                    (None, 10, 10, 728)  0           block10_sepconv3_bn[0][0]        \n",
            "                                                                 add_19[0][0]                     \n",
            "__________________________________________________________________________________________________\n",
            "block11_sepconv1_act (Activatio (None, 10, 10, 728)  0           add_20[0][0]                     \n",
            "__________________________________________________________________________________________________\n",
            "block11_sepconv1 (SeparableConv (None, 10, 10, 728)  536536      block11_sepconv1_act[0][0]       \n",
            "__________________________________________________________________________________________________\n",
            "block11_sepconv1_bn (BatchNorma (None, 10, 10, 728)  2912        block11_sepconv1[0][0]           \n",
            "__________________________________________________________________________________________________\n",
            "block11_sepconv2_act (Activatio (None, 10, 10, 728)  0           block11_sepconv1_bn[0][0]        \n",
            "__________________________________________________________________________________________________\n",
            "block11_sepconv2 (SeparableConv (None, 10, 10, 728)  536536      block11_sepconv2_act[0][0]       \n",
            "__________________________________________________________________________________________________\n",
            "block11_sepconv2_bn (BatchNorma (None, 10, 10, 728)  2912        block11_sepconv2[0][0]           \n",
            "__________________________________________________________________________________________________\n",
            "block11_sepconv3_act (Activatio (None, 10, 10, 728)  0           block11_sepconv2_bn[0][0]        \n",
            "__________________________________________________________________________________________________\n",
            "block11_sepconv3 (SeparableConv (None, 10, 10, 728)  536536      block11_sepconv3_act[0][0]       \n",
            "__________________________________________________________________________________________________\n",
            "block11_sepconv3_bn (BatchNorma (None, 10, 10, 728)  2912        block11_sepconv3[0][0]           \n",
            "__________________________________________________________________________________________________\n",
            "add_21 (Add)                    (None, 10, 10, 728)  0           block11_sepconv3_bn[0][0]        \n",
            "                                                                 add_20[0][0]                     \n",
            "__________________________________________________________________________________________________\n",
            "block12_sepconv1_act (Activatio (None, 10, 10, 728)  0           add_21[0][0]                     \n",
            "__________________________________________________________________________________________________\n",
            "block12_sepconv1 (SeparableConv (None, 10, 10, 728)  536536      block12_sepconv1_act[0][0]       \n",
            "__________________________________________________________________________________________________\n",
            "block12_sepconv1_bn (BatchNorma (None, 10, 10, 728)  2912        block12_sepconv1[0][0]           \n",
            "__________________________________________________________________________________________________\n",
            "block12_sepconv2_act (Activatio (None, 10, 10, 728)  0           block12_sepconv1_bn[0][0]        \n",
            "__________________________________________________________________________________________________\n",
            "block12_sepconv2 (SeparableConv (None, 10, 10, 728)  536536      block12_sepconv2_act[0][0]       \n",
            "__________________________________________________________________________________________________\n",
            "block12_sepconv2_bn (BatchNorma (None, 10, 10, 728)  2912        block12_sepconv2[0][0]           \n",
            "__________________________________________________________________________________________________\n",
            "block12_sepconv3_act (Activatio (None, 10, 10, 728)  0           block12_sepconv2_bn[0][0]        \n",
            "__________________________________________________________________________________________________\n",
            "block12_sepconv3 (SeparableConv (None, 10, 10, 728)  536536      block12_sepconv3_act[0][0]       \n",
            "__________________________________________________________________________________________________\n",
            "block12_sepconv3_bn (BatchNorma (None, 10, 10, 728)  2912        block12_sepconv3[0][0]           \n",
            "__________________________________________________________________________________________________\n",
            "add_22 (Add)                    (None, 10, 10, 728)  0           block12_sepconv3_bn[0][0]        \n",
            "                                                                 add_21[0][0]                     \n",
            "__________________________________________________________________________________________________\n",
            "block13_sepconv1_act (Activatio (None, 10, 10, 728)  0           add_22[0][0]                     \n",
            "__________________________________________________________________________________________________\n",
            "block13_sepconv1 (SeparableConv (None, 10, 10, 728)  536536      block13_sepconv1_act[0][0]       \n",
            "__________________________________________________________________________________________________\n",
            "block13_sepconv1_bn (BatchNorma (None, 10, 10, 728)  2912        block13_sepconv1[0][0]           \n",
            "__________________________________________________________________________________________________\n",
            "block13_sepconv2_act (Activatio (None, 10, 10, 728)  0           block13_sepconv1_bn[0][0]        \n",
            "__________________________________________________________________________________________________\n",
            "block13_sepconv2 (SeparableConv (None, 10, 10, 1024) 752024      block13_sepconv2_act[0][0]       \n",
            "__________________________________________________________________________________________________\n",
            "block13_sepconv2_bn (BatchNorma (None, 10, 10, 1024) 4096        block13_sepconv2[0][0]           \n",
            "__________________________________________________________________________________________________\n",
            "conv2d_7 (Conv2D)               (None, 5, 5, 1024)   745472      add_22[0][0]                     \n",
            "__________________________________________________________________________________________________\n",
            "block13_pool (MaxPooling2D)     (None, 5, 5, 1024)   0           block13_sepconv2_bn[0][0]        \n",
            "__________________________________________________________________________________________________\n",
            "batch_normalization_7 (BatchNor (None, 5, 5, 1024)   4096        conv2d_7[0][0]                   \n",
            "__________________________________________________________________________________________________\n",
            "add_23 (Add)                    (None, 5, 5, 1024)   0           block13_pool[0][0]               \n",
            "                                                                 batch_normalization_7[0][0]      \n",
            "__________________________________________________________________________________________________\n",
            "block14_sepconv1 (SeparableConv (None, 5, 5, 1536)   1582080     add_23[0][0]                     \n",
            "__________________________________________________________________________________________________\n",
            "block14_sepconv1_bn (BatchNorma (None, 5, 5, 1536)   6144        block14_sepconv1[0][0]           \n",
            "__________________________________________________________________________________________________\n",
            "block14_sepconv1_act (Activatio (None, 5, 5, 1536)   0           block14_sepconv1_bn[0][0]        \n",
            "__________________________________________________________________________________________________\n",
            "block14_sepconv2 (SeparableConv (None, 5, 5, 2048)   3159552     block14_sepconv1_act[0][0]       \n",
            "__________________________________________________________________________________________________\n",
            "block14_sepconv2_bn (BatchNorma (None, 5, 5, 2048)   8192        block14_sepconv2[0][0]           \n",
            "__________________________________________________________________________________________________\n",
            "block14_sepconv2_act (Activatio (None, 5, 5, 2048)   0           block14_sepconv2_bn[0][0]        \n",
            "==================================================================================================\n",
            "Total params: 20,861,480\n",
            "Trainable params: 0\n",
            "Non-trainable params: 20,861,480\n",
            "__________________________________________________________________________________________________\n"
          ],
          "name": "stdout"
        }
      ]
    },
    {
      "cell_type": "code",
      "metadata": {
        "id": "tTDK_MWqjzvL"
      },
      "source": [
        "global_average_layer = GlobalAveragePooling2D()\n",
        "preds = Dense(10,activation='softmax')#final layer with softmax activation for N classes"
      ],
      "execution_count": null,
      "outputs": []
    },
    {
      "cell_type": "code",
      "metadata": {
        "id": "huiu7nbfj61a"
      },
      "source": [
        "modelXecption = Sequential([\n",
        "  base_model,\n",
        "  global_average_layer,\n",
        "  preds\n",
        "])"
      ],
      "execution_count": null,
      "outputs": []
    },
    {
      "cell_type": "code",
      "metadata": {
        "id": "wbKp4RJOj_ZE"
      },
      "source": [
        "base_learning_rate = 0.0001\n",
        "modelXecption.compile(optimizer=tf.keras.optimizers.RMSprop(lr=base_learning_rate),\n",
        "              loss='categorical_crossentropy',\n",
        "              metrics=['accuracy',f1_m,precision_m, recall_m]) "
      ],
      "execution_count": null,
      "outputs": []
    },
    {
      "cell_type": "code",
      "metadata": {
        "colab": {
          "base_uri": "https://localhost:8080/"
        },
        "id": "ogegeKHhkB84",
        "outputId": "c5944599-614b-4027-9eb1-36f394d54c9d"
      },
      "source": [
        "modelXecption.summary()"
      ],
      "execution_count": null,
      "outputs": [
        {
          "output_type": "stream",
          "text": [
            "Model: \"sequential_1\"\n",
            "_________________________________________________________________\n",
            "Layer (type)                 Output Shape              Param #   \n",
            "=================================================================\n",
            "xception (Functional)        (None, 5, 5, 2048)        20861480  \n",
            "_________________________________________________________________\n",
            "global_average_pooling2d_1 ( (None, 2048)              0         \n",
            "_________________________________________________________________\n",
            "dense_1 (Dense)              (None, 10)                20490     \n",
            "=================================================================\n",
            "Total params: 20,881,970\n",
            "Trainable params: 20,490\n",
            "Non-trainable params: 20,861,480\n",
            "_________________________________________________________________\n"
          ],
          "name": "stdout"
        }
      ]
    },
    {
      "cell_type": "code",
      "metadata": {
        "colab": {
          "base_uri": "https://localhost:8080/"
        },
        "id": "hGKoYobykCHl",
        "outputId": "06ff6632-41f8-44be-dc6b-90cc851f24e6"
      },
      "source": [
        "initial_epochs = 50\n",
        "validation_steps = 20\n",
        "\n",
        "loss, accuracy, f1_score, precision, recall  = modelXecption.evaluate(validation_batches, steps = validation_steps)"
      ],
      "execution_count": null,
      "outputs": [
        {
          "output_type": "stream",
          "text": [
            "20/20 [==============================] - 3s 127ms/step - loss: 24.7728 - accuracy: 0.1094 - f1_m: 0.1072 - precision_m: 0.1082 - recall_m: 0.1063\n"
          ],
          "name": "stdout"
        }
      ]
    },
    {
      "cell_type": "code",
      "metadata": {
        "colab": {
          "base_uri": "https://localhost:8080/"
        },
        "id": "oJ_hDoCNkEiS",
        "outputId": "4cd193b0-c2aa-4b3d-ccb9-07d1262cbaba"
      },
      "source": [
        "history = modelXecption.fit(train_batches,\n",
        "                    epochs=initial_epochs,\n",
        "                    validation_data=validation_batches\n",
        "                    )"
      ],
      "execution_count": null,
      "outputs": [
        {
          "output_type": "stream",
          "text": [
            "Epoch 1/50\n",
            "207/207 [==============================] - 32s 153ms/step - loss: 5.2402 - accuracy: 0.2666 - f1_m: 0.2593 - precision_m: 0.2757 - recall_m: 0.2451 - val_loss: 4.7556 - val_accuracy: 0.2804 - val_f1_m: 0.2742 - val_precision_m: 0.2946 - val_recall_m: 0.2569\n",
            "Epoch 2/50\n",
            "207/207 [==============================] - 31s 152ms/step - loss: 4.2797 - accuracy: 0.3122 - f1_m: 0.3038 - precision_m: 0.3264 - recall_m: 0.2848 - val_loss: 4.0949 - val_accuracy: 0.3277 - val_f1_m: 0.3205 - val_precision_m: 0.3476 - val_recall_m: 0.2979\n",
            "Epoch 3/50\n",
            "207/207 [==============================] - 31s 150ms/step - loss: 3.7625 - accuracy: 0.3408 - f1_m: 0.3298 - precision_m: 0.3562 - recall_m: 0.3078 - val_loss: 3.8588 - val_accuracy: 0.3343 - val_f1_m: 0.3254 - val_precision_m: 0.3516 - val_recall_m: 0.3035\n",
            "Epoch 4/50\n",
            "207/207 [==============================] - 31s 150ms/step - loss: 3.4092 - accuracy: 0.3656 - f1_m: 0.3598 - precision_m: 0.3897 - recall_m: 0.3350 - val_loss: 3.4128 - val_accuracy: 0.3646 - val_f1_m: 0.3547 - val_precision_m: 0.3863 - val_recall_m: 0.3290\n",
            "Epoch 5/50\n",
            "207/207 [==============================] - 31s 148ms/step - loss: 3.1499 - accuracy: 0.3790 - f1_m: 0.3720 - precision_m: 0.4032 - recall_m: 0.3461 - val_loss: 3.3071 - val_accuracy: 0.3761 - val_f1_m: 0.3703 - val_precision_m: 0.4015 - val_recall_m: 0.3446\n",
            "Epoch 6/50\n",
            "207/207 [==============================] - 31s 149ms/step - loss: 2.9431 - accuracy: 0.4014 - f1_m: 0.3937 - precision_m: 0.4310 - recall_m: 0.3632 - val_loss: 3.1562 - val_accuracy: 0.3876 - val_f1_m: 0.3830 - val_precision_m: 0.4161 - val_recall_m: 0.3556\n",
            "Epoch 7/50\n",
            "207/207 [==============================] - 30s 147ms/step - loss: 2.7753 - accuracy: 0.4142 - f1_m: 0.4041 - precision_m: 0.4417 - recall_m: 0.3735 - val_loss: 2.9991 - val_accuracy: 0.3895 - val_f1_m: 0.3829 - val_precision_m: 0.4174 - val_recall_m: 0.3546\n",
            "Epoch 8/50\n",
            "207/207 [==============================] - 31s 150ms/step - loss: 2.6210 - accuracy: 0.4300 - f1_m: 0.4211 - precision_m: 0.4630 - recall_m: 0.3873 - val_loss: 2.8825 - val_accuracy: 0.4204 - val_f1_m: 0.4099 - val_precision_m: 0.4445 - val_recall_m: 0.3815\n",
            "Epoch 9/50\n",
            "207/207 [==============================] - 30s 145ms/step - loss: 2.4988 - accuracy: 0.4428 - f1_m: 0.4353 - precision_m: 0.4795 - recall_m: 0.3997 - val_loss: 2.7922 - val_accuracy: 0.4300 - val_f1_m: 0.4238 - val_precision_m: 0.4626 - val_recall_m: 0.3923\n",
            "Epoch 10/50\n",
            "207/207 [==============================] - 30s 146ms/step - loss: 2.3993 - accuracy: 0.4559 - f1_m: 0.4476 - precision_m: 0.4947 - recall_m: 0.4102 - val_loss: 2.6421 - val_accuracy: 0.4355 - val_f1_m: 0.4204 - val_precision_m: 0.4610 - val_recall_m: 0.3871\n",
            "Epoch 11/50\n",
            "207/207 [==============================] - 30s 146ms/step - loss: 2.2916 - accuracy: 0.4651 - f1_m: 0.4550 - precision_m: 0.5025 - recall_m: 0.4169 - val_loss: 2.6449 - val_accuracy: 0.4155 - val_f1_m: 0.4020 - val_precision_m: 0.4463 - val_recall_m: 0.3670\n",
            "Epoch 12/50\n",
            "207/207 [==============================] - 30s 145ms/step - loss: 2.1997 - accuracy: 0.4721 - f1_m: 0.4631 - precision_m: 0.5143 - recall_m: 0.4224 - val_loss: 2.6119 - val_accuracy: 0.4228 - val_f1_m: 0.4157 - val_precision_m: 0.4615 - val_recall_m: 0.3791\n",
            "Epoch 13/50\n",
            "207/207 [==============================] - 30s 146ms/step - loss: 2.1176 - accuracy: 0.4874 - f1_m: 0.4778 - precision_m: 0.5317 - recall_m: 0.4351 - val_loss: 2.5487 - val_accuracy: 0.4300 - val_f1_m: 0.4138 - val_precision_m: 0.4559 - val_recall_m: 0.3803\n",
            "Epoch 14/50\n",
            "207/207 [==============================] - 30s 145ms/step - loss: 2.0491 - accuracy: 0.4877 - f1_m: 0.4784 - precision_m: 0.5326 - recall_m: 0.4356 - val_loss: 2.4582 - val_accuracy: 0.4446 - val_f1_m: 0.4306 - val_precision_m: 0.4753 - val_recall_m: 0.3951\n",
            "Epoch 15/50\n",
            "207/207 [==============================] - 30s 145ms/step - loss: 1.9795 - accuracy: 0.4987 - f1_m: 0.4913 - precision_m: 0.5459 - recall_m: 0.4480 - val_loss: 2.5199 - val_accuracy: 0.4234 - val_f1_m: 0.4200 - val_precision_m: 0.4681 - val_recall_m: 0.3817\n",
            "Epoch 16/50\n",
            "207/207 [==============================] - 30s 146ms/step - loss: 1.9268 - accuracy: 0.5084 - f1_m: 0.4986 - precision_m: 0.5563 - recall_m: 0.4533 - val_loss: 2.4818 - val_accuracy: 0.4385 - val_f1_m: 0.4261 - val_precision_m: 0.4695 - val_recall_m: 0.3911\n",
            "Epoch 17/50\n",
            "207/207 [==============================] - 30s 145ms/step - loss: 1.8645 - accuracy: 0.5175 - f1_m: 0.5057 - precision_m: 0.5629 - recall_m: 0.4606 - val_loss: 2.2936 - val_accuracy: 0.4688 - val_f1_m: 0.4593 - val_precision_m: 0.5039 - val_recall_m: 0.4232\n",
            "Epoch 18/50\n",
            "207/207 [==============================] - 30s 147ms/step - loss: 1.8131 - accuracy: 0.5226 - f1_m: 0.5165 - precision_m: 0.5769 - recall_m: 0.4691 - val_loss: 2.2569 - val_accuracy: 0.4609 - val_f1_m: 0.4525 - val_precision_m: 0.5043 - val_recall_m: 0.4126\n",
            "Epoch 19/50\n",
            "207/207 [==============================] - 30s 146ms/step - loss: 1.7700 - accuracy: 0.5284 - f1_m: 0.5207 - precision_m: 0.5824 - recall_m: 0.4724 - val_loss: 2.3034 - val_accuracy: 0.4640 - val_f1_m: 0.4568 - val_precision_m: 0.5060 - val_recall_m: 0.4174\n",
            "Epoch 20/50\n",
            "207/207 [==============================] - 30s 145ms/step - loss: 1.7156 - accuracy: 0.5319 - f1_m: 0.5251 - precision_m: 0.5891 - recall_m: 0.4752 - val_loss: 2.2958 - val_accuracy: 0.4470 - val_f1_m: 0.4348 - val_precision_m: 0.4822 - val_recall_m: 0.3971\n",
            "Epoch 21/50\n",
            "207/207 [==============================] - 30s 145ms/step - loss: 1.6784 - accuracy: 0.5407 - f1_m: 0.5332 - precision_m: 0.5949 - recall_m: 0.4848 - val_loss: 2.2452 - val_accuracy: 0.4603 - val_f1_m: 0.4625 - val_precision_m: 0.5146 - val_recall_m: 0.4213\n",
            "Epoch 22/50\n",
            "207/207 [==============================] - 30s 145ms/step - loss: 1.6436 - accuracy: 0.5417 - f1_m: 0.5365 - precision_m: 0.6023 - recall_m: 0.4852 - val_loss: 2.1827 - val_accuracy: 0.4700 - val_f1_m: 0.4611 - val_precision_m: 0.5131 - val_recall_m: 0.4206\n",
            "Epoch 23/50\n",
            "207/207 [==============================] - 30s 144ms/step - loss: 1.6030 - accuracy: 0.5432 - f1_m: 0.5405 - precision_m: 0.6073 - recall_m: 0.4886 - val_loss: 2.2322 - val_accuracy: 0.4797 - val_f1_m: 0.4755 - val_precision_m: 0.5267 - val_recall_m: 0.4344\n",
            "Epoch 24/50\n",
            "207/207 [==============================] - 30s 146ms/step - loss: 1.5739 - accuracy: 0.5549 - f1_m: 0.5467 - precision_m: 0.6130 - recall_m: 0.4951 - val_loss: 2.2182 - val_accuracy: 0.4833 - val_f1_m: 0.4791 - val_precision_m: 0.5282 - val_recall_m: 0.4396\n",
            "Epoch 25/50\n",
            "207/207 [==============================] - 30s 147ms/step - loss: 1.5381 - accuracy: 0.5628 - f1_m: 0.5538 - precision_m: 0.6259 - recall_m: 0.4986 - val_loss: 2.2218 - val_accuracy: 0.4718 - val_f1_m: 0.4587 - val_precision_m: 0.5059 - val_recall_m: 0.4207\n",
            "Epoch 26/50\n",
            "207/207 [==============================] - 31s 149ms/step - loss: 1.5119 - accuracy: 0.5612 - f1_m: 0.5561 - precision_m: 0.6263 - recall_m: 0.5018 - val_loss: 2.3062 - val_accuracy: 0.4779 - val_f1_m: 0.4713 - val_precision_m: 0.5139 - val_recall_m: 0.4362\n",
            "Epoch 27/50\n",
            "207/207 [==============================] - 31s 150ms/step - loss: 1.4871 - accuracy: 0.5752 - f1_m: 0.5695 - precision_m: 0.6432 - recall_m: 0.5132 - val_loss: 2.0124 - val_accuracy: 0.4876 - val_f1_m: 0.4797 - val_precision_m: 0.5373 - val_recall_m: 0.4352\n",
            "Epoch 28/50\n",
            "207/207 [==============================] - 32s 153ms/step - loss: 1.4462 - accuracy: 0.5738 - f1_m: 0.5652 - precision_m: 0.6380 - recall_m: 0.5091 - val_loss: 2.1850 - val_accuracy: 0.4688 - val_f1_m: 0.4650 - val_precision_m: 0.5133 - val_recall_m: 0.4262\n",
            "Epoch 29/50\n",
            "207/207 [==============================] - 32s 153ms/step - loss: 1.4230 - accuracy: 0.5762 - f1_m: 0.5673 - precision_m: 0.6407 - recall_m: 0.5104 - val_loss: 2.2438 - val_accuracy: 0.4785 - val_f1_m: 0.4704 - val_precision_m: 0.5151 - val_recall_m: 0.4340\n",
            "Epoch 30/50\n",
            "207/207 [==============================] - 32s 152ms/step - loss: 1.3976 - accuracy: 0.5885 - f1_m: 0.5791 - precision_m: 0.6531 - recall_m: 0.5221 - val_loss: 2.0528 - val_accuracy: 0.4967 - val_f1_m: 0.4857 - val_precision_m: 0.5422 - val_recall_m: 0.4416\n",
            "Epoch 31/50\n",
            "207/207 [==============================] - 32s 152ms/step - loss: 1.3786 - accuracy: 0.5924 - f1_m: 0.5866 - precision_m: 0.6616 - recall_m: 0.5287 - val_loss: 2.0955 - val_accuracy: 0.4864 - val_f1_m: 0.4793 - val_precision_m: 0.5303 - val_recall_m: 0.4386\n",
            "Epoch 32/50\n",
            "207/207 [==============================] - 32s 153ms/step - loss: 1.3523 - accuracy: 0.5958 - f1_m: 0.5904 - precision_m: 0.6628 - recall_m: 0.5341 - val_loss: 2.1916 - val_accuracy: 0.4658 - val_f1_m: 0.4587 - val_precision_m: 0.5039 - val_recall_m: 0.4220\n",
            "Epoch 33/50\n",
            "207/207 [==============================] - 32s 153ms/step - loss: 1.3357 - accuracy: 0.5971 - f1_m: 0.5885 - precision_m: 0.6613 - recall_m: 0.5318 - val_loss: 2.2197 - val_accuracy: 0.4767 - val_f1_m: 0.4786 - val_precision_m: 0.5251 - val_recall_m: 0.4408\n",
            "Epoch 34/50\n",
            "207/207 [==============================] - 32s 154ms/step - loss: 1.3132 - accuracy: 0.6067 - f1_m: 0.5982 - precision_m: 0.6719 - recall_m: 0.5408 - val_loss: 2.0542 - val_accuracy: 0.4827 - val_f1_m: 0.4841 - val_precision_m: 0.5314 - val_recall_m: 0.4458\n",
            "Epoch 35/50\n",
            "207/207 [==============================] - 32s 155ms/step - loss: 1.2961 - accuracy: 0.6039 - f1_m: 0.5964 - precision_m: 0.6740 - recall_m: 0.5366 - val_loss: 1.9970 - val_accuracy: 0.4906 - val_f1_m: 0.4918 - val_precision_m: 0.5438 - val_recall_m: 0.4502\n",
            "Epoch 36/50\n",
            "207/207 [==============================] - 32s 154ms/step - loss: 1.2821 - accuracy: 0.6044 - f1_m: 0.5968 - precision_m: 0.6726 - recall_m: 0.5381 - val_loss: 2.0604 - val_accuracy: 0.4640 - val_f1_m: 0.4690 - val_precision_m: 0.5230 - val_recall_m: 0.4264\n",
            "Epoch 37/50\n",
            "207/207 [==============================] - 32s 154ms/step - loss: 1.2477 - accuracy: 0.6171 - f1_m: 0.6085 - precision_m: 0.6862 - recall_m: 0.5482 - val_loss: 2.0633 - val_accuracy: 0.4779 - val_f1_m: 0.4690 - val_precision_m: 0.5262 - val_recall_m: 0.4245\n",
            "Epoch 38/50\n",
            "207/207 [==============================] - 33s 158ms/step - loss: 1.2385 - accuracy: 0.6221 - f1_m: 0.6144 - precision_m: 0.6905 - recall_m: 0.5550 - val_loss: 2.0134 - val_accuracy: 0.5051 - val_f1_m: 0.4906 - val_precision_m: 0.5441 - val_recall_m: 0.4482\n",
            "Epoch 39/50\n",
            "207/207 [==============================] - 32s 154ms/step - loss: 1.2230 - accuracy: 0.6238 - f1_m: 0.6178 - precision_m: 0.6935 - recall_m: 0.5588 - val_loss: 2.0271 - val_accuracy: 0.5118 - val_f1_m: 0.5059 - val_precision_m: 0.5557 - val_recall_m: 0.4656\n",
            "Epoch 40/50\n",
            "207/207 [==============================] - 32s 154ms/step - loss: 1.2191 - accuracy: 0.6213 - f1_m: 0.6163 - precision_m: 0.6946 - recall_m: 0.5556 - val_loss: 1.9617 - val_accuracy: 0.4985 - val_f1_m: 0.4988 - val_precision_m: 0.5483 - val_recall_m: 0.4584\n",
            "Epoch 41/50\n",
            "207/207 [==============================] - 32s 155ms/step - loss: 1.1953 - accuracy: 0.6285 - f1_m: 0.6193 - precision_m: 0.6956 - recall_m: 0.5603 - val_loss: 1.9915 - val_accuracy: 0.4924 - val_f1_m: 0.4932 - val_precision_m: 0.5476 - val_recall_m: 0.4500\n",
            "Epoch 42/50\n",
            "207/207 [==============================] - 32s 154ms/step - loss: 1.1714 - accuracy: 0.6316 - f1_m: 0.6239 - precision_m: 0.7050 - recall_m: 0.5619 - val_loss: 1.9723 - val_accuracy: 0.4979 - val_f1_m: 0.4834 - val_precision_m: 0.5376 - val_recall_m: 0.4404\n",
            "Epoch 43/50\n",
            "207/207 [==============================] - 32s 154ms/step - loss: 1.1568 - accuracy: 0.6379 - f1_m: 0.6305 - precision_m: 0.7084 - recall_m: 0.5701 - val_loss: 2.0954 - val_accuracy: 0.4773 - val_f1_m: 0.4696 - val_precision_m: 0.5211 - val_recall_m: 0.4290\n",
            "Epoch 44/50\n",
            "207/207 [==============================] - 32s 155ms/step - loss: 1.1520 - accuracy: 0.6430 - f1_m: 0.6361 - precision_m: 0.7125 - recall_m: 0.5764 - val_loss: 2.0687 - val_accuracy: 0.4821 - val_f1_m: 0.4839 - val_precision_m: 0.5337 - val_recall_m: 0.4440\n",
            "Epoch 45/50\n",
            "207/207 [==============================] - 32s 154ms/step - loss: 1.1487 - accuracy: 0.6389 - f1_m: 0.6308 - precision_m: 0.7080 - recall_m: 0.5702 - val_loss: 1.8946 - val_accuracy: 0.5227 - val_f1_m: 0.5094 - val_precision_m: 0.5659 - val_recall_m: 0.4646\n",
            "Epoch 46/50\n",
            "207/207 [==============================] - 32s 154ms/step - loss: 1.1201 - accuracy: 0.6445 - f1_m: 0.6339 - precision_m: 0.7094 - recall_m: 0.5747 - val_loss: 2.2895 - val_accuracy: 0.4603 - val_f1_m: 0.4579 - val_precision_m: 0.4989 - val_recall_m: 0.4243\n",
            "Epoch 47/50\n",
            "207/207 [==============================] - 32s 156ms/step - loss: 1.1048 - accuracy: 0.6480 - f1_m: 0.6412 - precision_m: 0.7192 - recall_m: 0.5806 - val_loss: 1.9387 - val_accuracy: 0.5203 - val_f1_m: 0.5100 - val_precision_m: 0.5629 - val_recall_m: 0.4674\n",
            "Epoch 48/50\n",
            "207/207 [==============================] - 32s 156ms/step - loss: 1.0972 - accuracy: 0.6483 - f1_m: 0.6449 - precision_m: 0.7198 - recall_m: 0.5856 - val_loss: 2.0334 - val_accuracy: 0.5015 - val_f1_m: 0.4955 - val_precision_m: 0.5454 - val_recall_m: 0.4548\n",
            "Epoch 49/50\n",
            "207/207 [==============================] - 32s 157ms/step - loss: 1.0940 - accuracy: 0.6539 - f1_m: 0.6502 - precision_m: 0.7283 - recall_m: 0.5898 - val_loss: 1.9360 - val_accuracy: 0.5064 - val_f1_m: 0.4971 - val_precision_m: 0.5546 - val_recall_m: 0.4516\n",
            "Epoch 50/50\n",
            "207/207 [==============================] - 32s 157ms/step - loss: 1.0763 - accuracy: 0.6571 - f1_m: 0.6505 - precision_m: 0.7283 - recall_m: 0.5899 - val_loss: 1.9306 - val_accuracy: 0.5270 - val_f1_m: 0.5212 - val_precision_m: 0.5795 - val_recall_m: 0.4749\n"
          ],
          "name": "stdout"
        }
      ]
    },
    {
      "cell_type": "code",
      "metadata": {
        "colab": {
          "base_uri": "https://localhost:8080/"
        },
        "id": "2ROY-N6YkJy1",
        "outputId": "23360187-9ed3-4818-cbe8-471ca7a18326"
      },
      "source": [
        "model_file_name = 'model_xception_not_tuning_v3'\n",
        "print(saved_path+model_file_name+'.h5')\n",
        "modelXecption.save(saved_path+model_file_name+'.h5')"
      ],
      "execution_count": null,
      "outputs": [
        {
          "output_type": "stream",
          "text": [
            "/content/drive/My Drive/Colab Notebooks/Thai Dessert Saved Models/model_xception_not_tuning_v3.h5\n"
          ],
          "name": "stdout"
        }
      ]
    },
    {
      "cell_type": "code",
      "metadata": {
        "colab": {
          "base_uri": "https://localhost:8080/"
        },
        "id": "3CYV9JdcTt_S",
        "outputId": "e09fcd07-8047-4fe4-febd-101f85eab958"
      },
      "source": [
        "test_generator = ImageDataGenerator()\n",
        "test_data_generator = test_generator.flow_from_directory(\n",
        "    dataset_test_path,\n",
        "    target_size=(160, 160),\n",
        "    batch_size=32,\n",
        "    shuffle=False)\n",
        "test_steps_per_epoch = np.math.ceil(test_data_generator.samples / test_data_generator.batch_size)\n",
        "\n",
        "predictions = modelXecption.predict_generator(test_data_generator, steps=test_steps_per_epoch)\n",
        "# Get most likely class\n",
        "predicted_classes = np.argmax(predictions, axis=1)\n",
        "true_classes = test_data_generator.classes\n",
        "class_labels = list(test_data_generator.class_indices.keys())  \n",
        "\n",
        "report = classification_report(true_classes, predicted_classes, target_names=class_labels)\n",
        "print(report) "
      ],
      "execution_count": null,
      "outputs": [
        {
          "output_type": "stream",
          "text": [
            "Found 500 images belonging to 10 classes.\n",
            "                         precision    recall  f1-score   support\n",
            "\n",
            "          kanom_bua_loi       0.57      0.72      0.64        50\n",
            "             kanom_chan       0.46      0.70      0.56        50\n",
            "          kanom_dok_jok       0.55      0.74      0.63        50\n",
            "          kanom_kai_tao       0.55      0.46      0.50        50\n",
            "             kanom_krok       0.60      0.58      0.59        50\n",
            "        kanom_phoi_tong       0.46      0.60      0.52        50\n",
            "            kanom_salim       0.64      0.36      0.46        50\n",
            "kanom_sangkhaya_faktong       0.46      0.46      0.46        50\n",
            "         kanom_tong_yib       0.62      0.30      0.41        50\n",
            "         kanom_tong_yod       0.57      0.42      0.48        50\n",
            "\n",
            "               accuracy                           0.53       500\n",
            "              macro avg       0.55      0.53      0.52       500\n",
            "           weighted avg       0.55      0.53      0.52       500\n",
            "\n"
          ],
          "name": "stdout"
        }
      ]
    },
    {
      "cell_type": "code",
      "metadata": {
        "colab": {
          "base_uri": "https://localhost:8080/",
          "height": 437
        },
        "id": "enxGR9dXTwr7",
        "outputId": "6acdba01-c79a-424f-f396-59005e372349"
      },
      "source": [
        "cf_matrix = confusion_matrix(true_classes, predicted_classes, normalize='true')\n",
        "sns.heatmap(cf_matrix, annot=True, cmap='Blues', linewidths=1,xticklabels=class_names,yticklabels=class_names)\n",
        "\n",
        "plt.ylabel('True label')\n",
        "plt.xlabel('Predicted label')\n",
        "plt.title('Xception\\n')\n",
        "plt.show()"
      ],
      "execution_count": null,
      "outputs": [
        {
          "output_type": "display_data",
          "data": {
            "image/png": "[encoded data removed]",
            "text/plain": [
              "<Figure size 432x288 with 2 Axes>"
            ]
          },
          "metadata": {
            "tags": [],
            "needs_background": "light"
          }
        }
      ]
    },
    {
      "cell_type": "markdown",
      "metadata": {
        "id": "ix0DTtj_kSyz"
      },
      "source": [
        "### Fine Tuning\n"
      ]
    },
    {
      "cell_type": "code",
      "metadata": {
        "colab": {
          "base_uri": "https://localhost:8080/"
        },
        "id": "2vyFKejSkV-J",
        "outputId": "1125b078-3d50-4790-d4b5-672e57faf30b"
      },
      "source": [
        "base_model.trainable = True\n",
        "print(\"Number of layers in the base model: \", len(base_model.layers))"
      ],
      "execution_count": null,
      "outputs": [
        {
          "output_type": "stream",
          "text": [
            "Number of layers in the base model:  132\n"
          ],
          "name": "stdout"
        }
      ]
    },
    {
      "cell_type": "code",
      "metadata": {
        "id": "MoNwQalpkYY9"
      },
      "source": [
        "fine_tune_at = 129\n",
        "\n",
        "# Freeze all the layers before the `fine_tune_at` layer\n",
        "for layer in base_model.layers[:fine_tune_at]:\n",
        "  layer.trainable =  False"
      ],
      "execution_count": null,
      "outputs": []
    },
    {
      "cell_type": "code",
      "metadata": {
        "colab": {
          "base_uri": "https://localhost:8080/"
        },
        "id": "1ZLHLz3akcPe",
        "outputId": "d99a7dbc-9879-4c60-eefb-2a6e7ff55fcd"
      },
      "source": [
        "modelXecption.compile(loss='categorical_crossentropy',\n",
        "              optimizer = tf.keras.optimizers.RMSprop(lr=base_learning_rate/10),\n",
        "              metrics=['accuracy',f1_m,precision_m, recall_m])\n",
        "\n",
        "modelXecption.summary()"
      ],
      "execution_count": null,
      "outputs": [
        {
          "output_type": "stream",
          "text": [
            "Model: \"sequential_1\"\n",
            "_________________________________________________________________\n",
            "Layer (type)                 Output Shape              Param #   \n",
            "=================================================================\n",
            "xception (Functional)        (None, 5, 5, 2048)        20861480  \n",
            "_________________________________________________________________\n",
            "global_average_pooling2d_1 ( (None, 2048)              0         \n",
            "_________________________________________________________________\n",
            "dense_1 (Dense)              (None, 10)                20490     \n",
            "=================================================================\n",
            "Total params: 20,881,970\n",
            "Trainable params: 24,586\n",
            "Non-trainable params: 20,857,384\n",
            "_________________________________________________________________\n"
          ],
          "name": "stdout"
        }
      ]
    },
    {
      "cell_type": "code",
      "metadata": {
        "colab": {
          "base_uri": "https://localhost:8080/"
        },
        "id": "6YFyhmSOkelN",
        "outputId": "42390cf4-ceac-48ff-e6ec-fa24f0110d9b"
      },
      "source": [
        "fine_tune_epochs = 30\n",
        "total_epochs =  initial_epochs + fine_tune_epochs\n",
        "\n",
        "filepath = saved_path+\"model_xception_tuned_v3.h5\"\n",
        "checkpoint = ModelCheckpoint(filepath, monitor='loss', verbose=1, save_best_only=True, mode='min')\n",
        "callbacks_list = [checkpoint]\n",
        "\n",
        "history_fine = modelXecption.fit(train_batches,\n",
        "                         epochs=total_epochs,\n",
        "                         initial_epoch =  history.epoch[-1],\n",
        "                         validation_data=validation_batches,\n",
        "                         callbacks=callbacks_list)"
      ],
      "execution_count": null,
      "outputs": [
        {
          "output_type": "stream",
          "text": [
            "Epoch 50/80\n",
            "206/207 [============================>.] - ETA: 0s - loss: 2.0973 - accuracy: 0.2990 - f1_m: 0.0157 - precision_m: 0.2168 - recall_m: 0.0082\n",
            "Epoch 00050: loss improved from inf to 2.09790, saving model to /content/drive/My Drive/Colab Notebooks/Thai Dessert Saved Models/model_xception_tuned_v3.h5\n",
            "207/207 [==============================] - 33s 159ms/step - loss: 2.0979 - accuracy: 0.2989 - f1_m: 0.0156 - precision_m: 0.2158 - recall_m: 0.0082 - val_loss: 2.0614 - val_accuracy: 0.3646 - val_f1_m: 0.0023 - val_precision_m: 0.0385 - val_recall_m: 0.0012\n",
            "Epoch 51/80\n",
            "206/207 [============================>.] - ETA: 0s - loss: 2.0338 - accuracy: 0.3504 - f1_m: 0.0062 - precision_m: 0.0971 - recall_m: 0.0032\n",
            "Epoch 00051: loss improved from 2.09790 to 2.03368, saving model to /content/drive/My Drive/Colab Notebooks/Thai Dessert Saved Models/model_xception_tuned_v3.h5\n",
            "207/207 [==============================] - 34s 164ms/step - loss: 2.0337 - accuracy: 0.3506 - f1_m: 0.0061 - precision_m: 0.0966 - recall_m: 0.0032 - val_loss: 2.0134 - val_accuracy: 0.3816 - val_f1_m: 0.0047 - val_precision_m: 0.0769 - val_recall_m: 0.0024\n",
            "Epoch 52/80\n",
            "206/207 [============================>.] - ETA: 0s - loss: 1.9919 - accuracy: 0.3902 - f1_m: 0.0038 - precision_m: 0.0631 - recall_m: 0.0020\n",
            "Epoch 00052: loss improved from 2.03368 to 1.99147, saving model to /content/drive/My Drive/Colab Notebooks/Thai Dessert Saved Models/model_xception_tuned_v3.h5\n",
            "207/207 [==============================] - 34s 165ms/step - loss: 1.9915 - accuracy: 0.3906 - f1_m: 0.0038 - precision_m: 0.0628 - recall_m: 0.0020 - val_loss: 1.9791 - val_accuracy: 0.4052 - val_f1_m: 0.0035 - val_precision_m: 0.0577 - val_recall_m: 0.0018\n",
            "Epoch 53/80\n",
            "206/207 [============================>.] - ETA: 0s - loss: 1.9628 - accuracy: 0.4169 - f1_m: 0.0024 - precision_m: 0.0388 - recall_m: 0.0012\n",
            "Epoch 00053: loss improved from 1.99147 to 1.96292, saving model to /content/drive/My Drive/Colab Notebooks/Thai Dessert Saved Models/model_xception_tuned_v3.h5\n",
            "207/207 [==============================] - 34s 167ms/step - loss: 1.9629 - accuracy: 0.4173 - f1_m: 0.0023 - precision_m: 0.0386 - recall_m: 0.0012 - val_loss: 1.9539 - val_accuracy: 0.4167 - val_f1_m: 0.0023 - val_precision_m: 0.0385 - val_recall_m: 0.0012\n",
            "Epoch 54/80\n",
            "206/207 [============================>.] - ETA: 0s - loss: 1.9432 - accuracy: 0.4255 - f1_m: 0.0024 - precision_m: 0.0388 - recall_m: 0.0012\n",
            "Epoch 00054: loss improved from 1.96292 to 1.94301, saving model to /content/drive/My Drive/Colab Notebooks/Thai Dessert Saved Models/model_xception_tuned_v3.h5\n",
            "207/207 [==============================] - 35s 167ms/step - loss: 1.9430 - accuracy: 0.4257 - f1_m: 0.0023 - precision_m: 0.0386 - recall_m: 0.0012 - val_loss: 1.9342 - val_accuracy: 0.4210 - val_f1_m: 0.0023 - val_precision_m: 0.0385 - val_recall_m: 0.0012\n",
            "Epoch 55/80\n",
            "206/207 [============================>.] - ETA: 0s - loss: 1.9245 - accuracy: 0.4285 - f1_m: 0.0038 - precision_m: 0.0583 - recall_m: 0.0020\n",
            "Epoch 00055: loss improved from 1.94301 to 1.92460, saving model to /content/drive/My Drive/Colab Notebooks/Thai Dessert Saved Models/model_xception_tuned_v3.h5\n",
            "207/207 [==============================] - 36s 172ms/step - loss: 1.9246 - accuracy: 0.4283 - f1_m: 0.0038 - precision_m: 0.0580 - recall_m: 0.0020 - val_loss: 1.9172 - val_accuracy: 0.4167 - val_f1_m: 0.0035 - val_precision_m: 0.0577 - val_recall_m: 0.0018\n",
            "Epoch 56/80\n",
            "206/207 [============================>.] - ETA: 0s - loss: 1.9067 - accuracy: 0.4308 - f1_m: 0.0038 - precision_m: 0.0631 - recall_m: 0.0020\n",
            "Epoch 00056: loss improved from 1.92460 to 1.90621, saving model to /content/drive/My Drive/Colab Notebooks/Thai Dessert Saved Models/model_xception_tuned_v3.h5\n",
            "207/207 [==============================] - 35s 171ms/step - loss: 1.9062 - accuracy: 0.4313 - f1_m: 0.0038 - precision_m: 0.0628 - recall_m: 0.0020 - val_loss: 1.9013 - val_accuracy: 0.4197 - val_f1_m: 0.0058 - val_precision_m: 0.0962 - val_recall_m: 0.0030\n",
            "Epoch 57/80\n",
            "206/207 [============================>.] - ETA: 0s - loss: 1.8920 - accuracy: 0.4331 - f1_m: 0.0073 - precision_m: 0.1117 - recall_m: 0.0038\n",
            "Epoch 00057: loss improved from 1.90621 to 1.89189, saving model to /content/drive/My Drive/Colab Notebooks/Thai Dessert Saved Models/model_xception_tuned_v3.h5\n",
            "207/207 [==============================] - 35s 170ms/step - loss: 1.8919 - accuracy: 0.4333 - f1_m: 0.0073 - precision_m: 0.1111 - recall_m: 0.0038 - val_loss: 1.8877 - val_accuracy: 0.4222 - val_f1_m: 0.0093 - val_precision_m: 0.1538 - val_recall_m: 0.0048\n",
            "Epoch 58/80\n",
            "206/207 [============================>.] - ETA: 0s - loss: 1.8793 - accuracy: 0.4266 - f1_m: 0.0094 - precision_m: 0.1408 - recall_m: 0.0049\n",
            "Epoch 00058: loss improved from 1.89189 to 1.87923, saving model to /content/drive/My Drive/Colab Notebooks/Thai Dessert Saved Models/model_xception_tuned_v3.h5\n",
            "207/207 [==============================] - 36s 174ms/step - loss: 1.8792 - accuracy: 0.4268 - f1_m: 0.0093 - precision_m: 0.1401 - recall_m: 0.0048 - val_loss: 1.8752 - val_accuracy: 0.4240 - val_f1_m: 0.0162 - val_precision_m: 0.2404 - val_recall_m: 0.0084\n",
            "Epoch 59/80\n",
            "206/207 [============================>.] - ETA: 0s - loss: 1.8719 - accuracy: 0.4260 - f1_m: 0.0149 - precision_m: 0.2282 - recall_m: 0.0077\n",
            "Epoch 00059: loss improved from 1.87923 to 1.87167, saving model to /content/drive/My Drive/Colab Notebooks/Thai Dessert Saved Models/model_xception_tuned_v3.h5\n",
            "207/207 [==============================] - 35s 170ms/step - loss: 1.8717 - accuracy: 0.4262 - f1_m: 0.0149 - precision_m: 0.2271 - recall_m: 0.0077 - val_loss: 1.8632 - val_accuracy: 0.4246 - val_f1_m: 0.0207 - val_precision_m: 0.2788 - val_recall_m: 0.0108\n",
            "Epoch 60/80\n",
            "206/207 [============================>.] - ETA: 0s - loss: 1.8570 - accuracy: 0.4292 - f1_m: 0.0186 - precision_m: 0.2646 - recall_m: 0.0097\n",
            "Epoch 00060: loss improved from 1.87167 to 1.85802, saving model to /content/drive/My Drive/Colab Notebooks/Thai Dessert Saved Models/model_xception_tuned_v3.h5\n",
            "207/207 [==============================] - 35s 171ms/step - loss: 1.8580 - accuracy: 0.4289 - f1_m: 0.0186 - precision_m: 0.2633 - recall_m: 0.0097 - val_loss: 1.8529 - val_accuracy: 0.4276 - val_f1_m: 0.0216 - val_precision_m: 0.2404 - val_recall_m: 0.0114\n",
            "Epoch 61/80\n",
            "206/207 [============================>.] - ETA: 0s - loss: 1.8485 - accuracy: 0.4339 - f1_m: 0.0215 - precision_m: 0.3042 - recall_m: 0.0112\n",
            "Epoch 00061: loss improved from 1.85802 to 1.84851, saving model to /content/drive/My Drive/Colab Notebooks/Thai Dessert Saved Models/model_xception_tuned_v3.h5\n",
            "207/207 [==============================] - 35s 171ms/step - loss: 1.8485 - accuracy: 0.4338 - f1_m: 0.0214 - precision_m: 0.3027 - recall_m: 0.0112 - val_loss: 1.8427 - val_accuracy: 0.4282 - val_f1_m: 0.0252 - val_precision_m: 0.3269 - val_recall_m: 0.0132\n",
            "Epoch 62/80\n",
            "206/207 [============================>.] - ETA: 0s - loss: 1.8359 - accuracy: 0.4307 - f1_m: 0.0280 - precision_m: 0.3932 - recall_m: 0.0146\n",
            "Epoch 00062: loss improved from 1.84851 to 1.83603, saving model to /content/drive/My Drive/Colab Notebooks/Thai Dessert Saved Models/model_xception_tuned_v3.h5\n",
            "207/207 [==============================] - 35s 171ms/step - loss: 1.8360 - accuracy: 0.4309 - f1_m: 0.0278 - precision_m: 0.3913 - recall_m: 0.0145 - val_loss: 1.8337 - val_accuracy: 0.4325 - val_f1_m: 0.0334 - val_precision_m: 0.4519 - val_recall_m: 0.0174\n",
            "Epoch 63/80\n",
            "206/207 [============================>.] - ETA: 0s - loss: 1.8270 - accuracy: 0.4333 - f1_m: 0.0365 - precision_m: 0.4830 - recall_m: 0.0191\n",
            "Epoch 00063: loss improved from 1.83603 to 1.82778, saving model to /content/drive/My Drive/Colab Notebooks/Thai Dessert Saved Models/model_xception_tuned_v3.h5\n",
            "207/207 [==============================] - 36s 173ms/step - loss: 1.8278 - accuracy: 0.4326 - f1_m: 0.0364 - precision_m: 0.4807 - recall_m: 0.0190 - val_loss: 1.8246 - val_accuracy: 0.4325 - val_f1_m: 0.0395 - val_precision_m: 0.4615 - val_recall_m: 0.0208\n",
            "Epoch 64/80\n",
            "206/207 [============================>.] - ETA: 0s - loss: 1.8180 - accuracy: 0.4326 - f1_m: 0.0387 - precision_m: 0.4620 - recall_m: 0.0203\n",
            "Epoch 00064: loss improved from 1.82778 to 1.81811, saving model to /content/drive/My Drive/Colab Notebooks/Thai Dessert Saved Models/model_xception_tuned_v3.h5\n",
            "207/207 [==============================] - 36s 173ms/step - loss: 1.8181 - accuracy: 0.4329 - f1_m: 0.0385 - precision_m: 0.4597 - recall_m: 0.0202 - val_loss: 1.8161 - val_accuracy: 0.4343 - val_f1_m: 0.0419 - val_precision_m: 0.4840 - val_recall_m: 0.0220\n",
            "Epoch 65/80\n",
            "206/207 [============================>.] - ETA: 0s - loss: 1.8164 - accuracy: 0.4270 - f1_m: 0.0410 - precision_m: 0.4943 - recall_m: 0.0215\n",
            "Epoch 00065: loss improved from 1.81811 to 1.81703, saving model to /content/drive/My Drive/Colab Notebooks/Thai Dessert Saved Models/model_xception_tuned_v3.h5\n",
            "207/207 [==============================] - 36s 172ms/step - loss: 1.8170 - accuracy: 0.4266 - f1_m: 0.0415 - precision_m: 0.4968 - recall_m: 0.0218 - val_loss: 1.8079 - val_accuracy: 0.4319 - val_f1_m: 0.0432 - val_precision_m: 0.4776 - val_recall_m: 0.0228\n",
            "Epoch 66/80\n",
            "206/207 [============================>.] - ETA: 0s - loss: 1.8025 - accuracy: 0.4325 - f1_m: 0.0471 - precision_m: 0.5615 - recall_m: 0.0247\n",
            "Epoch 00066: loss improved from 1.81703 to 1.80210, saving model to /content/drive/My Drive/Colab Notebooks/Thai Dessert Saved Models/model_xception_tuned_v3.h5\n",
            "207/207 [==============================] - 36s 173ms/step - loss: 1.8021 - accuracy: 0.4327 - f1_m: 0.0468 - precision_m: 0.5588 - recall_m: 0.0246 - val_loss: 1.8000 - val_accuracy: 0.4331 - val_f1_m: 0.0505 - val_precision_m: 0.5433 - val_recall_m: 0.0269\n",
            "Epoch 67/80\n",
            "206/207 [============================>.] - ETA: 0s - loss: 1.7966 - accuracy: 0.4308 - f1_m: 0.0538 - precision_m: 0.6197 - recall_m: 0.0284\n",
            "Epoch 00067: loss improved from 1.80210 to 1.79621, saving model to /content/drive/My Drive/Colab Notebooks/Thai Dessert Saved Models/model_xception_tuned_v3.h5\n",
            "207/207 [==============================] - 37s 177ms/step - loss: 1.7962 - accuracy: 0.4310 - f1_m: 0.0535 - precision_m: 0.6167 - recall_m: 0.0282 - val_loss: 1.7930 - val_accuracy: 0.4306 - val_f1_m: 0.0561 - val_precision_m: 0.5433 - val_recall_m: 0.0299\n",
            "Epoch 68/80\n",
            "206/207 [============================>.] - ETA: 0s - loss: 1.7909 - accuracy: 0.4333 - f1_m: 0.0529 - precision_m: 0.5785 - recall_m: 0.0281\n",
            "Epoch 00068: loss improved from 1.79621 to 1.79115, saving model to /content/drive/My Drive/Colab Notebooks/Thai Dessert Saved Models/model_xception_tuned_v3.h5\n",
            "207/207 [==============================] - 36s 173ms/step - loss: 1.7911 - accuracy: 0.4332 - f1_m: 0.0527 - precision_m: 0.5757 - recall_m: 0.0279 - val_loss: 1.7861 - val_accuracy: 0.4319 - val_f1_m: 0.0618 - val_precision_m: 0.6378 - val_recall_m: 0.0329\n",
            "Epoch 69/80\n",
            "206/207 [============================>.] - ETA: 0s - loss: 1.7788 - accuracy: 0.4346 - f1_m: 0.0597 - precision_m: 0.6222 - recall_m: 0.0317\n",
            "Epoch 00069: loss improved from 1.79115 to 1.77907, saving model to /content/drive/My Drive/Colab Notebooks/Thai Dessert Saved Models/model_xception_tuned_v3.h5\n",
            "207/207 [==============================] - 36s 173ms/step - loss: 1.7791 - accuracy: 0.4347 - f1_m: 0.0601 - precision_m: 0.6216 - recall_m: 0.0319 - val_loss: 1.7793 - val_accuracy: 0.4325 - val_f1_m: 0.0638 - val_precision_m: 0.5978 - val_recall_m: 0.0343\n",
            "Epoch 70/80\n",
            "206/207 [============================>.] - ETA: 0s - loss: 1.7765 - accuracy: 0.4298 - f1_m: 0.0655 - precision_m: 0.6375 - recall_m: 0.0350\n",
            "Epoch 00070: loss improved from 1.77907 to 1.77667, saving model to /content/drive/My Drive/Colab Notebooks/Thai Dessert Saved Models/model_xception_tuned_v3.h5\n",
            "207/207 [==============================] - 36s 172ms/step - loss: 1.7767 - accuracy: 0.4297 - f1_m: 0.0652 - precision_m: 0.6345 - recall_m: 0.0349 - val_loss: 1.7723 - val_accuracy: 0.4331 - val_f1_m: 0.0676 - val_precision_m: 0.7308 - val_recall_m: 0.0359\n",
            "Epoch 71/80\n",
            "206/207 [============================>.] - ETA: 0s - loss: 1.7705 - accuracy: 0.4377 - f1_m: 0.0663 - precision_m: 0.6590 - recall_m: 0.0353\n",
            "Epoch 00071: loss improved from 1.77667 to 1.77045, saving model to /content/drive/My Drive/Colab Notebooks/Thai Dessert Saved Models/model_xception_tuned_v3.h5\n",
            "207/207 [==============================] - 36s 172ms/step - loss: 1.7705 - accuracy: 0.4380 - f1_m: 0.0660 - precision_m: 0.6558 - recall_m: 0.0352 - val_loss: 1.7659 - val_accuracy: 0.4331 - val_f1_m: 0.0687 - val_precision_m: 0.6442 - val_recall_m: 0.0367\n",
            "Epoch 72/80\n",
            "206/207 [============================>.] - ETA: 0s - loss: 1.7634 - accuracy: 0.4325 - f1_m: 0.0696 - precision_m: 0.6561 - recall_m: 0.0373\n",
            "Epoch 00072: loss improved from 1.77045 to 1.76391, saving model to /content/drive/My Drive/Colab Notebooks/Thai Dessert Saved Models/model_xception_tuned_v3.h5\n",
            "207/207 [==============================] - 36s 173ms/step - loss: 1.7639 - accuracy: 0.4321 - f1_m: 0.0693 - precision_m: 0.6530 - recall_m: 0.0371 - val_loss: 1.7603 - val_accuracy: 0.4313 - val_f1_m: 0.0740 - val_precision_m: 0.6045 - val_recall_m: 0.0399\n",
            "Epoch 73/80\n",
            "206/207 [============================>.] - ETA: 0s - loss: 1.7607 - accuracy: 0.4355 - f1_m: 0.0778 - precision_m: 0.6978 - recall_m: 0.0419\n",
            "Epoch 00073: loss improved from 1.76391 to 1.76075, saving model to /content/drive/My Drive/Colab Notebooks/Thai Dessert Saved Models/model_xception_tuned_v3.h5\n",
            "207/207 [==============================] - 35s 170ms/step - loss: 1.7608 - accuracy: 0.4354 - f1_m: 0.0775 - precision_m: 0.6944 - recall_m: 0.0417 - val_loss: 1.7545 - val_accuracy: 0.4331 - val_f1_m: 0.0768 - val_precision_m: 0.7163 - val_recall_m: 0.0413\n",
            "Epoch 74/80\n",
            "206/207 [============================>.] - ETA: 0s - loss: 1.7528 - accuracy: 0.4413 - f1_m: 0.0760 - precision_m: 0.7193 - recall_m: 0.0407\n",
            "Epoch 00074: loss improved from 1.76075 to 1.75258, saving model to /content/drive/My Drive/Colab Notebooks/Thai Dessert Saved Models/model_xception_tuned_v3.h5\n",
            "207/207 [==============================] - 35s 169ms/step - loss: 1.7526 - accuracy: 0.4412 - f1_m: 0.0757 - precision_m: 0.7158 - recall_m: 0.0405 - val_loss: 1.7494 - val_accuracy: 0.4313 - val_f1_m: 0.0767 - val_precision_m: 0.6426 - val_recall_m: 0.0413\n",
            "Epoch 75/80\n",
            "206/207 [============================>.] - ETA: 0s - loss: 1.7468 - accuracy: 0.4425 - f1_m: 0.0844 - precision_m: 0.7423 - recall_m: 0.0454\n",
            "Epoch 00075: loss improved from 1.75258 to 1.74719, saving model to /content/drive/My Drive/Colab Notebooks/Thai Dessert Saved Models/model_xception_tuned_v3.h5\n",
            "207/207 [==============================] - 36s 175ms/step - loss: 1.7472 - accuracy: 0.4422 - f1_m: 0.0840 - precision_m: 0.7387 - recall_m: 0.0451 - val_loss: 1.7439 - val_accuracy: 0.4337 - val_f1_m: 0.0785 - val_precision_m: 0.7196 - val_recall_m: 0.0421\n",
            "Epoch 76/80\n",
            "206/207 [============================>.] - ETA: 0s - loss: 1.7423 - accuracy: 0.4340 - f1_m: 0.0901 - precision_m: 0.7529 - recall_m: 0.0487\n",
            "Epoch 00076: loss improved from 1.74719 to 1.74251, saving model to /content/drive/My Drive/Colab Notebooks/Thai Dessert Saved Models/model_xception_tuned_v3.h5\n",
            "207/207 [==============================] - 35s 171ms/step - loss: 1.7425 - accuracy: 0.4342 - f1_m: 0.0903 - precision_m: 0.7517 - recall_m: 0.0488 - val_loss: 1.7397 - val_accuracy: 0.4361 - val_f1_m: 0.0809 - val_precision_m: 0.7612 - val_recall_m: 0.0433\n",
            "Epoch 77/80\n",
            "206/207 [============================>.] - ETA: 0s - loss: 1.7354 - accuracy: 0.4389 - f1_m: 0.0886 - precision_m: 0.7525 - recall_m: 0.0478\n",
            "Epoch 00077: loss improved from 1.74251 to 1.73562, saving model to /content/drive/My Drive/Colab Notebooks/Thai Dessert Saved Models/model_xception_tuned_v3.h5\n",
            "207/207 [==============================] - 35s 171ms/step - loss: 1.7356 - accuracy: 0.4388 - f1_m: 0.0882 - precision_m: 0.7489 - recall_m: 0.0476 - val_loss: 1.7344 - val_accuracy: 0.4361 - val_f1_m: 0.0861 - val_precision_m: 0.7216 - val_recall_m: 0.0467\n",
            "Epoch 78/80\n",
            "206/207 [============================>.] - ETA: 0s - loss: 1.7309 - accuracy: 0.4440 - f1_m: 0.0927 - precision_m: 0.7585 - recall_m: 0.0501\n",
            "Epoch 00078: loss improved from 1.73562 to 1.73064, saving model to /content/drive/My Drive/Colab Notebooks/Thai Dessert Saved Models/model_xception_tuned_v3.h5\n",
            "207/207 [==============================] - 35s 169ms/step - loss: 1.7306 - accuracy: 0.4444 - f1_m: 0.0923 - precision_m: 0.7548 - recall_m: 0.0498 - val_loss: 1.7284 - val_accuracy: 0.4343 - val_f1_m: 0.0908 - val_precision_m: 0.7462 - val_recall_m: 0.0493\n",
            "Epoch 79/80\n",
            "206/207 [============================>.] - ETA: 0s - loss: 1.7255 - accuracy: 0.4383 - f1_m: 0.0947 - precision_m: 0.7574 - recall_m: 0.0513\n",
            "Epoch 00079: loss improved from 1.73064 to 1.72557, saving model to /content/drive/My Drive/Colab Notebooks/Thai Dessert Saved Models/model_xception_tuned_v3.h5\n",
            "207/207 [==============================] - 35s 168ms/step - loss: 1.7256 - accuracy: 0.4383 - f1_m: 0.0942 - precision_m: 0.7537 - recall_m: 0.0510 - val_loss: 1.7240 - val_accuracy: 0.4343 - val_f1_m: 0.0979 - val_precision_m: 0.6734 - val_recall_m: 0.0533\n",
            "Epoch 80/80\n",
            "206/207 [============================>.] - ETA: 0s - loss: 1.7243 - accuracy: 0.4430 - f1_m: 0.0998 - precision_m: 0.7549 - recall_m: 0.0542\n",
            "Epoch 00080: loss improved from 1.72557 to 1.72421, saving model to /content/drive/My Drive/Colab Notebooks/Thai Dessert Saved Models/model_xception_tuned_v3.h5\n",
            "207/207 [==============================] - 35s 167ms/step - loss: 1.7242 - accuracy: 0.4430 - f1_m: 0.1000 - precision_m: 0.7561 - recall_m: 0.0543 - val_loss: 1.7196 - val_accuracy: 0.4361 - val_f1_m: 0.1013 - val_precision_m: 0.7750 - val_recall_m: 0.0551\n"
          ],
          "name": "stdout"
        }
      ]
    },
    {
      "cell_type": "code",
      "metadata": {
        "colab": {
          "base_uri": "https://localhost:8080/"
        },
        "id": "xiIO1fgIkh3t",
        "outputId": "a1a3d39f-c68c-49ae-9bc7-ef23530f8756"
      },
      "source": [
        "test_generator = ImageDataGenerator()\n",
        "test_data_generator = test_generator.flow_from_directory(\n",
        "    dataset_test_path,\n",
        "    target_size=(160, 160),\n",
        "    batch_size=32,\n",
        "    shuffle=False)\n",
        "test_steps_per_epoch = np.math.ceil(test_data_generator.samples / test_data_generator.batch_size)\n",
        "\n",
        "predictions = modelXecption.predict_generator(test_data_generator, steps=test_steps_per_epoch)\n",
        "# Get most likely class\n",
        "predicted_classes = np.argmax(predictions, axis=1)\n",
        "true_classes = test_data_generator.classes\n",
        "class_labels = list(test_data_generator.class_indices.keys())  \n",
        "\n",
        "report = classification_report(true_classes, predicted_classes, target_names=class_labels)\n",
        "print(report) "
      ],
      "execution_count": null,
      "outputs": [
        {
          "output_type": "stream",
          "text": [
            "Found 500 images belonging to 10 classes.\n",
            "                         precision    recall  f1-score   support\n",
            "\n",
            "          kanom_bua_loi       0.44      0.78      0.56        50\n",
            "             kanom_chan       0.48      0.28      0.35        50\n",
            "          kanom_dok_jok       0.45      0.56      0.50        50\n",
            "          kanom_kai_tao       0.34      0.54      0.42        50\n",
            "             kanom_krok       0.56      0.48      0.52        50\n",
            "        kanom_phoi_tong       0.37      0.52      0.43        50\n",
            "            kanom_salim       0.50      0.28      0.36        50\n",
            "kanom_sangkhaya_faktong       0.34      0.26      0.30        50\n",
            "         kanom_tong_yib       0.36      0.08      0.13        50\n",
            "         kanom_tong_yod       0.39      0.38      0.38        50\n",
            "\n",
            "               accuracy                           0.42       500\n",
            "              macro avg       0.42      0.42      0.39       500\n",
            "           weighted avg       0.42      0.42      0.39       500\n",
            "\n"
          ],
          "name": "stdout"
        }
      ]
    },
    {
      "cell_type": "code",
      "metadata": {
        "id": "1VBc1rUfkjzF",
        "colab": {
          "base_uri": "https://localhost:8080/",
          "height": 437
        },
        "outputId": "0d822e9e-9fbd-460c-9c66-7ebd803116e9"
      },
      "source": [
        "cf_matrix = confusion_matrix(true_classes, predicted_classes, normalize='true')\n",
        "sns.heatmap(cf_matrix, annot=True, cmap='Blues', linewidths=1,xticklabels=class_names,yticklabels=class_names)\n",
        "\n",
        "plt.ylabel('True label')\n",
        "plt.xlabel('Predicted label')\n",
        "plt.title('Xception\\n')\n",
        "plt.show()"
      ],
      "execution_count": null,
      "outputs": [
        {
          "output_type": "display_data",
          "data": {
            "image/png": "[encoded data removed]",
            "text/plain": [
              "<Figure size 432x288 with 2 Axes>"
            ]
          },
          "metadata": {
            "tags": [],
            "needs_background": "light"
          }
        }
      ]
    },
    {
      "cell_type": "code",
      "metadata": {
        "colab": {
          "base_uri": "https://localhost:8080/",
          "height": 499
        },
        "id": "3RrmrpFGklZi",
        "outputId": "6a22d62f-7cda-414a-92a0-69364358ef55"
      },
      "source": [
        "# Visualize training results\n",
        "acc = history.history['accuracy']\n",
        "val_acc = history.history['val_accuracy']\n",
        "\n",
        "loss = history.history['loss']\n",
        "val_loss = history.history['val_loss']\n",
        "\n",
        "epochs_range = range(50)\n",
        "\n",
        "plt.figure(figsize=(8, 8))\n",
        "plt.subplot(1, 2, 1)\n",
        "plt.plot(epochs_range, acc, label='Training Accuracy')\n",
        "plt.plot(epochs_range, val_acc, label='Validation Accuracy')\n",
        "plt.legend(loc='lower right')\n",
        "plt.title('Training and Validation Accuracy')\n",
        "\n",
        "plt.subplot(1, 2, 2)\n",
        "plt.plot(epochs_range, loss, label='Training Loss')\n",
        "plt.plot(epochs_range, val_loss, label='Validation Loss')\n",
        "plt.legend(loc='upper right')\n",
        "plt.title('Training and Validation Loss')\n",
        "plt.show()"
      ],
      "execution_count": null,
      "outputs": [
        {
          "output_type": "display_data",
          "data": {
            "image/png": "[encoded data removed]",
            "text/plain": [
              "<Figure size 576x576 with 2 Axes>"
            ]
          },
          "metadata": {
            "tags": [],
            "needs_background": "light"
          }
        }
      ]
    },
    {
      "cell_type": "code",
      "metadata": {
        "id": "JN5ERZhhf1kC"
      },
      "source": [
        ""
      ],
      "execution_count": null,
      "outputs": []
    }
  ]
}